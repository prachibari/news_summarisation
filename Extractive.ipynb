{
 "cells": [
  {
   "cell_type": "markdown",
   "metadata": {},
   "source": [
    "Reference\n",
    "https://towardsdatascience.com/understand-text-summarization-and-create-your-own-summarizer-in-python-b26a9f09fc70"
   ]
  },
  {
   "cell_type": "code",
   "execution_count": 60,
   "metadata": {
    "collapsed": false
   },
   "outputs": [
    {
     "name": "stdout",
     "output_type": "stream",
     "text": [
      "[nltk_data] Downloading package punkt to\n",
      "[nltk_data]     C:\\Users\\Prachi\\AppData\\Roaming\\nltk_data...\n",
      "[nltk_data]   Package punkt is already up-to-date!\n",
      "[nltk_data] Downloading package stopwords to\n",
      "[nltk_data]     C:\\Users\\Prachi\\AppData\\Roaming\\nltk_data...\n",
      "[nltk_data]   Package stopwords is already up-to-date!\n"
     ]
    }
   ],
   "source": [
    "# import all the libraries\n",
    "import nltk\n",
    "from nltk.corpus import stopwords\n",
    "from nltk.cluster.util import cosine_distance\n",
    "import numpy as np\n",
    "import networkx as nx\n",
    "import numpy as np\n",
    "import pandas as pd\n",
    "\n",
    "nltk.download('punkt')\n",
    "from nltk.tokenize import sent_tokenize\n",
    "\n",
    "nltk.download('stopwords')\n",
    "from nltk.corpus import stopwords"
   ]
  },
  {
   "cell_type": "code",
   "execution_count": 9,
   "metadata": {
    "collapsed": false
   },
   "outputs": [
    {
     "data": {
      "text/html": [
       "<div>\n",
       "<style>\n",
       "    .dataframe thead tr:only-child th {\n",
       "        text-align: right;\n",
       "    }\n",
       "\n",
       "    .dataframe thead th {\n",
       "        text-align: left;\n",
       "    }\n",
       "\n",
       "    .dataframe tbody tr th {\n",
       "        vertical-align: top;\n",
       "    }\n",
       "</style>\n",
       "<table border=\"1\" class=\"dataframe\">\n",
       "  <thead>\n",
       "    <tr style=\"text-align: right;\">\n",
       "      <th></th>\n",
       "      <th>KEYWORDS</th>\n",
       "      <th>SUMMARY</th>\n",
       "      <th>TEXT</th>\n",
       "      <th>TITLE</th>\n",
       "      <th>URL</th>\n",
       "      <th>Unnamed: 0</th>\n",
       "    </tr>\n",
       "  </thead>\n",
       "  <tbody>\n",
       "    <tr>\n",
       "      <th>0</th>\n",
       "      <td>['young', 'write', 'making', 'worldsubscribe',...</td>\n",
       "      <td>At 15, the young artist would sit in her bedro...</td>\n",
       "      <td>Audio clip: Listen to audio clip.\\n\\nIn this e...</td>\n",
       "      <td>Peppina: Making Make-Believe Believable</td>\n",
       "      <td>https://radio.foxnews.com/2017/11/03/peppina-j...</td>\n",
       "      <td>0.0</td>\n",
       "    </tr>\n",
       "    <tr>\n",
       "      <th>1</th>\n",
       "      <td>['korean', 'defectors', 'vegetation', 'sixth',...</td>\n",
       "      <td>- North Korean defector\"I heard from a relativ...</td>\n",
       "      <td>North Korea’s crippling nuclear test site is t...</td>\n",
       "      <td>North Korea's nuclear test site causing 'defor...</td>\n",
       "      <td>http://www.foxnews.com/world/2017/11/07/north-...</td>\n",
       "      <td>1.0</td>\n",
       "    </tr>\n",
       "    <tr>\n",
       "      <th>2</th>\n",
       "      <td>['johnson', 'political', 'lbj', 'war', 'texas'...</td>\n",
       "      <td>When Vice president Lyndon Baines Johnson acco...</td>\n",
       "      <td>Audio clip: Listen to audio clip.\\n\\nWhen Vice...</td>\n",
       "      <td>The Life And Times Of Lyndon Baines Johnson</td>\n",
       "      <td>https://radio.foxnews.com/2017/10/10/the-life-...</td>\n",
       "      <td>2.0</td>\n",
       "    </tr>\n",
       "    <tr>\n",
       "      <th>3</th>\n",
       "      <td>['tell', 'exposed', 'scandal', 'lies', 'brazil...</td>\n",
       "      <td>NaN</td>\n",
       "      <td>NaN</td>\n",
       "      <td>Exposed: The lies journalists tell in the Braz...</td>\n",
       "      <td>https://video.foxnews.com/v/5638684128001/?pla...</td>\n",
       "      <td>3.0</td>\n",
       "    </tr>\n",
       "    <tr>\n",
       "      <th>4</th>\n",
       "      <td>['ill', 'thanksgiving', '14000', 'thompson', '...</td>\n",
       "      <td>Thousands of strangers have responded to a ter...</td>\n",
       "      <td>Thousands of strangers have responded to a ter...</td>\n",
       "      <td>Terminally ill boy with wish for Christmas car...</td>\n",
       "      <td>https://www.foxnews.com/health/2017/11/07/term...</td>\n",
       "      <td>4.0</td>\n",
       "    </tr>\n",
       "  </tbody>\n",
       "</table>\n",
       "</div>"
      ],
      "text/plain": [
       "                                            KEYWORDS  \\\n",
       "0  ['young', 'write', 'making', 'worldsubscribe',...   \n",
       "1  ['korean', 'defectors', 'vegetation', 'sixth',...   \n",
       "2  ['johnson', 'political', 'lbj', 'war', 'texas'...   \n",
       "3  ['tell', 'exposed', 'scandal', 'lies', 'brazil...   \n",
       "4  ['ill', 'thanksgiving', '14000', 'thompson', '...   \n",
       "\n",
       "                                             SUMMARY  \\\n",
       "0  At 15, the young artist would sit in her bedro...   \n",
       "1  - North Korean defector\"I heard from a relativ...   \n",
       "2  When Vice president Lyndon Baines Johnson acco...   \n",
       "3                                                NaN   \n",
       "4  Thousands of strangers have responded to a ter...   \n",
       "\n",
       "                                                TEXT  \\\n",
       "0  Audio clip: Listen to audio clip.\\n\\nIn this e...   \n",
       "1  North Korea’s crippling nuclear test site is t...   \n",
       "2  Audio clip: Listen to audio clip.\\n\\nWhen Vice...   \n",
       "3                                                NaN   \n",
       "4  Thousands of strangers have responded to a ter...   \n",
       "\n",
       "                                               TITLE  \\\n",
       "0            Peppina: Making Make-Believe Believable   \n",
       "1  North Korea's nuclear test site causing 'defor...   \n",
       "2        The Life And Times Of Lyndon Baines Johnson   \n",
       "3  Exposed: The lies journalists tell in the Braz...   \n",
       "4  Terminally ill boy with wish for Christmas car...   \n",
       "\n",
       "                                                 URL  Unnamed: 0  \n",
       "0  https://radio.foxnews.com/2017/11/03/peppina-j...         0.0  \n",
       "1  http://www.foxnews.com/world/2017/11/07/north-...         1.0  \n",
       "2  https://radio.foxnews.com/2017/10/10/the-life-...         2.0  \n",
       "3  https://video.foxnews.com/v/5638684128001/?pla...         3.0  \n",
       "4  https://www.foxnews.com/health/2017/11/07/term...         4.0  "
      ]
     },
     "execution_count": 9,
     "metadata": {},
     "output_type": "execute_result"
    }
   ],
   "source": [
    "df_articles = pd.read_csv('df_total.csv',encoding='cp1252')\n",
    "df_articles.head()"
   ]
  },
  {
   "cell_type": "code",
   "execution_count": 11,
   "metadata": {
    "collapsed": false
   },
   "outputs": [
    {
     "name": "stdout",
     "output_type": "stream",
     "text": [
      "KEYWORDS           0\n",
      "SUMMARY       113700\n",
      "TEXT          113600\n",
      "TITLE            675\n",
      "URL                0\n",
      "Unnamed: 0         0\n",
      "dtype: int64\n"
     ]
    }
   ],
   "source": [
    "print(df_articles.isnull().sum())"
   ]
  },
  {
   "cell_type": "code",
   "execution_count": 14,
   "metadata": {
    "collapsed": false
   },
   "outputs": [
    {
     "data": {
      "text/plain": [
       "(555510, 6)"
      ]
     },
     "execution_count": 14,
     "metadata": {},
     "output_type": "execute_result"
    }
   ],
   "source": [
    "df_articles.dropna(inplace=True)\n",
    "df_articles.shape"
   ]
  },
  {
   "cell_type": "code",
   "execution_count": null,
   "metadata": {
    "collapsed": false
   },
   "outputs": [],
   "source": []
  },
  {
   "cell_type": "code",
   "execution_count": 201,
   "metadata": {
    "collapsed": false
   },
   "outputs": [
    {
     "data": {
      "text/plain": [
       "5"
      ]
     },
     "execution_count": 201,
     "metadata": {},
     "output_type": "execute_result"
    }
   ],
   "source": [
    "#Rough Work - IGNORE\n",
    "import string\n",
    "sentences = sent_tokenize(df_articles['TEXT'][0])\n",
    "sentences\n",
    "stop_words = stopwords.words('english')\n",
    "sen=[]\n",
    "for sentence in sentences:\n",
    "    #sen.append(sentence.replace(\"[^a-zA-Z]\", \" \").split(\" \"))\n",
    "    #sentence = sentence.replace(\"[^a-zA-Z]\", \" \")\n",
    "    #sentence = sentence.translate(str.maketrans(string.punctuation,' '*len(string.punctuation)))\n",
    "    sentence = sentence.translate(str.maketrans('','',string.punctuation))\n",
    "    #for word in sentence:\n",
    "     #   word = word.strip()\n",
    "    #    print(\"w: \",word)\n",
    "    #\n",
    "    #print(\"sent: \",sentence)\n",
    "    #for word in sentence.split(\" \"):\n",
    "    #    word = word.strip()\n",
    "    #    print(word)\n",
    "        #sen.append(word)\n",
    "    #print(\"len \",(sentence.split()))\n",
    "    sen.append([word for word in sentence.split(\" \") if word not in stop_words])\n",
    "    \n",
    "#df = df_articles.iloc[0:10,:]\n",
    "len(sen[0])"
   ]
  },
  {
   "cell_type": "code",
   "execution_count": 176,
   "metadata": {
    "collapsed": false
   },
   "outputs": [
    {
     "data": {
      "text/plain": [
       "'Audio clip: Listen to audio clip. In this episode, we meet Peppina, a Finnish singer/songwriter turned pop star who was afraid to share her music with her own community, so instead she went online and played her songs for the rest of the world. Subscribe and download on your favorite podcast platform: Apple Podcasts, Google Play, Tune In, Stitcher. At 15, the young artist would sit in her bedroom where she would write and post songs on HitRecord, an online production company founded by the actor and director Joseph Gordon-Levitt. There she would attract the attention of artists around the globe, quickly becoming the most downloaded musician working on the site. The producer, Brad Newman hosts this episode that follows a girl from a small island in Helsinki to the biggest stages in America. As one of her songs suggests, Peppina \"makes make-believe believable.\" Like us on Facebook. Follow us on Twitter and Instagram. We want to know what you think. Pitch us an artist, or simply spread the word and find out more about the series. #childrenofsong'"
      ]
     },
     "execution_count": 176,
     "metadata": {},
     "output_type": "execute_result"
    }
   ],
   "source": [
    "stop_words = stopwords.words('english')\n",
    "sen_new = \" \".join([i for i in sentences if i not in stop_words])\n",
    "sen_new"
   ]
  },
  {
   "cell_type": "code",
   "execution_count": null,
   "metadata": {
    "collapsed": false
   },
   "outputs": [],
   "source": []
  },
  {
   "cell_type": "code",
   "execution_count": 142,
   "metadata": {
    "collapsed": false
   },
   "outputs": [],
   "source": [
    "import re\n",
    "stop_words = set(stopwords.words(\"english\"))\n",
    "def read_article(article):\n",
    "    article_sentences = sent_tokenize(article)\n",
    "    sentences = []\n",
    "    \n",
    "    for sentence in article_sentences:\n",
    "        #sentence = re.sub(r'[_\"\\-;%()|+&=*%.,!?:#$@\\[\\]/]', ' ', sentence)\n",
    "        sentence = sentence.lower()\n",
    "        #print(\"sent \",sentence)\n",
    "        #sentences.append(sentence.replace(\"[^a-zA-Z]\", \" \").split(\" \"))\n",
    "        #sentence = sentence.replace(\"[^a-zA-Z]\", \" \")\n",
    "        sentence = entence.translate(str.maketrans('','',string.punctuation))\n",
    "        sentences.append([word for word in sentence.split(\" \") if word not in stop_words])\n",
    "        #sentences.append(sentence.split(\" \"))\n",
    "    return sentences"
   ]
  },
  {
   "cell_type": "code",
   "execution_count": 116,
   "metadata": {
    "collapsed": false
   },
   "outputs": [],
   "source": [
    "def sentence_similarity(sent1,sent2):\n",
    "    stops = set(stopwords.words(\"english\"))\n",
    "    all_words = list(set(sent1+sent2))\n",
    "    \n",
    "    vector1 = np.zeros([len(all_words)])\n",
    "    vector2 = np.zeros([len(all_words)])\n",
    "    \n",
    "    #build vector for the first sentence\n",
    "    for word in sent1:\n",
    "        if word in stops:\n",
    "            continue\n",
    "        vector1[all_words.index(word)] += 1\n",
    "        \n",
    "    # build the vector for the second sentence\n",
    "    for word in sent2:\n",
    "        if word in stops:\n",
    "            continue\n",
    "        vector2[all_words.index(word)] += 1\n",
    " \n",
    "    #print(\"cosine distance between {0} and {1} is {2}\".format(vector1,vector2,1 - cosine_distance(vector1, vector2)))\n",
    "    #NLTK implements cosine_distance, which is 1 - cosine_similarity\n",
    "    return 1 - cosine_distance(vector1, vector2)"
   ]
  },
  {
   "cell_type": "code",
   "execution_count": 136,
   "metadata": {
    "collapsed": true
   },
   "outputs": [],
   "source": [
    "def build_similarity_matrix(sentences):\n",
    "    similarity_matrix = np.zeros([len(sentences),len(sentences)])\n",
    "    \n",
    "    for idx1 in range(len(sentences)):\n",
    "        for idx2 in range(len(sentences)):\n",
    "            if idx1 == idx2:\n",
    "                continue\n",
    "            similarity_matrix[idx1][idx2] = sentence_similarity(sentences[idx1],sentences[idx2])\n",
    "            \n",
    "    return np.asmatrix(similarity_matrix)"
   ]
  },
  {
   "cell_type": "code",
   "execution_count": 148,
   "metadata": {
    "collapsed": false
   },
   "outputs": [],
   "source": [
    "import operator\n",
    "import collections\n",
    "\n",
    "def generate_summary(top_n=5):\n",
    "    \n",
    "    for index,row in df_articles.iterrows():\n",
    "        summarize_sentences = []\n",
    "        summary=[]\n",
    "        \n",
    "        text = str(df_articles.loc[index,'TEXT'])\n",
    "        #text = str(df_articles['TEXT'][0])\n",
    "        sentences = read_article(text)\n",
    "    \n",
    "        # Step 2 - Generate Similary Martix across sentences\n",
    "        sentence_similarity_matrix = build_similarity_matrix(sentences)\n",
    "        #print(\"sent sim mat \",sentence_similarity_matrix)\n",
    "\n",
    "        # Step 3 - Rank sentences in similarity martix\n",
    "        sentence_similarity_graph = nx.from_numpy_matrix(sentence_similarity_matrix)\n",
    "        #print(\"sent sim graph\",sentence_similarity_graph)\n",
    "        scores = nx.pagerank(sentence_similarity_graph)\n",
    "        #print(\"scores\",scores)\n",
    "\n",
    "         # Step 4 - Sort the rank and pick top sentences\n",
    "        #ranked_sentences = sorted(((scores[i,s]) for i,s in enumerate(sentences)), reverse=True)\n",
    "        ranked_sentences = sorted(scores.items(), key=operator.itemgetter(1),reverse=True)[:top_n]\n",
    "        ranked_dict = collections.OrderedDict(ranked_sentences)\n",
    "        #print(\"Indexes of top ranked_sentence order are \", ranked_dict)   \n",
    "\n",
    "        for key in ranked_dict.keys():\n",
    "            summarize_sentences.append(\" \".join(sentences[key]))\n",
    "        summary.append(\" \".join(summarize_sentences))\n",
    "        \n",
    "        #df_articles.loc[index,'SUMMARY_GEN'] = summary[0]\n",
    "        return df_articles"
   ]
  },
  {
   "cell_type": "code",
   "execution_count": 151,
   "metadata": {
    "collapsed": false
   },
   "outputs": [
    {
     "name": "stdout",
     "output_type": "stream",
     "text": [
      "start of generating summary  2019-04-18 11:06:51.747567\n",
      "sent  audio clip: listen to audio clip.\n",
      "sent  in this episode, we meet peppina, a finnish singer/songwriter turned pop star who was afraid to share her music with her own community, so instead she went online and played her songs for the rest of the world.\n",
      "sent  subscribe and download on your favorite podcast platform: apple podcasts, google play, tune in, stitcher.\n",
      "sent  at 15, the young artist would sit in her bedroom where she would write and post songs on hitrecord, an online production company founded by the actor and director joseph gordon-levitt.\n",
      "sent  there she would attract the attention of artists around the globe, quickly becoming the most downloaded musician working on the site.\n",
      "sent  the producer, brad newman hosts this episode that follows a girl from a small island in helsinki to the biggest stages in america.\n",
      "sent  as one of her songs suggests, peppina \"makes make-believe believable.\"\n",
      "sent  like us on facebook.\n",
      "sent  follow us on twitter and instagram.\n",
      "sent  we want to know what you think.\n",
      "sent  pitch us an artist, or simply spread the word and find out more about the series.\n",
      "sent  #childrenofsong\n",
      "sentences  ['Audio', 'clip:', 'Listen', 'to', 'audio', 'clip.']\n",
      "sentences  ['Audio', 'clip:', 'Listen', 'to', 'audio', 'clip.']\n",
      "sentences  ['Audio', 'clip:', 'Listen', 'to', 'audio', 'clip.']\n",
      "sentences  ['Audio', 'clip:', 'Listen', 'to', 'audio', 'clip.']\n",
      "sentences  ['Audio', 'clip:', 'Listen', 'to', 'audio', 'clip.']\n",
      "sentences  ['Audio', 'clip:', 'Listen', 'to', 'audio', 'clip.']\n",
      "sentences  ['Audio', 'clip:', 'Listen', 'to', 'audio', 'clip.']\n",
      "sentences  ['Audio', 'clip:', 'Listen', 'to', 'audio', 'clip.']\n",
      "sentences  ['Audio', 'clip:', 'Listen', 'to', 'audio', 'clip.']\n",
      "sentences  ['Audio', 'clip:', 'Listen', 'to', 'audio', 'clip.']\n",
      "sentences  ['Audio', 'clip:', 'Listen', 'to', 'audio', 'clip.']\n",
      "sentences  ['In', 'this', 'episode,', 'we', 'meet', 'Peppina,', 'a', 'Finnish', 'singer/songwriter', 'turned', 'pop', 'star', 'who', 'was', 'afraid', 'to', 'share', 'her', 'music', 'with', 'her', 'own', 'community,', 'so', 'instead', 'she', 'went', 'online', 'and', 'played', 'her', 'songs', 'for', 'the', 'rest', 'of', 'the', 'world.']\n",
      "sentences  ['In', 'this', 'episode,', 'we', 'meet', 'Peppina,', 'a', 'Finnish', 'singer/songwriter', 'turned', 'pop', 'star', 'who', 'was', 'afraid', 'to', 'share', 'her', 'music', 'with', 'her', 'own', 'community,', 'so', 'instead', 'she', 'went', 'online', 'and', 'played', 'her', 'songs', 'for', 'the', 'rest', 'of', 'the', 'world.']\n",
      "sentences  ['In', 'this', 'episode,', 'we', 'meet', 'Peppina,', 'a', 'Finnish', 'singer/songwriter', 'turned', 'pop', 'star', 'who', 'was', 'afraid', 'to', 'share', 'her', 'music', 'with', 'her', 'own', 'community,', 'so', 'instead', 'she', 'went', 'online', 'and', 'played', 'her', 'songs', 'for', 'the', 'rest', 'of', 'the', 'world.']\n",
      "sentences  ['In', 'this', 'episode,', 'we', 'meet', 'Peppina,', 'a', 'Finnish', 'singer/songwriter', 'turned', 'pop', 'star', 'who', 'was', 'afraid', 'to', 'share', 'her', 'music', 'with', 'her', 'own', 'community,', 'so', 'instead', 'she', 'went', 'online', 'and', 'played', 'her', 'songs', 'for', 'the', 'rest', 'of', 'the', 'world.']\n",
      "sentences  ['In', 'this', 'episode,', 'we', 'meet', 'Peppina,', 'a', 'Finnish', 'singer/songwriter', 'turned', 'pop', 'star', 'who', 'was', 'afraid', 'to', 'share', 'her', 'music', 'with', 'her', 'own', 'community,', 'so', 'instead', 'she', 'went', 'online', 'and', 'played', 'her', 'songs', 'for', 'the', 'rest', 'of', 'the', 'world.']\n",
      "sentences  ['In', 'this', 'episode,', 'we', 'meet', 'Peppina,', 'a', 'Finnish', 'singer/songwriter', 'turned', 'pop', 'star', 'who', 'was', 'afraid', 'to', 'share', 'her', 'music', 'with', 'her', 'own', 'community,', 'so', 'instead', 'she', 'went', 'online', 'and', 'played', 'her', 'songs', 'for', 'the', 'rest', 'of', 'the', 'world.']\n",
      "sentences  ['In', 'this', 'episode,', 'we', 'meet', 'Peppina,', 'a', 'Finnish', 'singer/songwriter', 'turned', 'pop', 'star', 'who', 'was', 'afraid', 'to', 'share', 'her', 'music', 'with', 'her', 'own', 'community,', 'so', 'instead', 'she', 'went', 'online', 'and', 'played', 'her', 'songs', 'for', 'the', 'rest', 'of', 'the', 'world.']\n",
      "sentences  ['In', 'this', 'episode,', 'we', 'meet', 'Peppina,', 'a', 'Finnish', 'singer/songwriter', 'turned', 'pop', 'star', 'who', 'was', 'afraid', 'to', 'share', 'her', 'music', 'with', 'her', 'own', 'community,', 'so', 'instead', 'she', 'went', 'online', 'and', 'played', 'her', 'songs', 'for', 'the', 'rest', 'of', 'the', 'world.']\n",
      "sentences  ['In', 'this', 'episode,', 'we', 'meet', 'Peppina,', 'a', 'Finnish', 'singer/songwriter', 'turned', 'pop', 'star', 'who', 'was', 'afraid', 'to', 'share', 'her', 'music', 'with', 'her', 'own', 'community,', 'so', 'instead', 'she', 'went', 'online', 'and', 'played', 'her', 'songs', 'for', 'the', 'rest', 'of', 'the', 'world.']\n",
      "sentences  ['In', 'this', 'episode,', 'we', 'meet', 'Peppina,', 'a', 'Finnish', 'singer/songwriter', 'turned', 'pop', 'star', 'who', 'was', 'afraid', 'to', 'share', 'her', 'music', 'with', 'her', 'own', 'community,', 'so', 'instead', 'she', 'went', 'online', 'and', 'played', 'her', 'songs', 'for', 'the', 'rest', 'of', 'the', 'world.']\n",
      "sentences  ['In', 'this', 'episode,', 'we', 'meet', 'Peppina,', 'a', 'Finnish', 'singer/songwriter', 'turned', 'pop', 'star', 'who', 'was', 'afraid', 'to', 'share', 'her', 'music', 'with', 'her', 'own', 'community,', 'so', 'instead', 'she', 'went', 'online', 'and', 'played', 'her', 'songs', 'for', 'the', 'rest', 'of', 'the', 'world.']\n",
      "sentences  ['Subscribe', 'and', 'download', 'on', 'your', 'favorite', 'podcast', 'platform:', 'Apple', 'Podcasts,', 'Google', 'Play,', 'Tune', 'In,', 'Stitcher.']\n",
      "sentences  ['Subscribe', 'and', 'download', 'on', 'your', 'favorite', 'podcast', 'platform:', 'Apple', 'Podcasts,', 'Google', 'Play,', 'Tune', 'In,', 'Stitcher.']\n",
      "sentences  ['Subscribe', 'and', 'download', 'on', 'your', 'favorite', 'podcast', 'platform:', 'Apple', 'Podcasts,', 'Google', 'Play,', 'Tune', 'In,', 'Stitcher.']\n",
      "sentences  ['Subscribe', 'and', 'download', 'on', 'your', 'favorite', 'podcast', 'platform:', 'Apple', 'Podcasts,', 'Google', 'Play,', 'Tune', 'In,', 'Stitcher.']\n",
      "sentences  ['Subscribe', 'and', 'download', 'on', 'your', 'favorite', 'podcast', 'platform:', 'Apple', 'Podcasts,', 'Google', 'Play,', 'Tune', 'In,', 'Stitcher.']\n",
      "sentences  ['Subscribe', 'and', 'download', 'on', 'your', 'favorite', 'podcast', 'platform:', 'Apple', 'Podcasts,', 'Google', 'Play,', 'Tune', 'In,', 'Stitcher.']\n",
      "sentences  ['Subscribe', 'and', 'download', 'on', 'your', 'favorite', 'podcast', 'platform:', 'Apple', 'Podcasts,', 'Google', 'Play,', 'Tune', 'In,', 'Stitcher.']\n",
      "sentences  ['Subscribe', 'and', 'download', 'on', 'your', 'favorite', 'podcast', 'platform:', 'Apple', 'Podcasts,', 'Google', 'Play,', 'Tune', 'In,', 'Stitcher.']\n",
      "sentences  ['Subscribe', 'and', 'download', 'on', 'your', 'favorite', 'podcast', 'platform:', 'Apple', 'Podcasts,', 'Google', 'Play,', 'Tune', 'In,', 'Stitcher.']\n",
      "sentences  ['Subscribe', 'and', 'download', 'on', 'your', 'favorite', 'podcast', 'platform:', 'Apple', 'Podcasts,', 'Google', 'Play,', 'Tune', 'In,', 'Stitcher.']\n",
      "sentences  ['Subscribe', 'and', 'download', 'on', 'your', 'favorite', 'podcast', 'platform:', 'Apple', 'Podcasts,', 'Google', 'Play,', 'Tune', 'In,', 'Stitcher.']\n",
      "sentences  ['At', '15,', 'the', 'young', 'artist', 'would', 'sit', 'in', 'her', 'bedroom', 'where', 'she', 'would', 'write', 'and', 'post', 'songs', 'on', 'HitRecord,', 'an', 'online', 'production', 'company', 'founded', 'by', 'the', 'actor', 'and', 'director', 'Joseph', 'Gordon-Levitt.']\n",
      "sentences  ['At', '15,', 'the', 'young', 'artist', 'would', 'sit', 'in', 'her', 'bedroom', 'where', 'she', 'would', 'write', 'and', 'post', 'songs', 'on', 'HitRecord,', 'an', 'online', 'production', 'company', 'founded', 'by', 'the', 'actor', 'and', 'director', 'Joseph', 'Gordon-Levitt.']\n",
      "sentences  ['At', '15,', 'the', 'young', 'artist', 'would', 'sit', 'in', 'her', 'bedroom', 'where', 'she', 'would', 'write', 'and', 'post', 'songs', 'on', 'HitRecord,', 'an', 'online', 'production', 'company', 'founded', 'by', 'the', 'actor', 'and', 'director', 'Joseph', 'Gordon-Levitt.']\n",
      "sentences  ['At', '15,', 'the', 'young', 'artist', 'would', 'sit', 'in', 'her', 'bedroom', 'where', 'she', 'would', 'write', 'and', 'post', 'songs', 'on', 'HitRecord,', 'an', 'online', 'production', 'company', 'founded', 'by', 'the', 'actor', 'and', 'director', 'Joseph', 'Gordon-Levitt.']\n",
      "sentences  ['At', '15,', 'the', 'young', 'artist', 'would', 'sit', 'in', 'her', 'bedroom', 'where', 'she', 'would', 'write', 'and', 'post', 'songs', 'on', 'HitRecord,', 'an', 'online', 'production', 'company', 'founded', 'by', 'the', 'actor', 'and', 'director', 'Joseph', 'Gordon-Levitt.']\n",
      "sentences  ['At', '15,', 'the', 'young', 'artist', 'would', 'sit', 'in', 'her', 'bedroom', 'where', 'she', 'would', 'write', 'and', 'post', 'songs', 'on', 'HitRecord,', 'an', 'online', 'production', 'company', 'founded', 'by', 'the', 'actor', 'and', 'director', 'Joseph', 'Gordon-Levitt.']\n",
      "sentences  ['At', '15,', 'the', 'young', 'artist', 'would', 'sit', 'in', 'her', 'bedroom', 'where', 'she', 'would', 'write', 'and', 'post', 'songs', 'on', 'HitRecord,', 'an', 'online', 'production', 'company', 'founded', 'by', 'the', 'actor', 'and', 'director', 'Joseph', 'Gordon-Levitt.']\n",
      "sentences  ['At', '15,', 'the', 'young', 'artist', 'would', 'sit', 'in', 'her', 'bedroom', 'where', 'she', 'would', 'write', 'and', 'post', 'songs', 'on', 'HitRecord,', 'an', 'online', 'production', 'company', 'founded', 'by', 'the', 'actor', 'and', 'director', 'Joseph', 'Gordon-Levitt.']\n",
      "sentences  ['At', '15,', 'the', 'young', 'artist', 'would', 'sit', 'in', 'her', 'bedroom', 'where', 'she', 'would', 'write', 'and', 'post', 'songs', 'on', 'HitRecord,', 'an', 'online', 'production', 'company', 'founded', 'by', 'the', 'actor', 'and', 'director', 'Joseph', 'Gordon-Levitt.']\n",
      "sentences  ['At', '15,', 'the', 'young', 'artist', 'would', 'sit', 'in', 'her', 'bedroom', 'where', 'she', 'would', 'write', 'and', 'post', 'songs', 'on', 'HitRecord,', 'an', 'online', 'production', 'company', 'founded', 'by', 'the', 'actor', 'and', 'director', 'Joseph', 'Gordon-Levitt.']\n",
      "sentences  ['At', '15,', 'the', 'young', 'artist', 'would', 'sit', 'in', 'her', 'bedroom', 'where', 'she', 'would', 'write', 'and', 'post', 'songs', 'on', 'HitRecord,', 'an', 'online', 'production', 'company', 'founded', 'by', 'the', 'actor', 'and', 'director', 'Joseph', 'Gordon-Levitt.']\n",
      "sentences  ['There', 'she', 'would', 'attract', 'the', 'attention', 'of', 'artists', 'around', 'the', 'globe,', 'quickly', 'becoming', 'the', 'most', 'downloaded', 'musician', 'working', 'on', 'the', 'site.']\n",
      "sentences  ['There', 'she', 'would', 'attract', 'the', 'attention', 'of', 'artists', 'around', 'the', 'globe,', 'quickly', 'becoming', 'the', 'most', 'downloaded', 'musician', 'working', 'on', 'the', 'site.']\n",
      "sentences  ['There', 'she', 'would', 'attract', 'the', 'attention', 'of', 'artists', 'around', 'the', 'globe,', 'quickly', 'becoming', 'the', 'most', 'downloaded', 'musician', 'working', 'on', 'the', 'site.']\n",
      "sentences  ['There', 'she', 'would', 'attract', 'the', 'attention', 'of', 'artists', 'around', 'the', 'globe,', 'quickly', 'becoming', 'the', 'most', 'downloaded', 'musician', 'working', 'on', 'the', 'site.']\n",
      "sentences  ['There', 'she', 'would', 'attract', 'the', 'attention', 'of', 'artists', 'around', 'the', 'globe,', 'quickly', 'becoming', 'the', 'most', 'downloaded', 'musician', 'working', 'on', 'the', 'site.']\n",
      "sentences  ['There', 'she', 'would', 'attract', 'the', 'attention', 'of', 'artists', 'around', 'the', 'globe,', 'quickly', 'becoming', 'the', 'most', 'downloaded', 'musician', 'working', 'on', 'the', 'site.']\n",
      "sentences  ['There', 'she', 'would', 'attract', 'the', 'attention', 'of', 'artists', 'around', 'the', 'globe,', 'quickly', 'becoming', 'the', 'most', 'downloaded', 'musician', 'working', 'on', 'the', 'site.']\n",
      "sentences  ['There', 'she', 'would', 'attract', 'the', 'attention', 'of', 'artists', 'around', 'the', 'globe,', 'quickly', 'becoming', 'the', 'most', 'downloaded', 'musician', 'working', 'on', 'the', 'site.']\n",
      "sentences  ['There', 'she', 'would', 'attract', 'the', 'attention', 'of', 'artists', 'around', 'the', 'globe,', 'quickly', 'becoming', 'the', 'most', 'downloaded', 'musician', 'working', 'on', 'the', 'site.']\n",
      "sentences  ['There', 'she', 'would', 'attract', 'the', 'attention', 'of', 'artists', 'around', 'the', 'globe,', 'quickly', 'becoming', 'the', 'most', 'downloaded', 'musician', 'working', 'on', 'the', 'site.']\n",
      "sentences  ['There', 'she', 'would', 'attract', 'the', 'attention', 'of', 'artists', 'around', 'the', 'globe,', 'quickly', 'becoming', 'the', 'most', 'downloaded', 'musician', 'working', 'on', 'the', 'site.']\n",
      "sentences  ['The', 'producer,', 'Brad', 'Newman', 'hosts', 'this', 'episode', 'that', 'follows', 'a', 'girl', 'from', 'a', 'small', 'island', 'in', 'Helsinki', 'to', 'the', 'biggest', 'stages', 'in', 'America.']\n",
      "sentences  ['The', 'producer,', 'Brad', 'Newman', 'hosts', 'this', 'episode', 'that', 'follows', 'a', 'girl', 'from', 'a', 'small', 'island', 'in', 'Helsinki', 'to', 'the', 'biggest', 'stages', 'in', 'America.']\n",
      "sentences  ['The', 'producer,', 'Brad', 'Newman', 'hosts', 'this', 'episode', 'that', 'follows', 'a', 'girl', 'from', 'a', 'small', 'island', 'in', 'Helsinki', 'to', 'the', 'biggest', 'stages', 'in', 'America.']\n",
      "sentences  ['The', 'producer,', 'Brad', 'Newman', 'hosts', 'this', 'episode', 'that', 'follows', 'a', 'girl', 'from', 'a', 'small', 'island', 'in', 'Helsinki', 'to', 'the', 'biggest', 'stages', 'in', 'America.']\n",
      "sentences  ['The', 'producer,', 'Brad', 'Newman', 'hosts', 'this', 'episode', 'that', 'follows', 'a', 'girl', 'from', 'a', 'small', 'island', 'in', 'Helsinki', 'to', 'the', 'biggest', 'stages', 'in', 'America.']\n",
      "sentences  ['The', 'producer,', 'Brad', 'Newman', 'hosts', 'this', 'episode', 'that', 'follows', 'a', 'girl', 'from', 'a', 'small', 'island', 'in', 'Helsinki', 'to', 'the', 'biggest', 'stages', 'in', 'America.']\n",
      "sentences  ['The', 'producer,', 'Brad', 'Newman', 'hosts', 'this', 'episode', 'that', 'follows', 'a', 'girl', 'from', 'a', 'small', 'island', 'in', 'Helsinki', 'to', 'the', 'biggest', 'stages', 'in', 'America.']\n",
      "sentences  ['The', 'producer,', 'Brad', 'Newman', 'hosts', 'this', 'episode', 'that', 'follows', 'a', 'girl', 'from', 'a', 'small', 'island', 'in', 'Helsinki', 'to', 'the', 'biggest', 'stages', 'in', 'America.']\n",
      "sentences  ['The', 'producer,', 'Brad', 'Newman', 'hosts', 'this', 'episode', 'that', 'follows', 'a', 'girl', 'from', 'a', 'small', 'island', 'in', 'Helsinki', 'to', 'the', 'biggest', 'stages', 'in', 'America.']\n",
      "sentences  ['The', 'producer,', 'Brad', 'Newman', 'hosts', 'this', 'episode', 'that', 'follows', 'a', 'girl', 'from', 'a', 'small', 'island', 'in', 'Helsinki', 'to', 'the', 'biggest', 'stages', 'in', 'America.']\n",
      "sentences  ['The', 'producer,', 'Brad', 'Newman', 'hosts', 'this', 'episode', 'that', 'follows', 'a', 'girl', 'from', 'a', 'small', 'island', 'in', 'Helsinki', 'to', 'the', 'biggest', 'stages', 'in', 'America.']\n",
      "sentences  ['As', 'one', 'of', 'her', 'songs', 'suggests,', 'Peppina', '\"makes', 'make-believe', 'believable.\"']\n",
      "sentences  ['As', 'one', 'of', 'her', 'songs', 'suggests,', 'Peppina', '\"makes', 'make-believe', 'believable.\"']\n",
      "sentences  ['As', 'one', 'of', 'her', 'songs', 'suggests,', 'Peppina', '\"makes', 'make-believe', 'believable.\"']\n",
      "sentences  ['As', 'one', 'of', 'her', 'songs', 'suggests,', 'Peppina', '\"makes', 'make-believe', 'believable.\"']\n",
      "sentences  ['As', 'one', 'of', 'her', 'songs', 'suggests,', 'Peppina', '\"makes', 'make-believe', 'believable.\"']\n",
      "sentences  ['As', 'one', 'of', 'her', 'songs', 'suggests,', 'Peppina', '\"makes', 'make-believe', 'believable.\"']\n",
      "sentences  ['As', 'one', 'of', 'her', 'songs', 'suggests,', 'Peppina', '\"makes', 'make-believe', 'believable.\"']\n",
      "sentences  ['As', 'one', 'of', 'her', 'songs', 'suggests,', 'Peppina', '\"makes', 'make-believe', 'believable.\"']\n",
      "sentences  ['As', 'one', 'of', 'her', 'songs', 'suggests,', 'Peppina', '\"makes', 'make-believe', 'believable.\"']\n",
      "sentences  ['As', 'one', 'of', 'her', 'songs', 'suggests,', 'Peppina', '\"makes', 'make-believe', 'believable.\"']\n",
      "sentences  ['As', 'one', 'of', 'her', 'songs', 'suggests,', 'Peppina', '\"makes', 'make-believe', 'believable.\"']\n",
      "sentences  ['Like', 'us', 'on', 'Facebook.']\n",
      "sentences  ['Like', 'us', 'on', 'Facebook.']\n",
      "sentences  ['Like', 'us', 'on', 'Facebook.']\n",
      "sentences  ['Like', 'us', 'on', 'Facebook.']\n",
      "sentences  ['Like', 'us', 'on', 'Facebook.']\n",
      "sentences  ['Like', 'us', 'on', 'Facebook.']\n",
      "sentences  ['Like', 'us', 'on', 'Facebook.']\n",
      "sentences  ['Like', 'us', 'on', 'Facebook.']\n",
      "sentences  ['Like', 'us', 'on', 'Facebook.']\n",
      "sentences  ['Like', 'us', 'on', 'Facebook.']\n",
      "sentences  ['Like', 'us', 'on', 'Facebook.']\n",
      "sentences  ['Follow', 'us', 'on', 'Twitter', 'and', 'Instagram.']\n",
      "sentences  ['Follow', 'us', 'on', 'Twitter', 'and', 'Instagram.']\n",
      "sentences  ['Follow', 'us', 'on', 'Twitter', 'and', 'Instagram.']\n",
      "sentences  ['Follow', 'us', 'on', 'Twitter', 'and', 'Instagram.']\n",
      "sentences  ['Follow', 'us', 'on', 'Twitter', 'and', 'Instagram.']\n",
      "sentences  ['Follow', 'us', 'on', 'Twitter', 'and', 'Instagram.']\n",
      "sentences  ['Follow', 'us', 'on', 'Twitter', 'and', 'Instagram.']\n",
      "sentences  ['Follow', 'us', 'on', 'Twitter', 'and', 'Instagram.']\n",
      "sentences  ['Follow', 'us', 'on', 'Twitter', 'and', 'Instagram.']\n",
      "sentences  ['Follow', 'us', 'on', 'Twitter', 'and', 'Instagram.']\n",
      "sentences  ['Follow', 'us', 'on', 'Twitter', 'and', 'Instagram.']\n",
      "sentences  ['We', 'want', 'to', 'know', 'what', 'you', 'think.']\n",
      "sentences  ['We', 'want', 'to', 'know', 'what', 'you', 'think.']\n",
      "sentences  ['We', 'want', 'to', 'know', 'what', 'you', 'think.']\n",
      "sentences  ['We', 'want', 'to', 'know', 'what', 'you', 'think.']\n",
      "sentences  ['We', 'want', 'to', 'know', 'what', 'you', 'think.']\n",
      "sentences  ['We', 'want', 'to', 'know', 'what', 'you', 'think.']\n",
      "sentences  ['We', 'want', 'to', 'know', 'what', 'you', 'think.']\n",
      "sentences  ['We', 'want', 'to', 'know', 'what', 'you', 'think.']\n",
      "sentences  ['We', 'want', 'to', 'know', 'what', 'you', 'think.']\n",
      "sentences  ['We', 'want', 'to', 'know', 'what', 'you', 'think.']\n",
      "sentences  ['We', 'want', 'to', 'know', 'what', 'you', 'think.']\n",
      "sentences  ['Pitch', 'us', 'an', 'artist,', 'or', 'simply', 'spread', 'the', 'word', 'and', 'find', 'out', 'more', 'about', 'the', 'series.']\n",
      "sentences  ['Pitch', 'us', 'an', 'artist,', 'or', 'simply', 'spread', 'the', 'word', 'and', 'find', 'out', 'more', 'about', 'the', 'series.']\n",
      "sentences  ['Pitch', 'us', 'an', 'artist,', 'or', 'simply', 'spread', 'the', 'word', 'and', 'find', 'out', 'more', 'about', 'the', 'series.']\n",
      "sentences  ['Pitch', 'us', 'an', 'artist,', 'or', 'simply', 'spread', 'the', 'word', 'and', 'find', 'out', 'more', 'about', 'the', 'series.']\n",
      "sentences  ['Pitch', 'us', 'an', 'artist,', 'or', 'simply', 'spread', 'the', 'word', 'and', 'find', 'out', 'more', 'about', 'the', 'series.']\n",
      "sentences  ['Pitch', 'us', 'an', 'artist,', 'or', 'simply', 'spread', 'the', 'word', 'and', 'find', 'out', 'more', 'about', 'the', 'series.']\n",
      "sentences  ['Pitch', 'us', 'an', 'artist,', 'or', 'simply', 'spread', 'the', 'word', 'and', 'find', 'out', 'more', 'about', 'the', 'series.']\n",
      "sentences  ['Pitch', 'us', 'an', 'artist,', 'or', 'simply', 'spread', 'the', 'word', 'and', 'find', 'out', 'more', 'about', 'the', 'series.']\n",
      "sentences  ['Pitch', 'us', 'an', 'artist,', 'or', 'simply', 'spread', 'the', 'word', 'and', 'find', 'out', 'more', 'about', 'the', 'series.']\n",
      "sentences  ['Pitch', 'us', 'an', 'artist,', 'or', 'simply', 'spread', 'the', 'word', 'and', 'find', 'out', 'more', 'about', 'the', 'series.']\n",
      "sentences  ['Pitch', 'us', 'an', 'artist,', 'or', 'simply', 'spread', 'the', 'word', 'and', 'find', 'out', 'more', 'about', 'the', 'series.']\n",
      "sentences  ['#childrenofsong']\n",
      "sentences  ['#childrenofsong']\n",
      "sentences  ['#childrenofsong']\n",
      "sentences  ['#childrenofsong']\n",
      "sentences  ['#childrenofsong']\n",
      "sentences  ['#childrenofsong']\n",
      "sentences  ['#childrenofsong']\n",
      "sentences  ['#childrenofsong']\n",
      "sentences  ['#childrenofsong']\n",
      "sentences  ['#childrenofsong']\n",
      "sentences  ['#childrenofsong']\n",
      "end of generating summary  2019-04-18 11:06:51.904467\n"
     ]
    }
   ],
   "source": [
    "import datetime\n",
    "print(\"start of generating summary \",datetime.datetime.now())\n",
    "df = generate_summary()\n",
    "print(\"end of generating summary \",datetime.datetime.now())\n",
    "df.to_csv(\"df_summary.csv\",index=False)"
   ]
  },
  {
   "cell_type": "code",
   "execution_count": null,
   "metadata": {
    "collapsed": true
   },
   "outputs": [],
   "source": []
  },
  {
   "cell_type": "code",
   "execution_count": null,
   "metadata": {
    "collapsed": true
   },
   "outputs": [],
   "source": [
    "Approach 2"
   ]
  },
  {
   "cell_type": "code",
   "execution_count": null,
   "metadata": {
    "collapsed": true
   },
   "outputs": [],
   "source": []
  },
  {
   "cell_type": "code",
   "execution_count": 210,
   "metadata": {
    "collapsed": true
   },
   "outputs": [],
   "source": [
    "import re\n",
    "stop_words = set(stopwords.words(\"english\"))\n",
    "def read_article(article):\n",
    "    article_sentences = sent_tokenize(article)\n",
    "    sentences = [] \n",
    "    for sentence in article_sentences:\n",
    "        sentence = sentence.lower()\n",
    "        sentence = sentence.translate(str.maketrans('','',string.punctuation))\n",
    "        sentences.append([word for word in sentence.split(\" \") if word not in stop_words])\n",
    "    return sentences"
   ]
  },
  {
   "cell_type": "code",
   "execution_count": 191,
   "metadata": {
    "collapsed": true
   },
   "outputs": [],
   "source": [
    "# Extract word vectors\n",
    "word_embeddings = {}\n",
    "f = open('glove.6B.100d.txt', encoding='utf-8')\n",
    "for line in f:\n",
    "    values = line.split()\n",
    "    word = values[0]\n",
    "    coefs = np.asarray(values[1:], dtype='float32')\n",
    "    word_embeddings[word] = coefs\n",
    "f.close()"
   ]
  },
  {
   "cell_type": "code",
   "execution_count": 220,
   "metadata": {
    "collapsed": true
   },
   "outputs": [],
   "source": [
    "def create_sentence_vectors(clean_sentence):\n",
    "    sentence_vectors=[]\n",
    "    for sentence in clean_sentence:\n",
    "        #if len(word) != 0:\n",
    "        print(\"sent \",sentence)\n",
    "        vec = sum([word_embeddings.get(word, np.zeros((100,))) for word in sentence])/(len(sentence)+0.001)\n",
    "        #else:\n",
    "           # vec = np.zeros((100,))\n",
    "        sentence_vectors.append(vec)\n",
    "    return sentence_vectors"
   ]
  },
  {
   "cell_type": "code",
   "execution_count": 203,
   "metadata": {
    "collapsed": true
   },
   "outputs": [],
   "source": [
    "from sklearn.metrics.pairwise import cosine_similarity\n",
    "def create_similarity_matrix(clean_sentence,sentence_vectors):\n",
    "    similarity_matrix = np.zeros([len(clean_sentence),len(clean_sentence)])\n",
    "    for idx1 in range(len(clean_sentence)):\n",
    "        for idx2 in range(len(clean_sentence)):\n",
    "            if idx1 != idx2:\n",
    "                similarity_matrix[idx1][idx2] = cosine_similarity(sentence_vectors[idx1].reshape(1,100), sentence_vectors[idx2].reshape(1,100))[0,0]      \n",
    "    return np.asmatrix(similarity_matrix) "
   ]
  },
  {
   "cell_type": "code",
   "execution_count": 205,
   "metadata": {
    "collapsed": true
   },
   "outputs": [],
   "source": [
    "import operator\n",
    "import collections\n",
    "\n",
    "def generate_summary(top_n=5):\n",
    "    \n",
    "    for index,row in df.iterrows():\n",
    "        summarize_sentences = []\n",
    "        summary=[]\n",
    "        \n",
    "        text = str(df.loc[index,'TEXT'])\n",
    "        #text = str(df_articles['TEXT'][0])\n",
    "        clean_sentences = read_article(text)\n",
    "        \n",
    "        sentence_vectors = create_sentence_vectors(clean_sentences)\n",
    "        sentence_similarity_matrix = create_similarity_matrix(clean_sentences,sentence_vectors)\n",
    "        \n",
    "        # Step 2 - Generate Similary Martix across sentences\n",
    "        #sentence_similarity_matrix = build_similarity_matrix(sentences)\n",
    "        #print(\"sent sim mat \",sentence_similarity_matrix)\n",
    "\n",
    "        # Step 3 - Rank sentences in similarity martix\n",
    "        sentence_similarity_graph = nx.from_numpy_matrix(sentence_similarity_matrix)\n",
    "        #print(\"sent sim graph\",sentence_similarity_graph)\n",
    "        scores = nx.pagerank(sentence_similarity_graph)\n",
    "        #print(\"scores\",scores)\n",
    "\n",
    "         # Step 4 - Sort the rank and pick top sentences\n",
    "        #ranked_sentences = sorted(((scores[i,s]) for i,s in enumerate(sentences)), reverse=True)\n",
    "        ranked_sentences = sorted(scores.items(), key=operator.itemgetter(1),reverse=True)[:top_n]\n",
    "        ranked_dict = collections.OrderedDict(ranked_sentences)\n",
    "        #print(\"Indexes of top ranked_sentence order are \", ranked_dict)   \n",
    "\n",
    "        for key in ranked_dict.keys():\n",
    "            summarize_sentences.append(\" \".join(sentences[key]))\n",
    "        summary.append(\" \".join(summarize_sentences))\n",
    "        \n",
    "        #df_articles.loc[index,'SUMMARY_GEN'] = summary[0]\n",
    "        return df"
   ]
  },
  {
   "cell_type": "code",
   "execution_count": 221,
   "metadata": {
    "collapsed": false
   },
   "outputs": [
    {
     "name": "stdout",
     "output_type": "stream",
     "text": [
      "start of generating summary  2019-04-18 23:38:51.437347\n",
      "sent  ['audio', 'clip', 'listen', 'audio', 'clip']\n",
      "sent  ['episode', 'meet', 'peppina', 'finnish', 'singersongwriter', 'turned', 'pop', 'star', 'afraid', 'share', 'music', 'community', 'instead', 'went', 'online', 'played', 'songs', 'rest', 'world']\n",
      "sent  ['subscribe', 'download', 'favorite', 'podcast', 'platform', 'apple', 'podcasts', 'google', 'play', 'tune', 'stitcher']\n",
      "sent  ['15', 'young', 'artist', 'would', 'sit', 'bedroom', 'would', 'write', 'post', 'songs', 'hitrecord', 'online', 'production', 'company', 'founded', 'actor', 'director', 'joseph', 'gordonlevitt']\n",
      "sent  ['would', 'attract', 'attention', 'artists', 'around', 'globe', 'quickly', 'becoming', 'downloaded', 'musician', 'working', 'site']\n",
      "sent  ['producer', 'brad', 'newman', 'hosts', 'episode', 'follows', 'girl', 'small', 'island', 'helsinki', 'biggest', 'stages', 'america']\n",
      "sent  ['one', 'songs', 'suggests', 'peppina', 'makes', 'makebelieve', 'believable']\n",
      "sent  ['like', 'us', 'facebook']\n",
      "sent  ['follow', 'us', 'twitter', 'instagram']\n",
      "sent  ['want', 'know', 'think']\n",
      "sent  ['pitch', 'us', 'artist', 'simply', 'spread', 'word', 'find', 'series']\n",
      "sent  ['childrenofsong']\n",
      "end of generating summary  2019-04-18 23:38:51.635268\n"
     ]
    },
    {
     "data": {
      "text/html": [
       "<div>\n",
       "<style>\n",
       "    .dataframe thead tr:only-child th {\n",
       "        text-align: right;\n",
       "    }\n",
       "\n",
       "    .dataframe thead th {\n",
       "        text-align: left;\n",
       "    }\n",
       "\n",
       "    .dataframe tbody tr th {\n",
       "        vertical-align: top;\n",
       "    }\n",
       "</style>\n",
       "<table border=\"1\" class=\"dataframe\">\n",
       "  <thead>\n",
       "    <tr style=\"text-align: right;\">\n",
       "      <th></th>\n",
       "      <th>KEYWORDS</th>\n",
       "      <th>SUMMARY</th>\n",
       "      <th>TEXT</th>\n",
       "      <th>TITLE</th>\n",
       "      <th>URL</th>\n",
       "      <th>Unnamed: 0</th>\n",
       "      <th>SUMMARY_GEN</th>\n",
       "    </tr>\n",
       "  </thead>\n",
       "  <tbody>\n",
       "    <tr>\n",
       "      <th>0</th>\n",
       "      <td>['young', 'write', 'making', 'worldsubscribe',...</td>\n",
       "      <td>At 15, the young artist would sit in her bedro...</td>\n",
       "      <td>Audio clip: Listen to audio clip.\\n\\nIn this e...</td>\n",
       "      <td>Peppina: Making Make-Believe Believable</td>\n",
       "      <td>https://radio.foxnews.com/2017/11/03/peppina-j...</td>\n",
       "      <td>0.0</td>\n",
       "      <td>At 15, the young artist would sit in her bedro...</td>\n",
       "    </tr>\n",
       "    <tr>\n",
       "      <th>1</th>\n",
       "      <td>['korean', 'defectors', 'vegetation', 'sixth',...</td>\n",
       "      <td>- North Korean defector\"I heard from a relativ...</td>\n",
       "      <td>North Korea’s crippling nuclear test site is t...</td>\n",
       "      <td>North Korea's nuclear test site causing 'defor...</td>\n",
       "      <td>http://www.foxnews.com/world/2017/11/07/north-...</td>\n",
       "      <td>1.0</td>\n",
       "      <td>The Research Association of Vision of North Ko...</td>\n",
       "    </tr>\n",
       "    <tr>\n",
       "      <th>2</th>\n",
       "      <td>['johnson', 'political', 'lbj', 'war', 'texas'...</td>\n",
       "      <td>When Vice president Lyndon Baines Johnson acco...</td>\n",
       "      <td>Audio clip: Listen to audio clip.\\n\\nWhen Vice...</td>\n",
       "      <td>The Life And Times Of Lyndon Baines Johnson</td>\n",
       "      <td>https://radio.foxnews.com/2017/10/10/the-life-...</td>\n",
       "      <td>2.0</td>\n",
       "      <td>Then an assassin's bullet forever changed Lynd...</td>\n",
       "    </tr>\n",
       "    <tr>\n",
       "      <th>4</th>\n",
       "      <td>['ill', 'thanksgiving', '14000', 'thompson', '...</td>\n",
       "      <td>Thousands of strangers have responded to a ter...</td>\n",
       "      <td>Thousands of strangers have responded to a ter...</td>\n",
       "      <td>Terminally ill boy with wish for Christmas car...</td>\n",
       "      <td>https://www.foxnews.com/health/2017/11/07/term...</td>\n",
       "      <td>4.0</td>\n",
       "      <td>“We also have continued to open Christmas card...</td>\n",
       "    </tr>\n",
       "    <tr>\n",
       "      <th>5</th>\n",
       "      <td>['signs', 'political', 'analysis', 'fnc', 'net...</td>\n",
       "      <td>NEW YORK – SEPTEMBER 25, 2017 – FOX News Chann...</td>\n",
       "      <td>NEW YORK – SEPTEMBER 25, 2017 – FOX News Chann...</td>\n",
       "      <td>FOX NEWS CHANNEL SIGNS GIANNO CALDWELL AS POLI...</td>\n",
       "      <td>http://press.foxnews.com/2017/09/fox-news-chan...</td>\n",
       "      <td>5.0</td>\n",
       "      <td>FOX News Channel (FNC) is a 24-hour all-encomp...</td>\n",
       "    </tr>\n",
       "  </tbody>\n",
       "</table>\n",
       "</div>"
      ],
      "text/plain": [
       "                                            KEYWORDS  \\\n",
       "0  ['young', 'write', 'making', 'worldsubscribe',...   \n",
       "1  ['korean', 'defectors', 'vegetation', 'sixth',...   \n",
       "2  ['johnson', 'political', 'lbj', 'war', 'texas'...   \n",
       "4  ['ill', 'thanksgiving', '14000', 'thompson', '...   \n",
       "5  ['signs', 'political', 'analysis', 'fnc', 'net...   \n",
       "\n",
       "                                             SUMMARY  \\\n",
       "0  At 15, the young artist would sit in her bedro...   \n",
       "1  - North Korean defector\"I heard from a relativ...   \n",
       "2  When Vice president Lyndon Baines Johnson acco...   \n",
       "4  Thousands of strangers have responded to a ter...   \n",
       "5  NEW YORK – SEPTEMBER 25, 2017 – FOX News Chann...   \n",
       "\n",
       "                                                TEXT  \\\n",
       "0  Audio clip: Listen to audio clip.\\n\\nIn this e...   \n",
       "1  North Korea’s crippling nuclear test site is t...   \n",
       "2  Audio clip: Listen to audio clip.\\n\\nWhen Vice...   \n",
       "4  Thousands of strangers have responded to a ter...   \n",
       "5  NEW YORK – SEPTEMBER 25, 2017 – FOX News Chann...   \n",
       "\n",
       "                                               TITLE  \\\n",
       "0            Peppina: Making Make-Believe Believable   \n",
       "1  North Korea's nuclear test site causing 'defor...   \n",
       "2        The Life And Times Of Lyndon Baines Johnson   \n",
       "4  Terminally ill boy with wish for Christmas car...   \n",
       "5  FOX NEWS CHANNEL SIGNS GIANNO CALDWELL AS POLI...   \n",
       "\n",
       "                                                 URL  Unnamed: 0  \\\n",
       "0  https://radio.foxnews.com/2017/11/03/peppina-j...         0.0   \n",
       "1  http://www.foxnews.com/world/2017/11/07/north-...         1.0   \n",
       "2  https://radio.foxnews.com/2017/10/10/the-life-...         2.0   \n",
       "4  https://www.foxnews.com/health/2017/11/07/term...         4.0   \n",
       "5  http://press.foxnews.com/2017/09/fox-news-chan...         5.0   \n",
       "\n",
       "                                         SUMMARY_GEN  \n",
       "0  At 15, the young artist would sit in her bedro...  \n",
       "1  The Research Association of Vision of North Ko...  \n",
       "2  Then an assassin's bullet forever changed Lynd...  \n",
       "4  “We also have continued to open Christmas card...  \n",
       "5  FOX News Channel (FNC) is a 24-hour all-encomp...  "
      ]
     },
     "execution_count": 221,
     "metadata": {},
     "output_type": "execute_result"
    }
   ],
   "source": [
    "print(\"start of generating summary \",datetime.datetime.now())\n",
    "df = generate_summary()\n",
    "print(\"end of generating summary \",datetime.datetime.now())\n",
    "df"
   ]
  },
  {
   "cell_type": "code",
   "execution_count": 223,
   "metadata": {
    "collapsed": false
   },
   "outputs": [],
   "source": [
    "df.to_csv(\"df_summary_extractive_approach2.csv\",index=False)"
   ]
  },
  {
   "cell_type": "code",
   "execution_count": 204,
   "metadata": {
    "collapsed": false
   },
   "outputs": [
    {
     "data": {
      "text/html": [
       "<div>\n",
       "<style>\n",
       "    .dataframe thead tr:only-child th {\n",
       "        text-align: right;\n",
       "    }\n",
       "\n",
       "    .dataframe thead th {\n",
       "        text-align: left;\n",
       "    }\n",
       "\n",
       "    .dataframe tbody tr th {\n",
       "        vertical-align: top;\n",
       "    }\n",
       "</style>\n",
       "<table border=\"1\" class=\"dataframe\">\n",
       "  <thead>\n",
       "    <tr style=\"text-align: right;\">\n",
       "      <th></th>\n",
       "      <th>KEYWORDS</th>\n",
       "      <th>SUMMARY</th>\n",
       "      <th>TEXT</th>\n",
       "      <th>TITLE</th>\n",
       "      <th>URL</th>\n",
       "      <th>Unnamed: 0</th>\n",
       "      <th>SUMMARY_GEN</th>\n",
       "    </tr>\n",
       "  </thead>\n",
       "  <tbody>\n",
       "    <tr>\n",
       "      <th>0</th>\n",
       "      <td>['young', 'write', 'making', 'worldsubscribe',...</td>\n",
       "      <td>At 15, the young artist would sit in her bedro...</td>\n",
       "      <td>Audio clip: Listen to audio clip.\\n\\nIn this e...</td>\n",
       "      <td>Peppina: Making Make-Believe Believable</td>\n",
       "      <td>https://radio.foxnews.com/2017/11/03/peppina-j...</td>\n",
       "      <td>0.0</td>\n",
       "      <td>At 15, the young artist would sit in her bedro...</td>\n",
       "    </tr>\n",
       "    <tr>\n",
       "      <th>1</th>\n",
       "      <td>['korean', 'defectors', 'vegetation', 'sixth',...</td>\n",
       "      <td>- North Korean defector\"I heard from a relativ...</td>\n",
       "      <td>North Korea’s crippling nuclear test site is t...</td>\n",
       "      <td>North Korea's nuclear test site causing 'defor...</td>\n",
       "      <td>http://www.foxnews.com/world/2017/11/07/north-...</td>\n",
       "      <td>1.0</td>\n",
       "      <td>The Research Association of Vision of North Ko...</td>\n",
       "    </tr>\n",
       "    <tr>\n",
       "      <th>2</th>\n",
       "      <td>['johnson', 'political', 'lbj', 'war', 'texas'...</td>\n",
       "      <td>When Vice president Lyndon Baines Johnson acco...</td>\n",
       "      <td>Audio clip: Listen to audio clip.\\n\\nWhen Vice...</td>\n",
       "      <td>The Life And Times Of Lyndon Baines Johnson</td>\n",
       "      <td>https://radio.foxnews.com/2017/10/10/the-life-...</td>\n",
       "      <td>2.0</td>\n",
       "      <td>Then an assassin's bullet forever changed Lynd...</td>\n",
       "    </tr>\n",
       "    <tr>\n",
       "      <th>4</th>\n",
       "      <td>['ill', 'thanksgiving', '14000', 'thompson', '...</td>\n",
       "      <td>Thousands of strangers have responded to a ter...</td>\n",
       "      <td>Thousands of strangers have responded to a ter...</td>\n",
       "      <td>Terminally ill boy with wish for Christmas car...</td>\n",
       "      <td>https://www.foxnews.com/health/2017/11/07/term...</td>\n",
       "      <td>4.0</td>\n",
       "      <td>“We also have continued to open Christmas card...</td>\n",
       "    </tr>\n",
       "    <tr>\n",
       "      <th>5</th>\n",
       "      <td>['signs', 'political', 'analysis', 'fnc', 'net...</td>\n",
       "      <td>NEW YORK – SEPTEMBER 25, 2017 – FOX News Chann...</td>\n",
       "      <td>NEW YORK – SEPTEMBER 25, 2017 – FOX News Chann...</td>\n",
       "      <td>FOX NEWS CHANNEL SIGNS GIANNO CALDWELL AS POLI...</td>\n",
       "      <td>http://press.foxnews.com/2017/09/fox-news-chan...</td>\n",
       "      <td>5.0</td>\n",
       "      <td>FOX News Channel (FNC) is a 24-hour all-encomp...</td>\n",
       "    </tr>\n",
       "  </tbody>\n",
       "</table>\n",
       "</div>"
      ],
      "text/plain": [
       "                                            KEYWORDS  \\\n",
       "0  ['young', 'write', 'making', 'worldsubscribe',...   \n",
       "1  ['korean', 'defectors', 'vegetation', 'sixth',...   \n",
       "2  ['johnson', 'political', 'lbj', 'war', 'texas'...   \n",
       "4  ['ill', 'thanksgiving', '14000', 'thompson', '...   \n",
       "5  ['signs', 'political', 'analysis', 'fnc', 'net...   \n",
       "\n",
       "                                             SUMMARY  \\\n",
       "0  At 15, the young artist would sit in her bedro...   \n",
       "1  - North Korean defector\"I heard from a relativ...   \n",
       "2  When Vice president Lyndon Baines Johnson acco...   \n",
       "4  Thousands of strangers have responded to a ter...   \n",
       "5  NEW YORK – SEPTEMBER 25, 2017 – FOX News Chann...   \n",
       "\n",
       "                                                TEXT  \\\n",
       "0  Audio clip: Listen to audio clip.\\n\\nIn this e...   \n",
       "1  North Korea’s crippling nuclear test site is t...   \n",
       "2  Audio clip: Listen to audio clip.\\n\\nWhen Vice...   \n",
       "4  Thousands of strangers have responded to a ter...   \n",
       "5  NEW YORK – SEPTEMBER 25, 2017 – FOX News Chann...   \n",
       "\n",
       "                                               TITLE  \\\n",
       "0            Peppina: Making Make-Believe Believable   \n",
       "1  North Korea's nuclear test site causing 'defor...   \n",
       "2        The Life And Times Of Lyndon Baines Johnson   \n",
       "4  Terminally ill boy with wish for Christmas car...   \n",
       "5  FOX NEWS CHANNEL SIGNS GIANNO CALDWELL AS POLI...   \n",
       "\n",
       "                                                 URL  Unnamed: 0  \\\n",
       "0  https://radio.foxnews.com/2017/11/03/peppina-j...         0.0   \n",
       "1  http://www.foxnews.com/world/2017/11/07/north-...         1.0   \n",
       "2  https://radio.foxnews.com/2017/10/10/the-life-...         2.0   \n",
       "4  https://www.foxnews.com/health/2017/11/07/term...         4.0   \n",
       "5  http://press.foxnews.com/2017/09/fox-news-chan...         5.0   \n",
       "\n",
       "                                         SUMMARY_GEN  \n",
       "0  At 15, the young artist would sit in her bedro...  \n",
       "1  The Research Association of Vision of North Ko...  \n",
       "2  Then an assassin's bullet forever changed Lynd...  \n",
       "4  “We also have continued to open Christmas card...  \n",
       "5  FOX News Channel (FNC) is a 24-hour all-encomp...  "
      ]
     },
     "execution_count": 204,
     "metadata": {},
     "output_type": "execute_result"
    }
   ],
   "source": [
    "df = df_articles.head()\n",
    "df"
   ]
  },
  {
   "cell_type": "code",
   "execution_count": null,
   "metadata": {
    "collapsed": true
   },
   "outputs": [],
   "source": []
  },
  {
   "cell_type": "code",
   "execution_count": null,
   "metadata": {
    "collapsed": true
   },
   "outputs": [],
   "source": []
  },
  {
   "cell_type": "markdown",
   "metadata": {},
   "source": [
    "### ROUGH WORK BELOW - IGNORE"
   ]
  },
  {
   "cell_type": "code",
   "execution_count": 154,
   "metadata": {
    "collapsed": false
   },
   "outputs": [
    {
     "data": {
      "text/plain": [
       "'The Research Association of Vision of North Korea interviewed 21 North Korean defectors who lived in Kilju, a nearby town north of the Punngye-ri nuclear test site where six tests have been conducted, and said babies were reportedly being born with birth defects and residents feared radiation contamination because of the high mortality rate for any form of life, South Korean newspaper Chosun Ilbo reported. North Korea’s crippling nuclear test site is turning the area into a “wasteland” where “deformed babies” are being born and 80 percent of vegetation dies off due to nuclear radiation, nearly two dozen defectors told a South Korean newspaper Monday. The defector accounts by Chosun Ilbo were not verified by North Korean officials, but the former North Korean residents claimed Kim Jong Un’s regime made sure none of the local residents were able to tell their stories. A defector who fled North Korea in 2010 recalled how only soldiers and their family members were evacuated before two tests were conducted. - North Korean defector\\n\\n\"I heard from a relative in Kilju that deformed babies were born in hospitals there,” one defector said, according to the newspaper.'"
      ]
     },
     "execution_count": 154,
     "metadata": {},
     "output_type": "execute_result"
    }
   ],
   "source": [
    "#df = df_articles.iloc[0:10,:]\n",
    "#df.head()\n",
    "\n",
    "df['SUMMARY_GEN'][1]"
   ]
  },
  {
   "cell_type": "code",
   "execution_count": 155,
   "metadata": {
    "collapsed": false
   },
   "outputs": [
    {
     "data": {
      "text/plain": [
       "'- North Korean defector\"I heard from a relative in Kilju that deformed babies were born in hospitals there,” one defector said, according to the newspaper.\\nOne person recalled, \"Kilju locals who made appointments in a large hospital in Pyongyang were not allowed to enter the capital after the sixth nuclear test.\"\\nScientists believe the site was destabilized after the sixth nuclear test on Sept. 3, when a purported hydrogen bomb was detonated.\\nSatellite images obtained by 38 North, which specialized in North Korean issues, also showed a possible “collapsed chimney crater” at Mount Mantap.\\nDr. Joel Myers, the founder and chairman of AccuWeather, said lingering radiation from the sixth nuclear test could threaten other countries.'"
      ]
     },
     "execution_count": 155,
     "metadata": {},
     "output_type": "execute_result"
    }
   ],
   "source": [
    "df['SUMMARY'][1]"
   ]
  },
  {
   "cell_type": "code",
   "execution_count": 156,
   "metadata": {
    "collapsed": false
   },
   "outputs": [
    {
     "data": {
      "text/plain": [
       "'North Korea’s crippling nuclear test site is turning the area into a “wasteland” where “deformed babies” are being born and 80 percent of vegetation dies off due to nuclear radiation, nearly two dozen defectors told a South Korean newspaper Monday.\\n\\nThe Research Association of Vision of North Korea interviewed 21 North Korean defectors who lived in Kilju, a nearby town north of the Punngye-ri nuclear test site where six tests have been conducted, and said babies were reportedly being born with birth defects and residents feared radiation contamination because of the high mortality rate for any form of life, South Korean newspaper Chosun Ilbo reported.\\n\\n“I personally saw corpses floating down the river with their limbs severed.\" - North Korean defector\\n\\n\"I heard from a relative in Kilju that deformed babies were born in hospitals there,” one defector said, according to the newspaper.\\n\\nAnother added: \"I spoke on the phone with family members I left behind there and they told me that all of the underground wells dried up after the sixth nuclear test.\"\\n\\nGRAPHIC PICTURE WARNING:\\n\\nThe defectors said drinking water in the town streamed down from Mount Montap, where the nuclear tests were reportedly conducted underground. They added authorities left residents in the area to fend for themselves and provided no warning prior to the detonations or protections after. A defector who fled North Korea in 2010 recalled how only soldiers and their family members were evacuated before two tests were conducted.\\n\\n\"During the first nuclear test [October 2006] and second one [May 2009], only family members of soldiers were evacuated to underground shafts. Ordinary people were completely unaware of the tests,” the defector recalled.\\n\\n“I personally saw corpses floating down the river with their limbs severed,” the defector said, adding that local residents were also ordered to dig “deep holes for those tests.”\\n\\nThe defectors claimed all forms of life struggled to stay alive. About 80 percent of trees that were planted on the mountains died off, and trout and pine mushrooms just “disappeared” from the region when the first nuclear test was conducted in 2006.\\n\\n\"If you plant trees in the mountains there, 80 percent of them die. You can blame it on poor planting, but the number of trees that die is higher than in other mountains,” a defector said.\\n\\nThe defector accounts by Chosun Ilbo were not verified by North Korean officials, but the former North Korean residents claimed Kim Jong Un’s regime made sure none of the local residents were able to tell their stories.\\n\\nOne person recalled, \"Kilju locals who made appointments in a large hospital in Pyongyang were not allowed to enter the capital after the sixth nuclear test.\"\\n\\n\"People who boarded trains to the border with samples of soil, water and leaves from Kilju County were arrested and sent to prison camps,” another defector said.\\n\\nNorth Korea has slammed recent reports surrounding the Punngye-ri test site, calling a Japanese television’s claim that at least 200 people died when tunnels collapsed underground as “misinformation.” The report by Asahi TV, citing a North Korean source, stated hundreds were trapped and killed while doing underground construction on the tunnel last month. Scientists believe the site was destabilized after the sixth nuclear test on Sept. 3, when a purported hydrogen bomb was detonated. Satellite images obtained by 38 North, which specialized in North Korean issues, also showed a possible “collapsed chimney crater” at Mount Mantap.\\n\\nRadiation leaking and drifting across the Sea of Japan and to the Japanese islands has also been a concern. Dr. Joel Myers, the founder and chairman of AccuWeather, said lingering radiation from the sixth nuclear test could threaten other countries. North Korean officials\\' hope to contain the radiation leakage within the Hermit Kingdom could change as winds pick up out of the northwest, according to Myers.\\n\\nPresident Trump spent Tuesday in South Korea during his five-country Asia tour, his first visit to the region since taking office. North Korea immediately chastised the president, saying, \"Trump, accustomed to getting money by cajoling other people, recklessly mulls…a nuclear war gambling while despising the opponent,” the state-run Korean Central News Agency reported.'"
      ]
     },
     "execution_count": 156,
     "metadata": {},
     "output_type": "execute_result"
    }
   ],
   "source": [
    "df['TEXT'][1]"
   ]
  },
  {
   "cell_type": "code",
   "execution_count": 126,
   "metadata": {
    "collapsed": false
   },
   "outputs": [
    {
     "data": {
      "text/html": [
       "<div>\n",
       "<style>\n",
       "    .dataframe thead tr:only-child th {\n",
       "        text-align: right;\n",
       "    }\n",
       "\n",
       "    .dataframe thead th {\n",
       "        text-align: left;\n",
       "    }\n",
       "\n",
       "    .dataframe tbody tr th {\n",
       "        vertical-align: top;\n",
       "    }\n",
       "</style>\n",
       "<table border=\"1\" class=\"dataframe\">\n",
       "  <thead>\n",
       "    <tr style=\"text-align: right;\">\n",
       "      <th></th>\n",
       "      <th>SUMMARY</th>\n",
       "      <th>SUMMARY_GEN</th>\n",
       "    </tr>\n",
       "  </thead>\n",
       "  <tbody>\n",
       "    <tr>\n",
       "      <th>0</th>\n",
       "      <td>At 15, the young artist would sit in her bedro...</td>\n",
       "      <td>At 15, the young artist would sit in her bedro...</td>\n",
       "    </tr>\n",
       "    <tr>\n",
       "      <th>1</th>\n",
       "      <td>- North Korean defector\"I heard from a relativ...</td>\n",
       "      <td>The Research Association of Vision of North Ko...</td>\n",
       "    </tr>\n",
       "    <tr>\n",
       "      <th>2</th>\n",
       "      <td>When Vice president Lyndon Baines Johnson acco...</td>\n",
       "      <td>Then an assassin's bullet forever changed Lynd...</td>\n",
       "    </tr>\n",
       "    <tr>\n",
       "      <th>4</th>\n",
       "      <td>Thousands of strangers have responded to a ter...</td>\n",
       "      <td>“We also have continued to open Christmas card...</td>\n",
       "    </tr>\n",
       "    <tr>\n",
       "      <th>5</th>\n",
       "      <td>NEW YORK – SEPTEMBER 25, 2017 – FOX News Chann...</td>\n",
       "      <td>FOX News Channel (FNC) is a 24-hour all-encomp...</td>\n",
       "    </tr>\n",
       "    <tr>\n",
       "      <th>6</th>\n",
       "      <td>Democrat Ralph Northam won Virginia’s gubernat...</td>\n",
       "      <td>The Northam campaign called Gillespie’s ads “b...</td>\n",
       "    </tr>\n",
       "    <tr>\n",
       "      <th>7</th>\n",
       "      <td>If federal employees cannot perform the simple...</td>\n",
       "      <td>If our government cannot perform simple tasks ...</td>\n",
       "    </tr>\n",
       "    <tr>\n",
       "      <th>8</th>\n",
       "      <td>No stranger to making an entrance with her chi...</td>\n",
       "      <td>No stranger to making an entrance with her chi...</td>\n",
       "    </tr>\n",
       "    <tr>\n",
       "      <th>9</th>\n",
       "      <td>At least 26 people were killed and 20 wounded ...</td>\n",
       "      <td>At least 26 people were killed and 20 wounded ...</td>\n",
       "    </tr>\n",
       "    <tr>\n",
       "      <th>10</th>\n",
       "      <td>We’re now living in a violent society where ev...</td>\n",
       "      <td>In fact, most of the 10,000 or so people who a...</td>\n",
       "    </tr>\n",
       "  </tbody>\n",
       "</table>\n",
       "</div>"
      ],
      "text/plain": [
       "                                              SUMMARY  \\\n",
       "0   At 15, the young artist would sit in her bedro...   \n",
       "1   - North Korean defector\"I heard from a relativ...   \n",
       "2   When Vice president Lyndon Baines Johnson acco...   \n",
       "4   Thousands of strangers have responded to a ter...   \n",
       "5   NEW YORK – SEPTEMBER 25, 2017 – FOX News Chann...   \n",
       "6   Democrat Ralph Northam won Virginia’s gubernat...   \n",
       "7   If federal employees cannot perform the simple...   \n",
       "8   No stranger to making an entrance with her chi...   \n",
       "9   At least 26 people were killed and 20 wounded ...   \n",
       "10  We’re now living in a violent society where ev...   \n",
       "\n",
       "                                          SUMMARY_GEN  \n",
       "0   At 15, the young artist would sit in her bedro...  \n",
       "1   The Research Association of Vision of North Ko...  \n",
       "2   Then an assassin's bullet forever changed Lynd...  \n",
       "4   “We also have continued to open Christmas card...  \n",
       "5   FOX News Channel (FNC) is a 24-hour all-encomp...  \n",
       "6   The Northam campaign called Gillespie’s ads “b...  \n",
       "7   If our government cannot perform simple tasks ...  \n",
       "8   No stranger to making an entrance with her chi...  \n",
       "9   At least 26 people were killed and 20 wounded ...  \n",
       "10  In fact, most of the 10,000 or so people who a...  "
      ]
     },
     "execution_count": 126,
     "metadata": {},
     "output_type": "execute_result"
    }
   ],
   "source": [
    "df[['SUMMARY','SUMMARY_GEN']]"
   ]
  },
  {
   "cell_type": "code",
   "execution_count": 127,
   "metadata": {
    "collapsed": true
   },
   "outputs": [],
   "source": [
    "df.to_csv(\"df_gen_summary.csv\",index=False)"
   ]
  },
  {
   "cell_type": "code",
   "execution_count": 105,
   "metadata": {
    "collapsed": false
   },
   "outputs": [
    {
     "name": "stdout",
     "output_type": "stream",
     "text": [
      "sent  Audio clip  Listen to audio clip \n",
      "sent  In this episode  we meet Peppina  a Finnish singer songwriter turned pop star who was afraid to share her music with her own community  so instead she went online and played her songs for the rest of the world \n",
      "sent  Subscribe and download on your favorite podcast platform  Apple Podcasts  Google Play  Tune In  Stitcher \n",
      "sent  At 15  the young artist would sit in her bedroom where she would write and post songs on HitRecord  an online production company founded by the actor and director Joseph Gordon Levitt \n",
      "sent  There she would attract the attention of artists around the globe  quickly becoming the most downloaded musician working on the site \n",
      "sent  The producer  Brad Newman hosts this episode that follows a girl from a small island in Helsinki to the biggest stages in America \n",
      "sent  As one of her songs suggests  Peppina  makes make believe believable  \n",
      "sent  Like us on Facebook \n",
      "sent  Follow us on Twitter and Instagram \n",
      "sent  We want to know what you think \n",
      "sent  Pitch us an artist  or simply spread the word and find out more about the series \n",
      "sent   childrenofsong\n",
      "cosine distance between [2, 0, 0, 0, 0, 0, 2, 0, 0, 0, 0, 0, 0, 0, 0, 0, 0, 0, 0, 0, 0, 0, 0, 0, 0, 0, 0, 1, 2, 0, 0, 0, 0, 0, 0, 0, 0, 0, 0, 0] and [4, 1, 1, 1, 0, 1, 0, 0, 1, 0, 0, 1, 0, 1, 1, 1, 1, 1, 0, 0, 1, 0, 0, 1, 1, 1, 0, 0, 0, 0, 0, 1, 0, 1, 1, 1, 1, 0, 0, 0] is 0.3698001308168195\n",
      "cosine distance between [2, 0, 0, 0, 0, 0, 0, 0, 0, 0, 0, 0, 2, 0, 0, 0, 0, 1, 2, 0] and [5, 1, 1, 0, 1, 0, 1, 1, 1, 0, 1, 1, 0, 1, 1, 0, 0, 0, 0, 1] is 0.4622501635210243\n",
      "cosine distance between [2, 0, 0, 0, 0, 0, 0, 0, 2, 0, 0, 0, 0, 0, 0, 0, 0, 0, 0, 0, 0, 0, 0, 1, 2, 0, 0, 0, 0, 0, 0, 0, 0, 0] and [3, 0, 1, 1, 1, 1, 1, 1, 0, 0, 1, 0, 1, 1, 0, 1, 1, 1, 1, 0, 1, 0, 0, 0, 0, 1, 1, 0, 0, 1, 0, 0, 1, 2] is 0.2988812888320308\n",
      "cosine distance between [2, 2, 0, 0, 0, 0, 0, 0, 0, 0, 0, 0, 0, 0, 0, 0, 0, 0, 1, 0, 2, 0, 0] and [2, 0, 1, 1, 1, 1, 0, 0, 1, 1, 1, 1, 0, 0, 0, 0, 1, 1, 0, 1, 0, 0, 1] is 0.2773500981126146\n",
      "cosine distance between [2, 0, 0, 0, 0, 0, 2, 0, 0, 0, 0, 0, 0, 0, 0, 1, 2, 0, 0, 0, 0, 0, 0, 0] and [2, 1, 1, 1, 1, 0, 0, 1, 1, 1, 0, 0, 1, 0, 0, 0, 0, 1, 1, 1, 0, 1, 0, 1] is 0.26906911759852503\n",
      "cosine distance between [2, 0, 0, 0, 0, 0, 2, 0, 0, 0, 0, 0, 0, 1, 2, 0] and [4, 1, 1, 1, 1, 1, 0, 0, 1, 0, 1, 1, 0, 0, 0, 0] is 0.45291081365783836\n",
      "cosine distance between [2, 0, 0, 2, 0, 0, 0, 1, 2] and [1, 0, 1, 0, 1, 1, 0, 0, 0] is 0.2773500981126146\n",
      "cosine distance between [2, 0, 0, 0, 0, 0, 2, 0, 0, 1, 2] and [1, 1, 0, 1, 0, 1, 0, 1, 0, 0, 0] is 0.24806946917841688\n",
      "cosine distance between [2, 0, 0, 0, 2, 0, 0, 0, 1, 2, 0] and [1, 0, 0, 1, 0, 1, 1, 0, 0, 0, 0] is 0.2773500981126146\n",
      "cosine distance between [2, 0, 0, 0, 0, 0, 0, 0, 0, 0, 0, 2, 0, 0, 0, 0, 0, 1, 2, 0] and [2, 0, 1, 1, 0, 1, 0, 0, 1, 1, 1, 0, 0, 1, 1, 0, 0, 0, 0, 0] is 0.3202563076101743\n",
      "cosine distance between [2, 2, 0, 1, 2, 0] and [1, 0, 0, 0, 0, 1] is 0.3922322702763681\n",
      "cosine distance between [4, 1, 1, 1, 0, 1, 0, 0, 1, 0, 0, 1, 0, 1, 1, 1, 1, 1, 0, 0, 1, 0, 0, 1, 1, 1, 0, 0, 0, 0, 0, 1, 0, 1, 1, 1, 1, 0, 0, 0] and [2, 0, 0, 0, 0, 0, 2, 0, 0, 0, 0, 0, 0, 0, 0, 0, 0, 0, 0, 0, 0, 0, 0, 0, 0, 0, 0, 0, 2, 1, 0, 0, 0, 0, 0, 0, 0, 0, 0, 0] is 0.3698001308168195\n",
      "cosine distance between [4, 1, 1, 1, 0, 0, 1, 0, 0, 1, 0, 0, 0, 1, 0, 1, 1, 1, 1, 1, 0, 0, 0, 1, 0, 0, 1, 0, 0, 1, 0, 1, 0, 0, 0, 0, 1, 0, 1, 1, 1, 0, 0, 0, 0, 1, 0, 0, 0, 0] and [5, 0, 0, 0, 0, 1, 0, 0, 1, 0, 0, 0, 1, 0, 0, 0, 0, 0, 0, 0, 0, 1, 0, 0, 0, 0, 0, 1, 1, 0, 1, 0, 0, 0, 1, 0, 0, 0, 0, 0, 0, 0, 1, 1, 0, 0, 0, 0, 0, 1] is 0.5555555555555556\n",
      "cosine distance between [4, 1, 0, 0, 1, 1, 0, 0, 0, 0, 1, 0, 0, 0, 1, 0, 0, 0, 0, 1, 0, 1, 1, 0, 0, 0, 1, 1, 1, 0, 0, 0, 0, 0, 1, 0, 0, 1, 1, 1, 0, 0, 0, 0, 0, 1, 0, 1, 1, 1, 0, 0, 0, 1, 0, 0, 0, 0, 0] and [3, 0, 0, 1, 1, 1, 0, 1, 1, 1, 0, 0, 0, 1, 0, 0, 0, 1, 1, 0, 0, 0, 0, 1, 1, 0, 0, 0, 0, 1, 0, 1, 0, 1, 0, 0, 0, 0, 0, 0, 0, 0, 1, 1, 0, 0, 0, 0, 0, 0, 0, 0, 1, 0, 0, 0, 1, 0, 2] is 0.4190790380624748\n",
      "cosine distance between [4, 1, 1, 1, 0, 1, 0, 0, 0, 0, 0, 1, 0, 0, 0, 1, 0, 1, 1, 0, 1, 1, 0, 1, 0, 0, 0, 0, 1, 0, 0, 1, 1, 0, 1, 0, 0, 0, 0, 0, 0, 1, 0, 1, 1, 1, 0, 1, 0, 0, 0, 0] and [2, 0, 0, 0, 0, 0, 1, 1, 0, 1, 1, 0, 0, 0, 1, 0, 0, 0, 0, 1, 0, 0, 1, 0, 0, 1, 0, 0, 0, 0, 0, 0, 0, 0, 0, 0, 0, 1, 1, 1, 0, 0, 0, 0, 0, 0, 0, 0, 0, 0, 0, 1] is 0.33333333333333326\n",
      "cosine distance between [4, 1, 0, 1, 1, 0, 0, 0, 0, 1, 0, 0, 0, 1, 0, 0, 1, 0, 0, 1, 1, 0, 1, 1, 1, 0, 0, 1, 0, 0, 1, 0, 1, 1, 0, 0, 0, 1, 0, 1, 1, 1, 0, 0, 1, 0, 0, 0, 0, 0, 0] and [2, 0, 1, 0, 0, 1, 0, 1, 1, 0, 0, 0, 1, 0, 0, 0, 1, 1, 0, 0, 0, 0, 0, 0, 0, 0, 0, 0, 0, 0, 0, 1, 0, 0, 0, 0, 0, 0, 0, 0, 0, 0, 1, 1, 0, 1, 0, 0, 1, 0, 1] is 0.3638034375544995\n",
      "cosine distance between [4, 1, 1, 1, 0, 1, 0, 0, 1, 0, 0, 0, 1, 0, 1, 1, 0, 1, 1, 1, 0, 0, 1, 0, 0, 1, 1, 1, 0, 0, 0, 1, 0, 1, 1, 1, 0, 0, 1, 0, 0, 0, 0, 0] and [4, 0, 0, 1, 0, 0, 0, 0, 0, 0, 0, 1, 0, 0, 0, 0, 1, 0, 1, 0, 0, 0, 0, 0, 0, 0, 0, 0, 0, 0, 0, 0, 0, 0, 0, 0, 1, 1, 0, 1, 0, 0, 1, 0] is 0.6123724356957946\n",
      "cosine distance between [4, 1, 1, 1, 0, 0, 1, 0, 1, 0, 0, 1, 0, 1, 1, 1, 1, 0, 1, 0, 0, 1, 0, 0, 1, 1, 1, 0, 0, 0, 0, 1, 0, 1, 1, 1, 0, 1, 0, 0, 0] and [1, 0, 0, 0, 0, 1, 0, 0, 0, 0, 0, 0, 0, 0, 0, 0, 0, 1, 0, 0, 0, 0, 0, 0, 0, 0, 0, 1, 0, 0, 0, 0, 0, 0, 0, 0, 0, 0, 0, 0, 0] is 0.33333333333333326\n",
      "cosine distance between [4, 1, 0, 1, 1, 0, 0, 1, 0, 1, 0, 0, 1, 0, 1, 1, 1, 1, 1, 0, 0, 1, 0, 0, 1, 0, 1, 1, 0, 0, 0, 1, 0, 1, 1, 1, 0, 1, 0, 0, 0, 0] and [1, 0, 1, 0, 0, 0, 1, 0, 0, 0, 0, 0, 0, 0, 0, 0, 0, 0, 0, 0, 0, 0, 0, 0, 0, 1, 0, 0, 0, 0, 0, 0, 0, 0, 0, 0, 0, 0, 0, 0, 1, 0] is 0.2981423969999719\n",
      "cosine distance between [4, 1, 1, 1, 0, 1, 0, 1, 0, 0, 1, 0, 1, 1, 1, 1, 1, 0, 0, 0, 1, 0, 0, 1, 1, 1, 0, 0, 0, 1, 0, 1, 1, 1, 0, 1, 0, 0, 0, 0, 0, 0] and [1, 0, 0, 0, 0, 0, 0, 0, 0, 0, 0, 0, 0, 0, 0, 0, 0, 0, 0, 0, 0, 0, 0, 0, 0, 0, 0, 0, 0, 0, 0, 0, 0, 0, 1, 0, 1, 0, 0, 1, 0, 0] is 0.33333333333333326\n",
      "cosine distance between [4, 1, 0, 1, 1, 0, 0, 0, 0, 1, 0, 0, 1, 0, 0, 0, 1, 0, 0, 1, 1, 0, 1, 1, 0, 1, 0, 0, 1, 0, 0, 1, 0, 1, 1, 0, 0, 0, 0, 1, 0, 1, 1, 1, 0, 1, 0, 0, 0, 0] and [2, 0, 1, 0, 0, 0, 0, 0, 1, 0, 0, 0, 0, 0, 0, 0, 0, 1, 0, 0, 0, 1, 0, 0, 1, 0, 0, 0, 0, 0, 0, 0, 1, 0, 0, 0, 0, 0, 0, 0, 0, 0, 0, 0, 1, 0, 1, 0, 0, 0] is 0.3849001794597505\n",
      "cosine distance between [4, 1, 1, 1, 0, 1, 0, 1, 0, 0, 1, 0, 1, 1, 1, 1, 1, 0, 0, 0, 1, 0, 0, 1, 1, 1, 0, 0, 0, 1, 0, 1, 1, 1, 1, 0, 0, 0] and [1, 0, 0, 0, 0, 0, 0, 0, 0, 0, 0, 0, 0, 0, 0, 0, 0, 0, 1, 0, 0, 0, 0, 0, 0, 0, 0, 0, 0, 0, 0, 0, 0, 0, 0, 0, 0, 0] is 0.47140452079103157\n",
      "cosine distance between [5, 1, 0, 1, 0, 1, 1, 1, 0, 1, 0, 0, 0, 1, 1, 0, 0, 1, 1, 1] and [2, 0, 0, 0, 0, 0, 0, 0, 0, 0, 2, 2, 1, 0, 0, 0, 0, 0, 0, 0] is 0.4622501635210243\n",
      "cosine distance between [5, 0, 0, 0, 0, 1, 0, 0, 1, 0, 0, 1, 0, 0, 0, 0, 0, 0, 0, 0, 0, 1, 0, 1, 0, 0, 0, 0, 1, 0, 1, 0, 0, 0, 1, 0, 0, 0, 0, 0, 0, 1, 0, 1, 0, 0, 0, 0, 0, 1] and [4, 1, 1, 1, 0, 0, 1, 0, 0, 1, 0, 0, 0, 1, 0, 1, 1, 1, 1, 1, 0, 0, 0, 0, 0, 0, 1, 1, 0, 1, 0, 1, 0, 0, 0, 0, 1, 0, 1, 0, 1, 0, 1, 0, 0, 1, 0, 0, 0, 0] is 0.5555555555555556\n",
      "cosine distance between [5, 0, 0, 0, 0, 0, 0, 1, 0, 0, 1, 0, 0, 0, 1, 0, 0, 0, 0, 0, 1, 0, 0, 0, 1, 0, 1, 1, 0, 1, 0, 0, 1, 1, 0, 0, 0, 0, 0, 0, 1, 0] and [3, 0, 1, 1, 1, 1, 1, 0, 1, 0, 0, 1, 0, 1, 0, 1, 0, 1, 1, 1, 0, 1, 0, 1, 0, 0, 0, 0, 1, 0, 1, 0, 0, 0, 0, 0, 1, 0, 0, 1, 0, 2] is 0.44901325506693723\n",
      "cosine distance between [5, 1, 0, 0, 1, 0, 0, 0, 1, 0, 0, 0, 0, 1, 0, 0, 0, 1, 0, 1, 1, 0, 0, 1, 0, 0, 0, 1, 1, 0, 0, 1, 0] and [2, 0, 1, 1, 0, 1, 1, 0, 0, 0, 1, 1, 1, 0, 1, 0, 0, 0, 0, 0, 0, 0, 1, 0, 1, 1, 0, 0, 0, 0, 0, 0, 1] is 0.41666666666666674\n",
      "cosine distance between [5, 0, 0, 0, 1, 0, 0, 1, 0, 1, 0, 0, 0, 1, 0, 1, 0, 0, 1, 1, 0, 0, 1, 0, 1, 0, 1, 0, 0, 0, 0, 0, 0, 0, 1] and [2, 1, 1, 1, 0, 1, 0, 0, 1, 0, 1, 1, 0, 0, 0, 0, 0, 1, 0, 0, 0, 0, 0, 0, 0, 1, 0, 0, 1, 1, 0, 1, 0, 1, 0] is 0.40422604172722165\n",
      "cosine distance between [5, 0, 1, 0, 1, 0, 1, 0, 0, 0, 1, 1, 0, 1, 1, 1, 0, 0, 1, 0, 1, 0, 0, 0, 0, 0, 1] and [4, 1, 0, 0, 0, 0, 0, 1, 1, 1, 0, 0, 0, 0, 0, 0, 1, 0, 0, 1, 0, 0, 1, 0, 0, 1, 0] is 0.6804138174397718\n",
      "cosine distance between [5, 1, 0, 1, 0, 1, 1, 1, 0, 1, 0, 0, 1, 1, 0, 0, 1, 1, 1] and [1, 0, 0, 0, 0, 0, 0, 0, 0, 0, 1, 1, 0, 0, 0, 1, 0, 0, 0] is 0.41666666666666674\n",
      "cosine distance between [5, 1, 0, 0, 1, 0, 1, 0, 0, 1, 1, 0, 1, 0, 1, 1, 0, 1, 1, 1] and [1, 0, 1, 0, 0, 0, 0, 1, 1, 0, 0, 0, 0, 1, 0, 0, 0, 0, 0, 0] is 0.3726779962499649\n",
      "cosine distance between [5, 1, 1, 1, 1, 0, 1, 0, 1, 1, 0, 1, 0, 0, 1, 1, 0, 0, 0, 0, 0, 1, 0] and [1, 0, 0, 0, 0, 0, 0, 0, 0, 0, 0, 0, 0, 0, 0, 0, 0, 1, 1, 0, 1, 0, 0] is 0.41666666666666674\n",
      "cosine distance between [5, 0, 0, 0, 0, 1, 0, 1, 0, 1, 0, 0, 0, 1, 0, 1, 0, 0, 1, 1, 1, 0, 0, 0, 1, 1, 0, 0, 0, 1] and [2, 1, 0, 0, 1, 0, 0, 0, 0, 0, 1, 1, 1, 0, 0, 0, 0, 1, 0, 0, 0, 0, 1, 0, 0, 0, 0, 1, 0, 0] is 0.4811252243246882\n",
      "cosine distance between [5, 1, 0, 1, 0, 1, 1, 1, 0, 1, 1, 1, 0, 1, 1, 1, 0] and [1, 0, 0, 0, 0, 0, 0, 0, 0, 0, 0, 0, 0, 0, 0, 0, 1] is 0.5892556509887895\n",
      "cosine distance between [3, 0, 1, 1, 1, 1, 1, 1, 0, 0, 1, 0, 1, 1, 0, 1, 1, 1, 1, 0, 1, 0, 0, 1, 0, 0, 1, 0, 0, 1, 0, 0, 1, 2] and [2, 0, 0, 0, 0, 0, 0, 0, 0, 2, 0, 0, 0, 0, 0, 0, 0, 0, 0, 0, 0, 0, 0, 0, 2, 1, 0, 0, 0, 0, 0, 0, 0, 0] is 0.2988812888320308\n",
      "cosine distance between [3, 0, 0, 1, 1, 1, 1, 0, 1, 1, 0, 0, 0, 1, 0, 0, 1, 0, 1, 0, 0, 0, 1, 0, 1, 0, 0, 0, 1, 0, 0, 1, 0, 1, 0, 0, 0, 0, 0, 0, 0, 1, 0, 1, 0, 0, 0, 0, 0, 0, 0, 0, 1, 0, 0, 0, 1, 0, 2] and [4, 0, 1, 0, 1, 1, 0, 0, 0, 0, 1, 0, 0, 0, 0, 1, 0, 0, 0, 1, 0, 1, 0, 0, 0, 1, 1, 1, 0, 1, 0, 0, 0, 0, 1, 0, 0, 1, 1, 1, 0, 0, 0, 0, 0, 1, 0, 1, 0, 1, 1, 0, 0, 1, 0, 0, 0, 0, 0] is 0.4190790380624748\n",
      "cosine distance between [3, 0, 1, 1, 1, 1, 1, 1, 0, 0, 0, 1, 0, 1, 0, 1, 0, 1, 1, 1, 1, 0, 0, 1, 0, 0, 0, 0, 1, 0, 1, 0, 0, 0, 0, 0, 1, 0, 0, 1, 0, 2] and [5, 0, 0, 0, 0, 0, 0, 0, 1, 0, 1, 0, 0, 0, 1, 0, 0, 0, 0, 0, 0, 1, 0, 0, 1, 0, 1, 1, 0, 1, 0, 0, 1, 1, 0, 0, 0, 0, 0, 0, 1, 0] is 0.44901325506693723\n",
      "cosine distance between [3, 0, 1, 1, 1, 1, 1, 1, 0, 0, 0, 0, 0, 1, 0, 1, 0, 0, 1, 0, 1, 1, 0, 0, 1, 1, 0, 0, 0, 1, 0, 0, 1, 0, 0, 0, 1, 0, 0, 1, 0, 0, 1, 2] and [2, 0, 0, 0, 0, 0, 0, 0, 0, 1, 1, 1, 1, 0, 0, 0, 0, 1, 0, 0, 0, 0, 1, 1, 0, 0, 1, 0, 0, 0, 0, 0, 0, 1, 1, 1, 0, 0, 0, 0, 0, 0, 0, 1] is 0.3592106040535499\n",
      "cosine distance between [3, 0, 0, 1, 1, 1, 0, 1, 0, 1, 1, 0, 0, 0, 0, 1, 0, 1, 1, 0, 0, 0, 0, 1, 1, 1, 1, 0, 1, 0, 0, 0, 1, 0, 1, 0, 0, 0, 1, 0, 0, 0, 0, 1, 0, 0, 0, 2] and [2, 0, 1, 0, 0, 0, 1, 0, 1, 0, 0, 1, 0, 0, 1, 0, 0, 0, 0, 1, 1, 0, 0, 0, 0, 0, 0, 0, 0, 0, 1, 0, 0, 0, 0, 0, 1, 0, 0, 1, 1, 0, 0, 0, 1, 0, 1, 0] is 0.2613641051214193\n",
      "cosine distance between [3, 0, 1, 1, 1, 1, 1, 1, 0, 0, 1, 0, 1, 0, 0, 1, 0, 0, 1, 1, 0, 1, 1, 0, 1, 0, 1, 1, 0, 0, 0, 0, 1, 0, 0, 0, 1, 0, 2] and [4, 0, 0, 1, 0, 0, 0, 0, 0, 0, 0, 0, 0, 0, 1, 0, 0, 1, 0, 0, 1, 0, 0, 0, 0, 0, 0, 0, 1, 0, 1, 0, 0, 1, 0, 0, 0, 1, 0] is 0.4766031238193983\n",
      "cosine distance between [3, 0, 1, 1, 1, 1, 1, 1, 0, 0, 1, 0, 1, 1, 0, 1, 1, 0, 1, 1, 0, 1, 0, 0, 1, 1, 0, 0, 1, 0, 0, 1, 2] and [1, 0, 0, 0, 0, 0, 0, 0, 1, 0, 0, 0, 0, 0, 0, 0, 0, 1, 0, 0, 0, 0, 0, 1, 0, 0, 0, 0, 0, 0, 0, 0, 0] is 0.2694079530401623\n",
      "cosine distance between [3, 0, 1, 1, 1, 0, 1, 1, 1, 0, 0, 1, 0, 1, 1, 0, 1, 0, 1, 1, 1, 0, 1, 0, 0, 1, 1, 0, 0, 1, 0, 0, 1, 2] and [1, 0, 0, 0, 0, 1, 0, 0, 0, 1, 0, 0, 0, 0, 0, 0, 0, 1, 0, 0, 0, 0, 0, 0, 1, 0, 0, 0, 0, 0, 0, 0, 0, 0] is 0.24096579867074963\n",
      "cosine distance between [3, 0, 1, 1, 1, 1, 0, 1, 1, 0, 1, 0, 1, 1, 0, 1, 1, 1, 1, 0, 1, 0, 0, 0, 1, 1, 0, 0, 0, 1, 0, 0, 0, 0, 1, 0, 2] and [1, 0, 0, 0, 0, 0, 0, 0, 0, 0, 0, 0, 0, 0, 0, 0, 0, 0, 0, 0, 0, 0, 0, 0, 0, 0, 0, 0, 0, 0, 1, 1, 0, 0, 0, 1, 0] is 0.2694079530401623\n",
      "cosine distance between [3, 0, 0, 1, 1, 1, 0, 1, 0, 1, 1, 0, 0, 1, 0, 0, 1, 1, 0, 0, 1, 1, 0, 1, 1, 0, 1, 0, 0, 1, 0, 1, 0, 0, 0, 1, 0, 0, 0, 1, 2] and [2, 0, 1, 0, 0, 0, 0, 0, 0, 0, 0, 1, 0, 0, 0, 0, 0, 0, 1, 0, 0, 1, 1, 0, 0, 0, 0, 1, 0, 0, 0, 0, 1, 0, 0, 0, 1, 0, 0, 0, 0] is 0.3629330931556489\n",
      "cosine distance between [3, 0, 1, 1, 1, 1, 1, 1, 0, 1, 0, 1, 1, 0, 1, 1, 1, 1, 0, 0, 1, 0, 1, 1, 0, 0, 1, 0, 0, 1, 2] and [1, 0, 0, 0, 0, 0, 0, 0, 0, 0, 0, 0, 0, 0, 0, 0, 0, 0, 1, 0, 0, 0, 0, 0, 0, 0, 0, 0, 0, 0, 0] is 0.38100038100057154\n",
      "cosine distance between [2, 0, 1, 1, 1, 1, 0, 0, 1, 1, 1, 1, 0, 0, 0, 0, 0, 0, 1, 1, 1, 0, 1] and [2, 2, 0, 0, 0, 0, 0, 0, 0, 0, 0, 0, 0, 0, 0, 0, 1, 2, 0, 0, 0, 0, 0] is 0.2773500981126146\n",
      "cosine distance between [2, 0, 0, 0, 0, 0, 1, 1, 0, 1, 1, 0, 0, 0, 1, 0, 0, 0, 0, 1, 0, 0, 1, 0, 0, 1, 0, 0, 0, 0, 0, 0, 0, 0, 0, 0, 0, 1, 1, 1, 0, 0, 0, 0, 0, 0, 0, 0, 0, 0, 0, 1] and [4, 1, 1, 1, 0, 1, 0, 0, 0, 0, 0, 0, 1, 0, 0, 1, 0, 1, 1, 0, 1, 1, 0, 1, 0, 0, 0, 0, 1, 0, 0, 1, 1, 0, 1, 0, 0, 0, 0, 0, 0, 1, 0, 1, 0, 1, 1, 1, 0, 0, 0, 0] is 0.33333333333333326\n",
      "cosine distance between [2, 0, 1, 1, 0, 1, 1, 0, 0, 0, 1, 1, 1, 0, 1, 0, 0, 0, 0, 0, 0, 0, 1, 1, 0, 1, 0, 0, 0, 0, 0, 0, 1] and [5, 1, 0, 0, 1, 0, 0, 0, 1, 0, 0, 0, 0, 1, 0, 0, 0, 1, 0, 1, 0, 1, 0, 0, 1, 0, 0, 1, 1, 0, 0, 1, 0] is 0.41666666666666674\n",
      "cosine distance between [2, 0, 0, 0, 0, 0, 0, 0, 0, 1, 1, 1, 1, 0, 0, 0, 0, 1, 0, 0, 0, 1, 0, 1, 0, 0, 1, 0, 0, 0, 0, 0, 1, 1, 0, 1, 0, 0, 0, 0, 0, 0, 0, 1] and [3, 0, 1, 1, 1, 1, 1, 1, 0, 0, 0, 0, 0, 1, 0, 1, 0, 0, 1, 0, 1, 0, 1, 0, 1, 1, 0, 0, 0, 1, 0, 0, 0, 0, 1, 0, 1, 0, 0, 1, 0, 0, 1, 2] is 0.3592106040535499\n",
      "cosine distance between [2, 0, 0, 0, 0, 0, 1, 1, 1, 1, 0, 0, 0, 1, 0, 0, 0, 1, 1, 1, 0, 0, 0, 0, 0, 1, 1, 0, 1, 0, 0, 0, 0, 0, 0, 0, 0, 1] and [2, 1, 1, 1, 1, 0, 0, 0, 0, 0, 1, 0, 0, 0, 1, 1, 0, 0, 0, 0, 0, 0, 1, 0, 0, 0, 0, 0, 0, 0, 1, 1, 1, 0, 1, 0, 1, 0] is 0.24253562503633297\n",
      "cosine distance between [2, 0, 0, 1, 1, 1, 1, 0, 0, 1, 0, 0, 1, 0, 1, 1, 0, 0, 0, 1, 1, 1, 0, 0, 0, 0, 0, 0, 1] and [4, 1, 0, 0, 0, 0, 0, 0, 0, 0, 1, 1, 0, 1, 0, 0, 0, 0, 0, 0, 0, 0, 1, 0, 1, 1, 0, 1, 0] is 0.40824829046386313\n",
      "cosine distance between [2, 0, 1, 1, 1, 1, 0, 0, 1, 1, 0, 1, 1, 0, 0, 0, 0, 1, 1, 1, 0, 1] and [1, 1, 0, 0, 0, 0, 0, 0, 0, 0, 1, 0, 0, 0, 0, 0, 1, 0, 0, 0, 0, 0] is 0.25\n",
      "cosine distance between [2, 0, 0, 1, 1, 1, 1, 0, 0, 1, 1, 1, 1, 0, 0, 0, 0, 0, 1, 1, 1, 0, 0, 1] and [1, 1, 1, 0, 0, 0, 0, 0, 0, 0, 0, 0, 0, 0, 0, 1, 0, 0, 0, 0, 0, 0, 1, 0] is 0.22360679774997894\n",
      "cosine distance between [2, 0, 1, 1, 1, 1, 0, 0, 1, 1, 1, 1, 0, 0, 0, 0, 0, 1, 1, 1, 0, 0, 0, 0, 0, 1] and [1, 0, 0, 0, 0, 0, 0, 0, 0, 0, 0, 0, 0, 0, 0, 0, 0, 0, 0, 0, 0, 0, 1, 1, 1, 0] is 0.25\n",
      "cosine distance between [2, 0, 0, 0, 0, 0, 1, 1, 1, 1, 0, 0, 0, 1, 0, 1, 0, 0, 1, 1, 0, 0, 0, 0, 0, 1, 1, 0, 1, 0, 0, 0, 1] and [2, 1, 0, 0, 1, 0, 0, 0, 0, 0, 0, 0, 0, 0, 1, 0, 1, 1, 0, 0, 0, 0, 1, 0, 0, 0, 0, 0, 0, 1, 0, 1, 0] is 0.28867513459481287\n",
      "cosine distance between [2, 0, 0, 1, 0, 1, 1, 1, 1, 0, 1, 1, 1, 1, 0, 0, 1, 0, 1, 1] and [1, 0, 0, 0, 0, 0, 0, 0, 0, 1, 0, 0, 0, 0, 0, 0, 0, 0, 0, 0] is 0.35355339059327373\n",
      "cosine distance between [2, 1, 1, 1, 1, 0, 0, 1, 1, 1, 0, 0, 1, 0, 0, 0, 0, 1, 1, 1, 0, 1, 0, 1] and [2, 0, 0, 0, 0, 0, 2, 0, 0, 0, 0, 0, 0, 0, 0, 2, 1, 0, 0, 0, 0, 0, 0, 0] is 0.26906911759852503\n",
      "cosine distance between [2, 0, 1, 1, 0, 1, 0, 0, 1, 0, 0, 0, 1, 0, 0, 0, 1, 1, 0, 0, 0, 0, 0, 0, 0, 0, 0, 0, 0, 0, 0, 1, 0, 0, 0, 0, 0, 0, 0, 0, 0, 0, 1, 1, 0, 1, 0, 1, 0, 0, 1] and [4, 1, 0, 0, 1, 0, 1, 0, 0, 1, 0, 0, 0, 1, 0, 0, 1, 0, 0, 1, 0, 1, 1, 1, 1, 0, 0, 1, 0, 0, 1, 0, 1, 1, 0, 0, 0, 1, 0, 1, 1, 1, 0, 0, 1, 0, 0, 0, 0, 0, 0] is 0.3638034375544995\n",
      "cosine distance between [2, 1, 1, 1, 1, 0, 0, 0, 1, 0, 1, 1, 0, 0, 0, 0, 0, 1, 0, 0, 0, 0, 0, 0, 0, 1, 0, 0, 1, 1, 0, 1, 0, 1, 0] and [5, 0, 0, 0, 0, 1, 0, 1, 0, 1, 0, 0, 0, 1, 0, 1, 0, 0, 1, 1, 0, 0, 1, 0, 1, 0, 1, 0, 0, 0, 0, 0, 0, 0, 1] is 0.40422604172722165\n",
      "cosine distance between [2, 0, 1, 0, 1, 0, 1, 0, 0, 0, 1, 0, 0, 0, 1, 0, 0, 0, 0, 1, 1, 0, 0, 0, 0, 0, 0, 0, 0, 0, 1, 0, 0, 0, 0, 0, 1, 1, 0, 0, 1, 0, 1, 0, 0, 0, 1, 0] and [3, 0, 0, 1, 0, 1, 0, 1, 1, 1, 0, 1, 0, 0, 0, 1, 0, 1, 1, 0, 0, 0, 0, 1, 1, 1, 1, 0, 1, 0, 0, 0, 0, 1, 1, 0, 0, 0, 0, 1, 0, 0, 0, 1, 0, 0, 0, 2] is 0.2613641051214193\n",
      "cosine distance between [2, 1, 1, 1, 1, 0, 0, 0, 1, 0, 0, 0, 0, 0, 1, 1, 0, 0, 0, 0, 0, 0, 1, 0, 0, 0, 0, 0, 0, 0, 1, 1, 1, 0, 1, 0, 1, 0] and [2, 0, 0, 0, 0, 0, 1, 1, 0, 1, 1, 0, 0, 1, 0, 0, 0, 1, 1, 1, 0, 0, 0, 0, 0, 0, 1, 1, 1, 0, 0, 0, 0, 0, 0, 0, 0, 1] is 0.24253562503633297\n",
      "cosine distance between [2, 1, 1, 0, 1, 1, 0, 0, 1, 0, 0, 1, 1, 0, 0, 0, 0, 1, 0, 0, 0, 1, 0, 1, 1, 0, 1, 0, 0, 0, 0, 1] and [4, 0, 0, 1, 0, 0, 0, 0, 0, 0, 1, 0, 0, 0, 1, 1, 0, 0, 0, 0, 1, 0, 1, 0, 0, 0, 0, 0, 1, 1, 0, 0] is 0.3960590171906697\n",
      "cosine distance between [2, 1, 1, 1, 0, 1, 0, 1, 1, 1, 0, 0, 0, 1, 0, 0, 0, 0, 1, 1, 1, 0, 1, 0, 1] and [1, 0, 0, 0, 1, 0, 0, 0, 0, 0, 0, 1, 0, 0, 1, 0, 0, 0, 0, 0, 0, 0, 0, 0, 0] is 0.24253562503633297\n",
      "cosine distance between [2, 1, 0, 1, 1, 0, 1, 0, 1, 1, 1, 0, 0, 0, 0, 1, 0, 0, 0, 1, 1, 1, 0, 1, 0, 0, 1] and [1, 0, 1, 0, 0, 1, 0, 0, 0, 0, 0, 0, 0, 1, 0, 0, 0, 0, 0, 0, 0, 0, 0, 0, 1, 0, 0] is 0.21693045781865616\n",
      "cosine distance between [2, 1, 1, 1, 1, 0, 1, 1, 1, 0, 0, 0, 1, 0, 0, 0, 1, 1, 0, 1, 0, 1, 0, 0, 0, 1, 0] and [1, 0, 0, 0, 0, 0, 0, 0, 0, 0, 0, 0, 0, 0, 0, 0, 0, 0, 1, 0, 0, 0, 1, 1, 0, 0, 0] is 0.24253562503633297\n",
      "cosine distance between [2, 1, 0, 1, 1, 0, 0, 0, 1, 0, 0, 1, 0, 1, 1, 0, 0, 0, 0, 0, 0, 0, 1, 0, 0, 0, 0, 1, 1, 0, 1, 0, 1, 0, 1] and [2, 0, 1, 0, 0, 0, 0, 1, 0, 0, 0, 0, 0, 0, 0, 0, 1, 1, 1, 0, 1, 0, 0, 0, 0, 0, 1, 0, 0, 1, 0, 0, 0, 0, 0] is 0.280056016805602\n",
      "cosine distance between [2, 1, 1, 1, 1, 0, 1, 1, 1, 0, 0, 0, 1, 0, 0, 1, 1, 1, 0, 1, 0, 1] and [1, 0, 0, 0, 0, 0, 0, 0, 0, 0, 1, 0, 0, 0, 0, 0, 0, 0, 0, 0, 0, 0] is 0.34299717028501764\n",
      "cosine distance between [4, 1, 1, 1, 1, 1, 0, 0, 0, 1, 0, 1, 1, 0, 0, 0] and [2, 0, 0, 0, 0, 0, 2, 0, 2, 0, 0, 0, 0, 0, 1, 0] is 0.45291081365783836\n",
      "cosine distance between [4, 0, 1, 0, 0, 0, 0, 0, 0, 0, 0, 1, 0, 1, 0, 0, 0, 0, 1, 0, 0, 0, 0, 0, 0, 0, 0, 0, 0, 0, 1, 0, 0, 0, 0, 0, 0, 1, 0, 1, 0, 0, 1, 0] and [4, 1, 1, 1, 0, 1, 0, 0, 1, 0, 0, 0, 1, 0, 1, 0, 1, 1, 1, 1, 0, 0, 1, 0, 0, 1, 1, 1, 0, 0, 0, 0, 1, 0, 1, 1, 1, 0, 1, 0, 0, 0, 0, 0] is 0.6123724356957946\n",
      "cosine distance between [4, 1, 0, 0, 0, 0, 0, 1, 1, 1, 0, 0, 0, 0, 0, 0, 1, 0, 0, 1, 0, 0, 1, 0, 0, 1, 0] and [5, 0, 1, 0, 1, 1, 0, 0, 0, 0, 1, 1, 0, 1, 1, 1, 0, 0, 1, 0, 1, 0, 0, 0, 0, 0, 1] is 0.6804138174397718\n",
      "cosine distance between [4, 0, 0, 1, 0, 0, 0, 0, 0, 0, 0, 0, 0, 0, 1, 0, 1, 0, 0, 0, 1, 0, 0, 0, 0, 0, 0, 0, 1, 0, 1, 0, 0, 1, 0, 0, 0, 1, 0] and [3, 0, 1, 1, 1, 1, 1, 1, 0, 0, 1, 0, 1, 0, 0, 1, 0, 0, 1, 1, 0, 1, 1, 0, 1, 0, 1, 1, 0, 0, 0, 0, 1, 0, 0, 0, 1, 0, 2] is 0.4766031238193983\n",
      "cosine distance between [4, 1, 0, 0, 0, 0, 0, 0, 0, 0, 1, 1, 0, 1, 0, 0, 0, 0, 0, 0, 0, 0, 1, 0, 1, 1, 0, 1, 0] and [2, 0, 0, 1, 1, 1, 1, 0, 0, 1, 0, 0, 1, 0, 1, 1, 0, 0, 0, 1, 1, 1, 0, 0, 0, 0, 0, 0, 1] is 0.40824829046386313\n",
      "cosine distance between [4, 0, 1, 0, 0, 0, 0, 0, 0, 0, 1, 0, 0, 1, 0, 1, 0, 0, 0, 0, 1, 1, 0, 0, 1, 0, 0, 0, 1, 0, 0, 0] and [2, 1, 0, 1, 1, 1, 0, 0, 1, 0, 0, 1, 1, 0, 0, 0, 0, 1, 0, 0, 0, 0, 1, 1, 0, 0, 1, 0, 0, 1, 0, 1] is 0.3960590171906697\n",
      "cosine distance between [4, 1, 1, 1, 0, 1, 1, 0, 0, 0, 1, 0, 1, 0, 1, 0] and [1, 0, 0, 0, 0, 0, 0, 1, 1, 0, 0, 0, 0, 1, 0, 0] is 0.40824829046386313\n",
      "cosine distance between [4, 1, 1, 0, 1, 0, 1, 0, 0, 1, 0, 0, 1, 0, 1, 0, 1, 0] and [1, 0, 0, 1, 0, 0, 0, 1, 0, 0, 1, 0, 0, 0, 0, 1, 0, 0] is 0.3651483716701107\n",
      "cosine distance between [4, 1, 1, 0, 1, 0, 1, 0, 1, 0, 0, 1, 0, 1, 0, 1, 0, 0, 0] and [1, 0, 0, 0, 0, 0, 0, 1, 0, 1, 0, 0, 0, 0, 1, 0, 0, 0, 0] is 0.40824829046386313\n",
      "cosine distance between [4, 0, 1, 0, 0, 0, 0, 0, 0, 0, 1, 0, 1, 0, 0, 1, 0, 0, 0, 0, 1, 0, 1, 0, 1, 0, 1] and [2, 1, 0, 0, 0, 1, 0, 0, 0, 0, 0, 1, 0, 1, 1, 0, 0, 1, 0, 0, 0, 1, 0, 1, 0, 0, 0] is 0.4714045207910318\n",
      "cosine distance between [4, 1, 1, 1, 1, 1, 0, 1, 0, 1, 1, 0, 0] and [1, 0, 0, 0, 0, 0, 0, 0, 0, 0, 0, 0, 1] is 0.5773502691896258\n",
      "cosine distance between [1, 0, 1, 0, 1, 1, 0, 0, 0] and [2, 0, 0, 2, 0, 0, 0, 1, 2] is 0.2773500981126146\n",
      "cosine distance between [1, 0, 0, 0, 0, 1, 0, 0, 0, 0, 0, 0, 0, 0, 0, 0, 1, 0, 0, 0, 0, 0, 0, 0, 0, 0, 1, 0, 0, 0, 0, 0, 0, 0, 0, 0, 0, 0, 0, 0, 0] and [4, 1, 1, 1, 0, 0, 1, 0, 1, 0, 0, 1, 0, 1, 1, 1, 0, 1, 1, 0, 0, 1, 0, 0, 1, 1, 0, 1, 0, 0, 0, 1, 0, 1, 0, 1, 1, 1, 0, 0, 0] is 0.33333333333333326\n",
      "cosine distance between [1, 0, 0, 0, 0, 0, 1, 0, 0, 0, 0, 1, 0, 0, 0, 1, 0, 0, 0] and [5, 1, 0, 1, 0, 1, 0, 1, 0, 1, 1, 0, 1, 1, 0, 0, 1, 1, 1] is 0.41666666666666674\n",
      "cosine distance between [1, 0, 0, 0, 0, 0, 1, 0, 0, 0, 0, 0, 0, 0, 0, 0, 0, 1, 0, 0, 0, 0, 0, 1, 0, 0, 0, 0, 0, 0, 0, 0, 0] and [3, 0, 1, 1, 1, 1, 0, 1, 1, 0, 1, 0, 1, 1, 0, 1, 1, 0, 1, 1, 0, 1, 0, 0, 1, 1, 0, 0, 1, 0, 0, 1, 2] is 0.2694079530401623\n",
      "cosine distance between [1, 1, 0, 0, 0, 0, 0, 0, 0, 0, 1, 0, 0, 0, 0, 0, 1, 0, 0, 0, 0, 0] and [2, 0, 1, 1, 1, 1, 0, 0, 1, 1, 0, 1, 1, 0, 0, 0, 0, 1, 1, 1, 0, 1] is 0.25\n",
      "cosine distance between [1, 0, 0, 0, 1, 0, 0, 0, 0, 0, 0, 1, 0, 0, 1, 0, 0, 0, 0, 0, 0, 0, 0, 0, 0] and [2, 1, 1, 1, 0, 1, 0, 1, 1, 1, 0, 0, 0, 1, 0, 0, 0, 0, 1, 1, 1, 0, 1, 0, 1] is 0.24253562503633297\n",
      "cosine distance between [1, 0, 0, 0, 0, 0, 0, 1, 0, 0, 1, 0, 0, 0, 1, 0] and [4, 1, 1, 1, 0, 1, 1, 0, 1, 0, 0, 0, 1, 1, 0, 0] is 0.40824829046386313\n",
      "cosine distance between [1, 0, 0, 0, 0, 1, 1, 0, 1] and [1, 1, 0, 1, 0, 1, 0, 1, 0] is 0.44721359549995787\n",
      "cosine distance between [1, 0, 0, 0, 0, 1, 0, 1, 0, 1, 0, 0] and [1, 0, 0, 0, 1, 0, 1, 0, 1, 0, 0, 0] is 0.25\n",
      "cosine distance between [1, 0, 0, 0, 0, 0, 0, 0, 0, 0, 1, 0, 0, 0, 0, 1, 1, 0, 0] and [2, 0, 1, 1, 0, 0, 1, 0, 0, 1, 1, 1, 0, 1, 1, 0, 0, 0, 0] is 0.4330127018922194\n",
      "cosine distance between [1, 0, 1, 1, 1, 0] and [1, 0, 0, 0, 0, 1] is 0.35355339059327373\n",
      "cosine distance between [1, 1, 0, 1, 0, 1, 0, 1, 0, 0, 0] and [2, 0, 0, 0, 0, 0, 2, 0, 0, 1, 2] is 0.24806946917841688\n",
      "cosine distance between [1, 0, 1, 0, 0, 0, 1, 0, 0, 0, 0, 0, 0, 0, 0, 0, 0, 0, 0, 0, 0, 0, 1, 0, 0, 0, 0, 0, 0, 0, 0, 0, 0, 0, 0, 0, 0, 0, 0, 0, 1, 0] and [4, 1, 0, 1, 1, 0, 0, 1, 0, 1, 0, 0, 1, 0, 1, 1, 1, 1, 1, 0, 0, 1, 0, 0, 0, 1, 1, 1, 0, 0, 0, 1, 0, 1, 0, 1, 1, 1, 0, 0, 0, 0] is 0.2981423969999719\n",
      "cosine distance between [1, 0, 1, 0, 0, 1, 0, 0, 1, 0, 0, 0, 0, 0, 0, 1, 0, 0, 0, 0] and [5, 1, 0, 0, 1, 0, 0, 1, 0, 1, 0, 1, 1, 1, 1, 0, 0, 1, 1, 1] is 0.3726779962499649\n",
      "cosine distance between [1, 0, 1, 0, 0, 0, 0, 1, 0, 0, 0, 0, 0, 0, 0, 0, 0, 0, 0, 0, 0, 0, 1, 0, 0, 0, 0, 0, 0, 0, 0, 1, 0, 0] and [3, 0, 0, 1, 1, 1, 1, 0, 1, 1, 0, 1, 0, 1, 1, 0, 1, 1, 1, 1, 0, 1, 0, 0, 1, 1, 0, 0, 1, 0, 0, 0, 1, 2] is 0.24096579867074963\n",
      "cosine distance between [1, 1, 1, 0, 0, 0, 0, 0, 0, 0, 0, 0, 0, 0, 0, 1, 0, 0, 0, 0, 0, 0, 1, 0] and [2, 0, 0, 1, 1, 1, 1, 0, 0, 1, 1, 1, 1, 0, 0, 0, 0, 0, 1, 1, 1, 0, 0, 1] is 0.22360679774997894\n",
      "cosine distance between [1, 0, 1, 0, 0, 1, 0, 0, 0, 0, 0, 0, 0, 1, 0, 0, 0, 0, 0, 0, 0, 0, 0, 0, 1, 0, 0] and [2, 1, 0, 1, 1, 0, 1, 0, 1, 1, 1, 0, 0, 0, 0, 1, 0, 0, 0, 1, 1, 1, 0, 1, 0, 0, 1] is 0.21693045781865616\n",
      "cosine distance between [1, 0, 0, 1, 0, 0, 1, 0, 0, 0, 1, 0, 0, 0, 0, 1, 0, 0] and [4, 1, 1, 0, 1, 0, 0, 0, 1, 1, 0, 0, 1, 0, 1, 0, 1, 0] is 0.3651483716701107\n",
      "cosine distance between [1, 1, 0, 1, 0, 1, 0, 1, 0] and [1, 0, 0, 0, 0, 1, 1, 0, 1] is 0.44721359549995787\n",
      "cosine distance between [1, 0, 1, 0, 0, 1, 0, 1, 0, 0, 1, 0, 0, 0] and [1, 0, 0, 0, 0, 0, 0, 0, 1, 1, 0, 1, 0, 0] is 0.22360679774997894\n",
      "cosine distance between [1, 0, 0, 1, 0, 0, 0, 0, 1, 0, 0, 0, 1, 0, 0, 0, 0, 1, 0, 0] and [2, 0, 1, 0, 1, 0, 0, 1, 0, 0, 0, 1, 1, 1, 0, 1, 1, 0, 0, 0] is 0.3872983346207417\n",
      "cosine distance between [1, 1, 0, 1, 0, 1, 1, 0] and [1, 0, 0, 0, 0, 0, 0, 1] is 0.316227766016838\n",
      "cosine distance between [1, 0, 0, 1, 0, 1, 1, 0, 0, 0, 0] and [2, 0, 0, 0, 2, 0, 0, 0, 1, 2, 0] is 0.2773500981126146\n",
      "cosine distance between [1, 0, 0, 0, 0, 0, 0, 0, 0, 0, 0, 0, 0, 0, 0, 0, 0, 0, 0, 0, 0, 0, 0, 0, 0, 0, 0, 0, 0, 0, 0, 0, 0, 0, 1, 0, 1, 0, 0, 1, 0, 0] and [4, 1, 1, 1, 0, 1, 0, 1, 0, 0, 1, 0, 1, 1, 1, 1, 1, 0, 0, 0, 1, 0, 0, 1, 1, 1, 0, 0, 0, 1, 0, 1, 1, 1, 0, 1, 0, 0, 0, 0, 0, 0] is 0.33333333333333326\n",
      "cosine distance between [1, 0, 0, 0, 0, 0, 0, 0, 0, 0, 0, 0, 0, 0, 0, 0, 0, 1, 1, 0, 1, 0, 0] and [5, 1, 1, 1, 1, 0, 1, 0, 1, 1, 0, 1, 0, 0, 1, 1, 0, 0, 0, 0, 0, 1, 0] is 0.41666666666666674\n",
      "cosine distance between [1, 0, 0, 0, 0, 0, 0, 0, 0, 0, 0, 0, 0, 0, 0, 0, 0, 0, 0, 0, 0, 0, 0, 0, 0, 0, 0, 0, 0, 1, 0, 1, 0, 0, 0, 1, 0] and [3, 0, 1, 1, 1, 1, 0, 1, 1, 0, 1, 0, 1, 1, 0, 1, 1, 1, 1, 0, 1, 0, 0, 0, 1, 1, 0, 0, 0, 0, 1, 0, 0, 0, 1, 0, 2] is 0.2694079530401623\n",
      "cosine distance between [1, 0, 0, 0, 0, 0, 0, 0, 0, 0, 0, 0, 0, 0, 0, 0, 0, 0, 0, 0, 0, 0, 1, 1, 1, 0] and [2, 0, 1, 1, 1, 1, 0, 0, 1, 1, 1, 1, 0, 0, 0, 0, 0, 1, 1, 1, 0, 0, 0, 0, 0, 1] is 0.25\n",
      "cosine distance between [1, 0, 0, 0, 0, 0, 0, 0, 0, 0, 0, 0, 0, 0, 0, 0, 0, 0, 1, 1, 0, 0, 0, 1, 0, 0, 0] and [2, 1, 1, 1, 1, 0, 1, 1, 1, 0, 0, 0, 1, 0, 0, 0, 1, 1, 0, 0, 0, 1, 1, 0, 0, 1, 0] is 0.24253562503633297\n",
      "cosine distance between [1, 0, 0, 0, 0, 0, 0, 0, 1, 0, 0, 1, 0, 0, 0, 1, 0, 0, 0] and [4, 0, 1, 1, 1, 0, 1, 1, 0, 0, 1, 0, 0, 1, 1, 0, 0, 0, 0] is 0.40824829046386313\n",
      "cosine distance between [1, 0, 0, 0, 0, 0, 1, 1, 0, 1, 0, 0] and [1, 0, 0, 0, 1, 1, 0, 0, 1, 0, 0, 0] is 0.25\n",
      "cosine distance between [1, 0, 0, 0, 0, 0, 0, 0, 1, 1, 0, 1, 0, 0] and [1, 0, 1, 0, 0, 1, 0, 1, 0, 0, 1, 0, 0, 0] is 0.22360679774997894\n",
      "cosine distance between [1, 0, 0, 0, 0, 0, 0, 0, 0, 0, 0, 0, 0, 0, 0, 0, 0, 0, 1, 0, 1, 1, 0] and [2, 1, 0, 0, 1, 0, 0, 1, 1, 1, 0, 0, 1, 0, 0, 0, 0, 1, 0, 1, 0, 0, 0] is 0.28867513459481287\n",
      "cosine distance between [1, 0, 0, 1, 1, 1, 0, 0, 0] and [1, 0, 0, 0, 0, 0, 0, 1, 0] is 0.35355339059327373\n",
      "cosine distance between [2, 0, 1, 1, 0, 1, 0, 0, 1, 1, 1, 0, 1, 1, 0, 0, 0, 0, 0, 0] and [2, 0, 0, 0, 0, 0, 0, 0, 0, 0, 0, 0, 0, 0, 2, 0, 0, 1, 2, 0] is 0.3202563076101743\n",
      "cosine distance between [2, 0, 1, 0, 0, 0, 0, 0, 1, 0, 0, 0, 0, 0, 0, 0, 1, 0, 0, 0, 0, 1, 1, 0, 0, 0, 0, 0, 1, 0, 0, 0, 0, 0, 0, 0, 0, 0, 0, 0, 0, 1, 0, 0, 0, 0, 1, 0, 0, 0] and [4, 1, 0, 1, 1, 0, 0, 0, 0, 1, 0, 0, 0, 1, 0, 0, 0, 1, 0, 1, 1, 0, 0, 1, 1, 1, 0, 0, 0, 0, 0, 1, 1, 1, 1, 0, 0, 0, 0, 1, 0, 0, 1, 1, 1, 1, 0, 0, 0, 0] is 0.3849001794597505\n",
      "cosine distance between [2, 1, 0, 0, 1, 0, 0, 0, 0, 0, 1, 1, 1, 0, 0, 1, 0, 0, 0, 0, 0, 0, 1, 0, 0, 0, 0, 1, 0, 0] and [5, 0, 0, 0, 0, 1, 0, 1, 0, 1, 0, 0, 0, 1, 0, 0, 0, 1, 1, 1, 1, 0, 0, 0, 1, 1, 0, 0, 0, 1] is 0.4811252243246882\n",
      "cosine distance between [2, 0, 1, 0, 0, 0, 0, 0, 0, 1, 0, 0, 0, 0, 0, 0, 0, 0, 1, 0, 0, 1, 1, 0, 0, 0, 0, 1, 0, 0, 0, 0, 1, 0, 0, 0, 1, 0, 0, 0, 0] and [3, 0, 0, 1, 1, 1, 0, 0, 1, 0, 1, 1, 0, 1, 0, 0, 1, 1, 0, 0, 1, 1, 0, 1, 1, 0, 1, 0, 0, 1, 0, 1, 0, 0, 0, 1, 0, 0, 0, 1, 2] is 0.3629330931556489\n",
      "cosine distance between [2, 1, 0, 0, 1, 0, 0, 0, 0, 0, 0, 0, 0, 0, 1, 1, 0, 1, 0, 0, 0, 0, 1, 0, 0, 0, 0, 0, 0, 1, 0, 1, 0] and [2, 0, 0, 0, 0, 0, 1, 1, 1, 1, 0, 0, 0, 1, 0, 0, 1, 0, 1, 1, 0, 0, 0, 0, 0, 1, 1, 0, 1, 0, 0, 0, 1] is 0.28867513459481287\n",
      "cosine distance between [2, 1, 0, 0, 0, 0, 0, 1, 0, 0, 0, 0, 0, 1, 0, 0, 0, 1, 1, 0, 1, 0, 0, 0, 0, 0, 1, 0, 0, 1, 0, 0, 0, 0, 0] and [2, 0, 1, 1, 0, 0, 1, 0, 1, 0, 0, 1, 0, 0, 1, 0, 1, 0, 0, 0, 0, 0, 1, 0, 0, 0, 0, 1, 1, 0, 1, 0, 1, 0, 1] is 0.280056016805602\n",
      "cosine distance between [2, 1, 0, 0, 0, 1, 0, 0, 0, 0, 0, 1, 0, 1, 1, 0, 0, 1, 0, 0, 0, 1, 0, 1, 0, 0, 0] and [4, 0, 1, 0, 0, 0, 0, 0, 0, 0, 1, 0, 1, 0, 0, 1, 0, 0, 0, 0, 1, 0, 1, 0, 1, 0, 1] is 0.4714045207910318\n",
      "cosine distance between [2, 0, 1, 1, 0, 0, 1, 0, 0, 1, 1, 1, 0, 1, 1, 0, 0, 0, 0] and [1, 0, 0, 0, 0, 0, 0, 0, 0, 0, 0, 1, 0, 0, 0, 1, 1, 0, 0] is 0.4330127018922194\n",
      "cosine distance between [2, 0, 1, 0, 1, 0, 0, 1, 0, 0, 1, 0, 1, 1, 0, 1, 1, 0, 0, 0] and [1, 0, 0, 1, 0, 0, 0, 0, 0, 0, 0, 1, 0, 1, 0, 0, 0, 1, 0, 0] is 0.3872983346207417\n",
      "cosine distance between [2, 1, 0, 0, 1, 0, 0, 1, 1, 1, 0, 0, 1, 0, 0, 0, 0, 1, 0, 1, 0, 0, 0] and [1, 0, 0, 0, 0, 0, 0, 0, 0, 0, 0, 0, 0, 0, 0, 0, 0, 0, 1, 0, 1, 1, 0] is 0.28867513459481287\n",
      "cosine distance between [2, 0, 1, 1, 0, 1, 0, 0, 1, 1, 1, 0, 1, 1, 0, 0, 0] and [1, 0, 0, 0, 0, 0, 0, 0, 0, 0, 0, 0, 0, 0, 0, 0, 1] is 0.4082482904638629\n",
      "cosine distance between [1, 0, 0, 0, 0, 1] and [2, 2, 0, 1, 2, 0] is 0.3922322702763681\n",
      "cosine distance between [1, 0, 0, 0, 0, 0, 0, 0, 0, 0, 0, 0, 0, 0, 0, 0, 0, 0, 1, 0, 0, 0, 0, 0, 0, 0, 0, 0, 0, 0, 0, 0, 0, 0, 0, 0, 0, 0] and [4, 1, 1, 1, 0, 1, 0, 1, 0, 0, 1, 0, 1, 1, 1, 1, 1, 0, 0, 0, 1, 0, 0, 1, 1, 1, 0, 0, 0, 1, 0, 1, 1, 1, 1, 0, 0, 0] is 0.47140452079103157\n",
      "cosine distance between [1, 0, 0, 0, 0, 0, 0, 0, 0, 0, 0, 0, 0, 0, 0, 0, 1] and [5, 1, 0, 1, 0, 1, 1, 1, 0, 1, 1, 1, 0, 1, 1, 1, 0] is 0.5892556509887895\n",
      "cosine distance between [1, 0, 0, 0, 0, 0, 0, 0, 0, 0, 0, 0, 0, 0, 0, 0, 0, 0, 1, 0, 0, 0, 0, 0, 0, 0, 0, 0, 0, 0, 0] and [3, 0, 1, 1, 1, 1, 1, 1, 0, 1, 0, 1, 1, 0, 1, 1, 1, 1, 0, 0, 1, 0, 1, 1, 0, 0, 1, 0, 0, 1, 2] is 0.38100038100057154\n",
      "cosine distance between [1, 0, 0, 0, 0, 0, 0, 0, 0, 0, 0, 0, 0, 0, 0, 0, 0, 1, 0, 0] and [2, 0, 0, 1, 0, 1, 1, 1, 1, 1, 1, 1, 1, 1, 0, 0, 1, 0, 0, 1] is 0.35355339059327373\n",
      "cosine distance between [1, 0, 0, 0, 0, 0, 0, 0, 0, 0, 1, 0, 0, 0, 0, 0, 0, 0, 0, 0, 0, 0] and [2, 1, 1, 1, 1, 0, 1, 1, 1, 0, 0, 0, 1, 0, 0, 1, 1, 1, 0, 1, 0, 1] is 0.34299717028501764\n",
      "cosine distance between [1, 0, 0, 0, 0, 0, 0, 0, 0, 0, 0, 0, 1] and [4, 1, 1, 1, 1, 1, 0, 1, 0, 1, 1, 0, 0] is 0.5773502691896258\n",
      "cosine distance between [1, 0, 0, 0, 0, 1] and [1, 0, 1, 1, 1, 0] is 0.35355339059327373\n",
      "cosine distance between [1, 0, 0, 0, 0, 0, 0, 1] and [1, 1, 0, 1, 0, 1, 1, 0] is 0.316227766016838\n",
      "cosine distance between [1, 0, 0, 0, 0, 0, 0, 0, 1] and [1, 0, 0, 0, 1, 1, 1, 0, 0] is 0.35355339059327373\n",
      "cosine distance between [1, 0, 0, 0, 0, 0, 0, 0, 0, 0, 0, 0, 0, 0, 0, 0, 1] and [2, 0, 1, 1, 0, 1, 0, 0, 1, 1, 1, 0, 1, 1, 0, 0, 0] is 0.4082482904638629\n",
      "sent sim mat  [[0.         0.36980013 0.46225016 0.29888129 0.2773501  0.26906912\n",
      "  0.45291081 0.2773501  0.24806947 0.2773501  0.32025631 0.39223227]\n",
      " [0.36980013 0.         0.55555556 0.41907904 0.33333333 0.36380344\n",
      "  0.61237244 0.33333333 0.2981424  0.33333333 0.38490018 0.47140452]\n",
      " [0.46225016 0.55555556 0.         0.44901326 0.41666667 0.40422604\n",
      "  0.68041382 0.41666667 0.372678   0.41666667 0.48112522 0.58925565]\n",
      " [0.29888129 0.41907904 0.44901326 0.         0.3592106  0.26136411\n",
      "  0.47660312 0.26940795 0.2409658  0.26940795 0.36293309 0.38100038]\n",
      " [0.2773501  0.33333333 0.41666667 0.3592106  0.         0.24253563\n",
      "  0.40824829 0.25       0.2236068  0.25       0.28867513 0.35355339]\n",
      " [0.26906912 0.36380344 0.40422604 0.26136411 0.24253563 0.\n",
      "  0.39605902 0.24253563 0.21693046 0.24253563 0.28005602 0.34299717]\n",
      " [0.45291081 0.61237244 0.68041382 0.47660312 0.40824829 0.39605902\n",
      "  0.         0.40824829 0.36514837 0.40824829 0.47140452 0.57735027]\n",
      " [0.2773501  0.33333333 0.41666667 0.26940795 0.25       0.24253563\n",
      "  0.40824829 0.         0.4472136  0.25       0.4330127  0.35355339]\n",
      " [0.24806947 0.2981424  0.372678   0.2409658  0.2236068  0.21693046\n",
      "  0.36514837 0.4472136  0.         0.2236068  0.38729833 0.31622777]\n",
      " [0.2773501  0.33333333 0.41666667 0.26940795 0.25       0.24253563\n",
      "  0.40824829 0.25       0.2236068  0.         0.28867513 0.35355339]\n",
      " [0.32025631 0.38490018 0.48112522 0.36293309 0.28867513 0.28005602\n",
      "  0.47140452 0.4330127  0.38729833 0.28867513 0.         0.40824829]\n",
      " [0.39223227 0.47140452 0.58925565 0.38100038 0.35355339 0.34299717\n",
      "  0.57735027 0.35355339 0.31622777 0.35355339 0.40824829 0.        ]]\n",
      "sent sim graph \n",
      "scores {0: 0.07685718560668715, 1: 0.09170136310077888, 2: 0.10558487302003357, 3: 0.07940848487426294, 4: 0.0725510241863044, 5: 0.07001215867383853, 6: 0.10578351083663683, 7: 0.07761404964071038, 8: 0.07147767522598965, 9: 0.07093183156650318, 10: 0.08520454767684639, 11: 0.09287329559140797}\n",
      "Indexes of top ranked_sentence order are  OrderedDict([(6, 0.10578351083663683), (2, 0.10558487302003357), (11, 0.09287329559140797), (1, 0.09170136310077888), (10, 0.08520454767684639)])\n"
     ]
    },
    {
     "data": {
      "text/plain": [
       "'As one of her songs suggests  Peppina  makes make believe believable  .Subscribe and download on your favorite podcast platform  Apple Podcasts  Google Play  Tune In  Stitcher . childrenofsong.In this episode  we meet Peppina  a Finnish singer songwriter turned pop star who was afraid to share her music with her own community  so instead she went online and played her songs for the rest of the world .Pitch us an artist  or simply spread the word and find out more about the series '"
      ]
     },
     "execution_count": 105,
     "metadata": {},
     "output_type": "execute_result"
    }
   ],
   "source": [
    "generate_summary()\n",
    "#summary"
   ]
  },
  {
   "cell_type": "code",
   "execution_count": 110,
   "metadata": {
    "collapsed": false
   },
   "outputs": [
    {
     "name": "stdout",
     "output_type": "stream",
     "text": [
      "sent  Audio clip: Listen to audio clip.\n",
      "sent  In this episode, we meet Peppina, a Finnish singer/songwriter turned pop star who was afraid to share her music with her own community, so instead she went online and played her songs for the rest of the world.\n",
      "sent  Subscribe and download on your favorite podcast platform: Apple Podcasts, Google Play, Tune In, Stitcher.\n",
      "sent  At 15, the young artist would sit in her bedroom where she would write and post songs on HitRecord, an online production company founded by the actor and director Joseph Gordon-Levitt.\n",
      "sent  There she would attract the attention of artists around the globe, quickly becoming the most downloaded musician working on the site.\n",
      "sent  The producer, Brad Newman hosts this episode that follows a girl from a small island in Helsinki to the biggest stages in America.\n",
      "sent  As one of her songs suggests, Peppina \"makes make-believe believable.\"\n",
      "sent  Like us on Facebook.\n",
      "sent  Follow us on Twitter and Instagram.\n",
      "sent  We want to know what you think.\n",
      "sent  Pitch us an artist, or simply spread the word and find out more about the series.\n",
      "sent  #childrenofsong\n",
      "cosine distance between [1, 0, 0, 0, 0, 0, 0, 0, 0, 0, 0, 0, 1, 0, 0, 0, 0, 0, 0, 0, 0, 0, 0, 0, 0, 1, 2, 0, 0, 0, 0, 0, 0, 0, 0, 0, 0, 0, 0] and [0, 1, 1, 0, 0, 1, 0, 0, 0, 1, 1, 1, 0, 1, 1, 0, 1, 0, 1, 0, 0, 1, 1, 1, 0, 0, 0, 0, 0, 0, 1, 1, 1, 1, 1, 0, 0, 0, 1] is 0.0\n",
      "cosine distance between [1, 0, 0, 0, 0, 0, 0, 0, 0, 0, 0, 1, 0, 0, 0, 0, 0, 1, 2, 0] and [0, 1, 0, 1, 0, 1, 1, 0, 1, 1, 1, 0, 1, 1, 1, 1, 0, 0, 0, 1] is 0.0\n",
      "cosine distance between [1, 0, 0, 0, 0, 0, 0, 0, 0, 0, 0, 0, 0, 0, 0, 1, 0, 0, 0, 0, 0, 0, 0, 1, 2, 0, 0, 0, 0, 0, 0, 0, 0] and [0, 0, 1, 1, 1, 1, 1, 0, 0, 1, 1, 0, 1, 1, 1, 0, 1, 1, 0, 1, 1, 0, 0, 0, 0, 1, 1, 0, 0, 1, 0, 0, 2] is 0.0\n",
      "cosine distance between [1, 0, 0, 0, 0, 0, 0, 0, 0, 0, 1, 0, 0, 0, 0, 0, 0, 0, 1, 2, 0, 0, 0] and [0, 1, 1, 1, 1, 1, 0, 0, 1, 1, 0, 1, 0, 0, 0, 0, 1, 1, 0, 0, 1, 0, 1] is 0.0\n",
      "cosine distance between [1, 0, 0, 0, 0, 0, 0, 0, 0, 1, 0, 0, 0, 0, 0, 0, 1, 2, 0, 0, 0, 0, 0, 0] and [0, 1, 1, 1, 0, 1, 1, 1, 0, 0, 0, 1, 1, 1, 0, 0, 0, 0, 1, 1, 0, 1, 0, 1] is 0.0\n",
      "cosine distance between [1, 0, 0, 0, 0, 0, 0, 1, 0, 0, 0, 0, 1, 2, 0] and [0, 1, 1, 1, 1, 0, 1, 0, 0, 1, 1, 0, 0, 0, 0] is 0.0\n",
      "cosine distance between [1, 0, 0, 0, 0, 1, 0, 1, 2] and [0, 1, 0, 1, 1, 0, 0, 0, 0] is 0.0\n",
      "cosine distance between [1, 0, 0, 0, 0, 0, 0, 1, 0, 1, 2] and [0, 1, 1, 0, 1, 0, 1, 0, 0, 0, 0] is 0.0\n",
      "cosine distance between [1, 0, 0, 0, 0, 0, 1, 0, 1, 2, 0] and [0, 0, 0, 1, 1, 1, 0, 0, 0, 0, 0] is 0.0\n",
      "cosine distance between [1, 0, 0, 0, 0, 0, 0, 0, 0, 0, 0, 0, 0, 1, 0, 0, 0, 1, 2, 0] and [0, 0, 1, 1, 0, 1, 0, 0, 1, 0, 1, 1, 1, 0, 1, 0, 0, 0, 0, 0] is 0.0\n",
      "cosine distance between [1, 0, 1, 0, 1, 2] and [0, 1, 0, 0, 0, 0] is 0.0\n",
      "cosine distance between [0, 1, 1, 0, 0, 1, 0, 0, 0, 1, 1, 1, 0, 1, 1, 0, 1, 0, 1, 0, 0, 1, 1, 1, 0, 0, 0, 0, 0, 0, 1, 1, 1, 1, 1, 0, 0, 0, 1] and [1, 0, 0, 0, 0, 0, 0, 0, 0, 0, 0, 0, 1, 0, 0, 0, 0, 0, 0, 0, 0, 0, 0, 0, 0, 0, 2, 1, 0, 0, 0, 0, 0, 0, 0, 0, 0, 0, 0] is 0.0\n",
      "cosine distance between [1, 1, 0, 0, 0, 0, 1, 0, 0, 0, 0, 0, 1, 1, 0, 0, 1, 1, 1, 0, 1, 0, 0, 1, 0, 0, 1, 1, 0, 1, 0, 0, 0, 0, 0, 1, 1, 1, 1, 0, 0, 0, 0, 1, 0, 0, 0, 0, 1] and [0, 0, 0, 1, 0, 1, 0, 0, 1, 0, 1, 0, 0, 0, 1, 1, 0, 0, 0, 0, 0, 1, 0, 0, 0, 0, 0, 0, 1, 0, 1, 0, 0, 0, 0, 0, 0, 0, 0, 0, 1, 1, 0, 0, 0, 0, 0, 1, 0] is 0.0\n",
      "cosine distance between [0, 0, 1, 1, 0, 0, 0, 0, 0, 1, 0, 0, 0, 0, 0, 0, 1, 1, 0, 0, 0, 0, 1, 1, 1, 0, 0, 1, 0, 0, 0, 0, 1, 0, 0, 1, 1, 1, 0, 0, 0, 0, 0, 0, 1, 1, 1, 1, 0, 0, 1, 0, 0, 0, 0, 1] and [0, 1, 1, 1, 0, 1, 1, 0, 0, 0, 0, 0, 1, 2, 1, 0, 0, 0, 1, 1, 0, 1, 0, 0, 0, 1, 0, 0, 1, 0, 1, 1, 0, 0, 0, 0, 0, 0, 0, 0, 1, 1, 0, 0, 0, 0, 0, 0, 0, 0, 0, 0, 0, 1, 0, 0] is 0.10012523486435176\n",
      "cosine distance between [1, 1, 0, 0, 0, 0, 0, 0, 0, 1, 0, 0, 0, 0, 1, 1, 0, 1, 0, 1, 1, 0, 1, 0, 0, 0, 1, 0, 0, 1, 1, 0, 1, 0, 0, 0, 0, 0, 0, 1, 1, 1, 1, 0, 0, 1, 0, 0, 0, 1] and [0, 0, 0, 1, 1, 0, 1, 1, 1, 0, 0, 0, 1, 0, 0, 0, 1, 0, 1, 0, 0, 0, 0, 1, 0, 0, 0, 0, 0, 0, 0, 0, 0, 0, 0, 1, 1, 0, 0, 0, 0, 0, 0, 0, 1, 0, 0, 0, 0, 0] is 0.0\n",
      "cosine distance between [0, 1, 1, 0, 0, 0, 0, 0, 0, 1, 0, 0, 0, 0, 0, 1, 1, 0, 1, 1, 1, 0, 1, 0, 1, 0, 0, 1, 0, 0, 1, 0, 1, 0, 0, 0, 0, 1, 1, 1, 1, 0, 0, 1, 0, 0, 0, 0, 0, 1] and [1, 0, 0, 1, 0, 1, 0, 0, 1, 0, 0, 0, 1, 1, 0, 0, 0, 0, 0, 0, 0, 0, 0, 0, 0, 0, 0, 0, 1, 1, 0, 1, 0, 0, 0, 0, 0, 0, 0, 0, 0, 1, 1, 0, 0, 0, 1, 0, 1, 0] is 0.0\n",
      "cosine distance between [1, 1, 0, 0, 0, 1, 0, 0, 0, 1, 1, 1, 0, 1, 1, 0, 1, 0, 0, 1, 0, 0, 1, 1, 0, 1, 0, 0, 0, 0, 1, 1, 1, 1, 0, 0, 1, 0, 0, 0, 0, 1] and [0, 1, 0, 0, 0, 0, 0, 0, 0, 0, 0, 0, 1, 0, 0, 0, 0, 0, 1, 0, 0, 0, 0, 0, 1, 0, 0, 0, 0, 0, 0, 0, 0, 0, 1, 1, 0, 0, 0, 1, 0, 0] is 0.08671099695241202\n",
      "cosine distance between [1, 1, 0, 0, 0, 1, 0, 0, 0, 1, 1, 1, 0, 1, 1, 0, 1, 0, 1, 0, 0, 1, 1, 1, 0, 0, 0, 0, 1, 1, 1, 1, 0, 0, 1, 0, 0, 0, 1] and [0, 0, 0, 1, 0, 0, 0, 0, 0, 0, 0, 0, 1, 0, 0, 0, 0, 0, 0, 0, 0, 0, 0, 0, 0, 0, 0, 0, 0, 0, 0, 0, 0, 1, 0, 0, 0, 0, 0] is 0.0\n",
      "cosine distance between [0, 0, 1, 1, 0, 0, 0, 1, 0, 0, 0, 1, 1, 1, 1, 1, 0, 1, 0, 1, 0, 0, 1, 0, 1, 1, 0, 0, 0, 0, 1, 1, 1, 1, 0, 1, 0, 0, 0, 1] and [1, 1, 0, 0, 0, 1, 0, 0, 0, 0, 0, 0, 0, 0, 0, 0, 0, 0, 0, 0, 0, 0, 0, 1, 0, 0, 0, 0, 0, 0, 0, 0, 0, 0, 0, 0, 0, 0, 0, 0] is 0.0\n",
      "cosine distance between [1, 1, 0, 0, 0, 1, 0, 0, 0, 1, 1, 1, 1, 1, 0, 1, 0, 0, 1, 0, 0, 1, 0, 1, 1, 0, 0, 0, 0, 1, 1, 1, 1, 0, 1, 0, 0, 0, 0, 1] and [0, 0, 0, 0, 0, 0, 0, 0, 0, 0, 0, 0, 0, 0, 0, 0, 0, 0, 0, 0, 0, 0, 1, 0, 0, 0, 0, 0, 0, 0, 0, 0, 0, 1, 0, 1, 0, 0, 0, 0] is 0.0\n",
      "cosine distance between [0, 1, 1, 0, 0, 0, 0, 0, 0, 0, 1, 0, 0, 0, 0, 0, 1, 1, 1, 0, 1, 1, 0, 1, 0, 1, 0, 0, 1, 0, 1, 1, 0, 0, 0, 0, 0, 1, 1, 1, 1, 0, 1, 0, 0, 0, 0, 1] and [1, 0, 0, 0, 0, 0, 1, 0, 1, 0, 0, 0, 0, 1, 0, 0, 0, 0, 0, 1, 0, 0, 0, 0, 0, 0, 0, 0, 0, 1, 0, 0, 0, 0, 0, 0, 0, 0, 0, 0, 0, 1, 0, 1, 0, 0, 0, 0] is 0.0\n",
      "cosine distance between [1, 1, 0, 0, 1, 0, 0, 0, 1, 1, 1, 1, 1, 0, 1, 0, 1, 0, 0, 1, 0, 1, 1, 0, 0, 0, 0, 1, 1, 1, 1, 1, 0, 0, 0, 1] and [0, 0, 0, 0, 0, 0, 0, 0, 0, 0, 0, 0, 0, 0, 0, 0, 0, 0, 0, 0, 1, 0, 0, 0, 0, 0, 0, 0, 0, 0, 0, 0, 0, 0, 0, 0] is 0.0\n",
      "cosine distance between [0, 0, 1, 0, 1, 1, 0, 0, 1, 0, 1, 1, 1, 0, 1, 1, 0, 1, 1, 1] and [1, 0, 0, 0, 0, 0, 2, 0, 0, 1, 0, 0, 0, 1, 0, 0, 0, 0, 0, 0] is 0.0\n",
      "cosine distance between [0, 0, 0, 1, 0, 1, 0, 1, 0, 0, 1, 0, 1, 0, 0, 0, 1, 0, 0, 0, 1, 0, 0, 0, 0, 0, 0, 0, 1, 1, 0, 0, 0, 0, 0, 0, 0, 0, 0, 1, 0, 1, 0, 0, 0, 0, 0, 1, 0] and [1, 1, 0, 0, 0, 0, 1, 0, 1, 0, 0, 0, 0, 1, 0, 1, 0, 1, 1, 0, 0, 1, 0, 1, 0, 0, 1, 1, 0, 0, 1, 0, 0, 0, 0, 1, 1, 0, 1, 0, 1, 0, 0, 1, 0, 0, 0, 0, 1] is 0.0\n",
      "cosine distance between [0, 0, 0, 0, 0, 0, 1, 0, 1, 1, 0, 0, 1, 0, 1, 0, 0, 0, 0, 1, 0, 1, 0, 0, 0, 0, 0, 1, 1, 0, 0, 0, 1, 1, 0, 0, 0, 0, 0, 1, 0] and [0, 1, 1, 1, 1, 1, 0, 0, 0, 0, 0, 1, 0, 1, 0, 0, 1, 1, 1, 0, 1, 0, 1, 0, 1, 1, 0, 0, 0, 1, 1, 0, 0, 0, 0, 0, 1, 0, 0, 0, 2] is 0.0\n",
      "cosine distance between [1, 0, 0, 0, 1, 0, 0, 0, 1, 0, 1, 1, 0, 1, 0, 1, 0, 0, 0, 0, 1, 0, 1, 0, 0, 0, 0, 1, 1, 0, 1, 0] and [0, 1, 1, 1, 0, 1, 1, 0, 0, 0, 0, 0, 1, 0, 1, 0, 1, 0, 0, 0, 0, 0, 0, 1, 1, 1, 0, 0, 0, 0, 0, 1] is 0.0\n",
      "cosine distance between [0, 0, 0, 1, 0, 1, 0, 1, 1, 0, 0, 1, 0, 1, 1, 0, 0, 0, 0, 1, 0, 1, 0, 0, 0, 1, 0, 1, 0, 0, 0, 0, 0, 0, 1] and [1, 1, 1, 0, 0, 0, 1, 0, 0, 1, 1, 0, 0, 0, 0, 0, 0, 1, 1, 0, 1, 0, 0, 0, 0, 0, 1, 0, 0, 1, 0, 1, 0, 1, 0] is 0.0\n",
      "cosine distance between [0, 1, 0, 1, 1, 0, 1, 1, 1, 0, 1, 0, 0, 1, 0, 1, 0, 0, 1, 0, 1, 0, 0, 0, 1] and [1, 0, 0, 0, 0, 0, 0, 0, 0, 1, 0, 1, 0, 0, 1, 0, 0, 1, 0, 1, 0, 0, 0, 1, 0] is 0.0\n",
      "cosine distance between [0, 0, 1, 0, 1, 1, 0, 0, 1, 1, 0, 1, 1, 1, 1, 1, 1, 1] and [1, 0, 0, 0, 0, 0, 1, 0, 0, 0, 1, 0, 0, 0, 0, 0, 0, 0] is 0.0\n",
      "cosine distance between [0, 0, 0, 1, 0, 1, 0, 1, 0, 0, 1, 1, 1, 1, 1, 1, 1, 1, 1] and [1, 1, 0, 0, 0, 0, 1, 0, 1, 0, 0, 0, 0, 0, 0, 0, 0, 0, 0] is 0.0\n",
      "cosine distance between [1, 1, 1, 1, 1, 1, 1, 0, 0, 0, 1, 1, 0, 0, 0, 1, 1, 0, 0, 0, 1, 0] and [0, 0, 0, 0, 0, 0, 0, 0, 0, 1, 0, 0, 0, 0, 0, 0, 0, 0, 1, 1, 0, 0] is 0.0\n",
      "cosine distance between [0, 0, 0, 0, 1, 0, 0, 1, 1, 0, 0, 1, 1, 1, 0, 1, 0, 0, 0, 1, 1, 0, 0, 0, 1, 1, 0, 0, 1] and [1, 0, 0, 1, 0, 0, 1, 0, 0, 0, 1, 0, 0, 0, 1, 0, 0, 1, 0, 0, 0, 0, 1, 0, 0, 0, 0, 1, 0] is 0.0\n",
      "cosine distance between [0, 1, 0, 1, 0, 1, 0, 1, 1, 1, 1, 1, 1, 1, 1, 1] and [0, 0, 0, 0, 1, 0, 0, 0, 0, 0, 0, 0, 0, 0, 0, 0] is 0.0\n",
      "cosine distance between [0, 0, 1, 1, 1, 1, 1, 0, 0, 1, 1, 0, 1, 1, 1, 0, 1, 1, 0, 1, 1, 0, 0, 1, 0, 0, 1, 0, 0, 1, 0, 0, 2] and [1, 0, 0, 0, 0, 0, 0, 0, 0, 0, 0, 0, 0, 0, 0, 1, 0, 0, 0, 0, 0, 0, 0, 0, 2, 1, 0, 0, 0, 0, 0, 0, 0] is 0.0\n",
      "cosine distance between [0, 1, 1, 1, 0, 1, 1, 0, 0, 0, 0, 0, 1, 0, 1, 0, 0, 1, 1, 1, 0, 0, 0, 0, 1, 0, 0, 1, 0, 0, 1, 1, 0, 0, 0, 0, 0, 0, 0, 1, 0, 1, 0, 0, 0, 0, 0, 0, 0, 0, 0, 1, 0, 0, 0, 2] and [0, 0, 1, 1, 0, 0, 0, 0, 0, 1, 0, 1, 0, 0, 0, 0, 1, 0, 0, 0, 0, 1, 1, 1, 0, 1, 0, 0, 1, 0, 0, 0, 1, 0, 0, 1, 1, 1, 0, 0, 0, 0, 0, 0, 1, 1, 0, 1, 1, 0, 1, 0, 0, 0, 0, 0] is 0.10012523486435176\n",
      "cosine distance between [0, 1, 1, 1, 1, 1, 0, 0, 0, 0, 0, 1, 0, 1, 0, 0, 1, 1, 1, 0, 1, 1, 0, 0, 1, 1, 0, 0, 0, 1, 1, 0, 0, 0, 0, 0, 1, 0, 0, 0, 2] and [0, 0, 0, 0, 0, 0, 1, 0, 1, 0, 1, 0, 1, 0, 0, 1, 0, 0, 0, 1, 0, 0, 1, 0, 0, 0, 0, 1, 1, 0, 0, 0, 1, 1, 0, 0, 0, 0, 0, 1, 0] is 0.0\n",
      "cosine distance between [0, 1, 1, 1, 1, 1, 0, 0, 0, 0, 0, 0, 0, 1, 0, 1, 0, 1, 1, 1, 0, 0, 1, 1, 0, 0, 1, 0, 1, 0, 0, 1, 0, 0, 1, 0, 0, 0, 1, 0, 0, 2] and [0, 0, 0, 0, 0, 0, 0, 1, 1, 1, 1, 1, 0, 0, 0, 0, 0, 0, 0, 0, 1, 1, 0, 0, 1, 0, 0, 0, 0, 0, 0, 0, 1, 1, 0, 1, 0, 0, 0, 0, 0, 1] is 0.12598815766974236\n",
      "cosine distance between [0, 0, 1, 1, 1, 0, 1, 1, 0, 0, 0, 0, 0, 1, 1, 0, 0, 0, 0, 1, 1, 1, 1, 1, 0, 1, 1, 0, 0, 0, 0, 0, 1, 0, 1, 0, 0, 0, 0, 1, 0, 0, 0, 0, 0, 2] and [0, 1, 0, 0, 0, 1, 0, 0, 1, 0, 0, 1, 0, 0, 0, 1, 1, 0, 0, 0, 0, 0, 0, 0, 0, 0, 0, 0, 1, 1, 1, 0, 0, 0, 0, 0, 1, 0, 1, 0, 0, 0, 1, 0, 1, 0] is 0.0\n",
      "cosine distance between [0, 1, 1, 1, 1, 1, 0, 0, 0, 1, 0, 1, 0, 1, 1, 1, 0, 1, 1, 0, 1, 1, 0, 0, 0, 1, 1, 0, 0, 0, 0, 1, 0, 0, 0, 2] and [0, 0, 1, 0, 0, 0, 0, 0, 0, 0, 0, 0, 0, 0, 0, 0, 1, 0, 0, 0, 0, 0, 1, 0, 1, 0, 0, 0, 1, 1, 0, 0, 0, 0, 1, 0] is 0.08247860988423228\n",
      "cosine distance between [0, 1, 1, 1, 1, 1, 0, 0, 0, 1, 1, 0, 1, 1, 1, 0, 1, 1, 0, 1, 1, 0, 1, 1, 0, 0, 0, 1, 0, 0, 2] and [0, 0, 0, 0, 0, 0, 1, 0, 0, 0, 0, 0, 0, 0, 0, 1, 0, 0, 0, 0, 0, 0, 0, 0, 1, 0, 0, 0, 0, 0, 0] is 0.0\n",
      "cosine distance between [0, 0, 1, 1, 1, 0, 1, 1, 0, 0, 0, 1, 1, 0, 1, 1, 1, 1, 1, 0, 1, 1, 0, 0, 1, 1, 0, 0, 1, 0, 0, 2] and [1, 0, 0, 0, 0, 1, 0, 0, 1, 0, 0, 0, 0, 0, 0, 0, 0, 0, 0, 0, 0, 0, 0, 1, 0, 0, 0, 0, 0, 0, 0, 0] is 0.0\n",
      "cosine distance between [0, 1, 1, 1, 0, 1, 1, 0, 0, 1, 1, 0, 1, 1, 1, 1, 1, 0, 1, 1, 0, 0, 0, 0, 1, 1, 0, 0, 0, 0, 0, 1, 0, 0, 2] and [0, 0, 0, 0, 0, 0, 0, 0, 0, 0, 0, 0, 0, 0, 0, 0, 0, 0, 0, 0, 0, 0, 1, 0, 0, 0, 0, 0, 0, 1, 1, 0, 0, 0, 0] is 0.0\n",
      "cosine distance between [0, 0, 1, 1, 1, 0, 0, 1, 1, 0, 0, 0, 0, 0, 0, 1, 1, 0, 1, 1, 1, 0, 1, 1, 0, 1, 1, 0, 0, 1, 0, 1, 0, 0, 0, 0, 1, 0, 0, 2] and [0, 1, 0, 0, 0, 0, 0, 0, 0, 1, 0, 1, 0, 0, 1, 0, 0, 0, 0, 0, 0, 1, 0, 0, 0, 0, 0, 1, 0, 0, 0, 0, 1, 0, 0, 1, 0, 0, 0, 0] is 0.0\n",
      "cosine distance between [0, 1, 1, 1, 1, 1, 0, 0, 1, 1, 0, 1, 1, 1, 1, 1, 0, 1, 1, 0, 0, 1, 1, 0, 0, 1, 0, 0, 2] and [0, 0, 0, 0, 0, 0, 0, 0, 0, 0, 0, 0, 0, 0, 0, 0, 0, 0, 0, 0, 1, 0, 0, 0, 0, 0, 0, 0, 0] is 0.0\n",
      "cosine distance between [0, 1, 1, 1, 1, 1, 0, 0, 1, 1, 0, 1, 0, 0, 0, 0, 0, 0, 1, 1, 1, 0, 1] and [1, 0, 0, 0, 0, 0, 0, 0, 0, 0, 1, 0, 0, 0, 0, 0, 1, 2, 0, 0, 0, 0, 0] is 0.0\n",
      "cosine distance between [0, 0, 0, 1, 1, 1, 0, 1, 1, 0, 0, 0, 0, 1, 0, 0, 0, 1, 0, 1, 0, 0, 0, 1, 0, 0, 0, 0, 0, 0, 0, 0, 0, 0, 0, 1, 1, 1, 0, 0, 0, 0, 0, 0, 0, 0, 0, 0, 0, 0] and [1, 1, 0, 0, 0, 0, 0, 0, 0, 1, 0, 1, 0, 0, 0, 1, 1, 0, 1, 0, 1, 0, 1, 0, 0, 0, 1, 0, 0, 1, 1, 0, 1, 0, 0, 0, 0, 0, 0, 0, 1, 0, 1, 1, 1, 1, 0, 0, 0, 1] is 0.0\n",
      "cosine distance between [0, 1, 1, 1, 0, 1, 1, 0, 0, 0, 0, 0, 1, 0, 1, 0, 1, 0, 0, 0, 0, 0, 0, 1, 1, 1, 0, 0, 0, 0, 0, 1] and [1, 0, 0, 0, 1, 0, 0, 0, 1, 1, 0, 1, 0, 1, 0, 1, 0, 0, 0, 0, 0, 1, 1, 0, 0, 0, 0, 1, 1, 0, 1, 0] is 0.0\n",
      "cosine distance between [0, 0, 0, 0, 0, 0, 0, 1, 1, 1, 1, 1, 0, 0, 0, 0, 0, 0, 0, 1, 0, 1, 0, 0, 1, 0, 0, 0, 0, 0, 0, 1, 1, 0, 0, 1, 0, 0, 0, 0, 0, 1] and [0, 1, 1, 1, 1, 1, 0, 0, 0, 0, 0, 0, 0, 1, 0, 1, 0, 1, 1, 0, 1, 0, 1, 1, 0, 0, 0, 1, 1, 0, 0, 0, 0, 1, 1, 0, 0, 0, 1, 0, 0, 2] is 0.12598815766974236\n",
      "cosine distance between [0, 0, 0, 0, 1, 1, 1, 1, 1, 0, 0, 0, 0, 0, 0, 1, 1, 1, 0, 0, 0, 0, 0, 0, 0, 1, 1, 0, 1, 0, 0, 0, 0, 0, 0, 0, 1] and [1, 1, 1, 0, 0, 0, 0, 0, 0, 1, 0, 0, 1, 1, 0, 0, 0, 0, 0, 0, 1, 1, 0, 1, 0, 0, 0, 0, 0, 0, 1, 1, 0, 1, 0, 1, 0] is 0.0\n",
      "cosine distance between [0, 0, 1, 1, 1, 1, 1, 0, 0, 1, 0, 1, 1, 0, 0, 0, 0, 0, 1, 1, 1, 0, 0, 0, 0, 0, 1] and [1, 0, 0, 0, 0, 0, 0, 0, 0, 0, 1, 0, 0, 0, 0, 1, 0, 1, 0, 0, 0, 0, 1, 1, 0, 1, 0] is 0.0\n",
      "cosine distance between [0, 0, 1, 0, 0, 1, 0, 1, 1, 1, 1, 1, 1, 1, 0, 0, 0, 1, 0, 1, 1] and [0, 0, 0, 1, 0, 0, 1, 0, 0, 0, 0, 0, 0, 0, 0, 0, 1, 0, 0, 0, 0] is 0.0\n",
      "cosine distance between [0, 0, 0, 1, 1, 1, 1, 1, 0, 0, 1, 1, 1, 0, 0, 0, 0, 0, 1, 1, 1, 0, 1] and [1, 1, 1, 0, 0, 0, 0, 0, 0, 0, 0, 0, 0, 0, 0, 1, 0, 0, 0, 0, 0, 0, 0] is 0.0\n",
      "cosine distance between [0, 1, 1, 1, 1, 1, 0, 0, 1, 1, 1, 0, 0, 0, 0, 0, 0, 1, 1, 1, 0, 0, 0, 0, 1] and [0, 0, 0, 0, 0, 0, 0, 0, 0, 0, 0, 0, 0, 0, 1, 0, 0, 0, 0, 0, 0, 0, 1, 1, 0] is 0.0\n",
      "cosine distance between [0, 0, 0, 0, 0, 1, 1, 1, 0, 1, 1, 0, 0, 0, 0, 1, 0, 1, 1, 0, 0, 0, 0, 0, 1, 1, 0, 1, 0, 0, 0, 1] and [1, 0, 0, 1, 0, 0, 0, 0, 1, 0, 0, 0, 0, 1, 0, 0, 1, 0, 0, 0, 0, 1, 0, 0, 0, 0, 0, 0, 1, 0, 1, 0] is 0.0\n",
      "cosine distance between [0, 0, 1, 0, 0, 1, 1, 1, 1, 1, 1, 1, 1, 0, 0, 1, 0, 1, 1] and [0, 0, 0, 0, 1, 0, 0, 0, 0, 0, 0, 0, 0, 0, 0, 0, 0, 0, 0] is 0.0\n",
      "cosine distance between [0, 1, 1, 1, 0, 1, 1, 1, 0, 0, 0, 1, 1, 1, 0, 0, 0, 0, 1, 1, 0, 1, 0, 1] and [1, 0, 0, 0, 0, 0, 0, 0, 0, 1, 0, 0, 0, 0, 0, 0, 2, 1, 0, 0, 0, 0, 0, 0] is 0.0\n",
      "cosine distance between [1, 1, 0, 0, 0, 1, 0, 0, 1, 0, 0, 0, 0, 1, 1, 0, 0, 0, 0, 0, 0, 0, 0, 0, 0, 0, 0, 0, 1, 1, 0, 1, 0, 0, 0, 0, 0, 0, 0, 0, 0, 1, 1, 0, 0, 1, 0, 0, 1, 0] and [0, 0, 1, 1, 0, 0, 0, 0, 0, 1, 1, 0, 0, 0, 0, 0, 1, 0, 1, 1, 1, 0, 1, 0, 1, 0, 0, 1, 0, 0, 1, 0, 1, 0, 0, 0, 0, 1, 1, 1, 1, 0, 0, 1, 0, 0, 0, 0, 0, 1] is 0.0\n",
      "cosine distance between [1, 1, 1, 0, 0, 0, 1, 0, 0, 1, 1, 0, 0, 0, 0, 0, 0, 1, 1, 0, 1, 0, 0, 0, 0, 0, 1, 0, 0, 1, 0, 1, 0, 1, 0] and [0, 0, 0, 1, 0, 1, 0, 1, 1, 0, 0, 0, 1, 1, 1, 0, 0, 0, 0, 1, 0, 1, 0, 0, 0, 1, 0, 1, 0, 0, 0, 0, 0, 0, 1] is 0.0\n",
      "cosine distance between [0, 1, 0, 1, 0, 0, 0, 1, 0, 0, 0, 1, 0, 0, 0, 1, 1, 0, 0, 0, 0, 0, 0, 0, 0, 0, 0, 0, 1, 1, 1, 0, 0, 0, 0, 0, 1, 1, 0, 0, 1, 0, 0, 0, 1, 0] and [0, 0, 1, 0, 1, 1, 1, 0, 1, 0, 0, 0, 0, 1, 1, 0, 0, 0, 0, 1, 1, 1, 1, 1, 0, 1, 1, 0, 0, 0, 0, 0, 0, 1, 1, 0, 0, 0, 0, 0, 0, 1, 0, 0, 0, 2] is 0.0\n",
      "cosine distance between [1, 1, 1, 0, 0, 0, 0, 1, 0, 0, 0, 0, 1, 1, 0, 0, 0, 0, 0, 0, 1, 1, 0, 1, 0, 0, 0, 0, 0, 0, 1, 1, 0, 1, 0, 1, 0] and [0, 0, 0, 0, 1, 1, 1, 0, 1, 1, 0, 0, 0, 0, 0, 1, 1, 1, 0, 0, 0, 0, 0, 0, 0, 0, 1, 1, 1, 0, 0, 0, 0, 0, 0, 0, 1] is 0.0\n",
      "cosine distance between [1, 1, 0, 1, 0, 0, 1, 0, 1, 1, 0, 0, 0, 0, 1, 1, 1, 0, 0, 0, 0, 1, 0, 1, 0, 1, 0, 0, 0, 1] and [0, 0, 1, 0, 0, 0, 0, 0, 0, 0, 0, 1, 0, 1, 0, 0, 0, 1, 0, 0, 1, 0, 1, 0, 0, 0, 0, 1, 0, 0] is 0.0\n",
      "cosine distance between [1, 1, 0, 1, 0, 1, 1, 1, 0, 0, 0, 1, 1, 1, 0, 0, 0, 0, 1, 1, 0, 1, 0, 1] and [0, 0, 1, 0, 0, 0, 0, 0, 0, 1, 0, 0, 0, 0, 0, 0, 1, 0, 0, 0, 0, 0, 0, 0] is 0.0\n",
      "cosine distance between [0, 1, 0, 1, 0, 1, 0, 1, 1, 1, 0, 0, 0, 0, 1, 1, 1, 0, 0, 0, 1, 1, 0, 1, 0, 1] and [1, 0, 1, 0, 1, 0, 0, 0, 0, 0, 0, 0, 1, 0, 0, 0, 0, 0, 0, 0, 0, 0, 0, 0, 0, 0] is 0.0\n",
      "cosine distance between [1, 1, 1, 0, 1, 1, 1, 0, 0, 0, 0, 1, 1, 1, 0, 0, 0, 1, 1, 0, 0, 0, 1, 0, 1, 0] and [0, 0, 0, 0, 0, 0, 0, 0, 0, 0, 1, 0, 0, 0, 0, 0, 0, 0, 0, 1, 1, 0, 0, 0, 0, 0] is 0.0\n",
      "cosine distance between [1, 0, 1, 0, 0, 0, 1, 0, 0, 0, 1, 0, 0, 1, 1, 0, 0, 0, 0, 0, 1, 1, 1, 0, 0, 0, 0, 1, 1, 0, 0, 1, 0, 1] and [0, 1, 0, 0, 0, 1, 0, 0, 0, 1, 0, 0, 1, 0, 0, 0, 1, 0, 1, 0, 0, 0, 0, 0, 0, 0, 1, 0, 0, 1, 0, 0, 0, 0] is 0.0\n",
      "cosine distance between [0, 1, 1, 1, 1, 0, 0, 0, 1, 1, 1, 1, 1, 0, 0, 1, 1, 1, 0, 1, 0] and [0, 0, 0, 0, 0, 0, 1, 0, 0, 0, 0, 0, 0, 0, 0, 0, 0, 0, 0, 0, 0] is 0.0\n",
      "cosine distance between [0, 1, 1, 1, 1, 0, 0, 1, 0, 0, 1, 1, 0, 0, 0] and [1, 0, 0, 0, 0, 2, 0, 0, 0, 1, 0, 0, 0, 1, 0] is 0.0\n",
      "cosine distance between [1, 0, 0, 0, 0, 0, 0, 0, 0, 0, 0, 0, 1, 0, 0, 0, 0, 0, 1, 0, 0, 0, 0, 0, 1, 0, 0, 0, 0, 0, 0, 0, 1, 0, 0, 1, 0, 0, 0, 1, 0, 0] and [1, 1, 0, 0, 0, 1, 0, 0, 0, 1, 1, 1, 0, 1, 1, 0, 1, 0, 0, 1, 0, 0, 1, 1, 0, 1, 0, 0, 0, 0, 1, 1, 0, 1, 1, 0, 1, 0, 0, 0, 0, 1] is 0.08671099695241202\n",
      "cosine distance between [1, 0, 0, 0, 0, 0, 0, 0, 0, 1, 0, 1, 0, 0, 1, 0, 1, 0, 0, 1, 0, 0, 0, 1, 0] and [0, 1, 0, 1, 1, 1, 0, 1, 1, 0, 1, 0, 0, 1, 0, 1, 0, 0, 1, 0, 1, 0, 0, 0, 1] is 0.0\n",
      "cosine distance between [0, 0, 1, 0, 0, 0, 0, 0, 0, 0, 0, 0, 0, 0, 0, 0, 1, 0, 0, 0, 0, 1, 0, 0, 1, 0, 0, 1, 0, 1, 0, 0, 0, 0, 1, 0] and [0, 1, 1, 1, 1, 1, 0, 0, 0, 1, 0, 1, 0, 1, 1, 1, 0, 1, 1, 0, 1, 0, 1, 0, 0, 1, 1, 0, 0, 0, 0, 0, 1, 0, 0, 2] is 0.08247860988423228\n",
      "cosine distance between [1, 0, 0, 0, 0, 0, 0, 0, 0, 0, 1, 0, 0, 0, 0, 1, 0, 1, 0, 0, 0, 1, 0, 1, 0, 1, 0] and [0, 0, 1, 1, 1, 1, 1, 0, 0, 1, 0, 1, 1, 0, 0, 0, 0, 0, 1, 1, 1, 0, 0, 0, 0, 0, 1] is 0.0\n",
      "cosine distance between [0, 1, 0, 0, 0, 0, 0, 0, 0, 0, 0, 1, 0, 1, 0, 0, 1, 0, 0, 0, 1, 1, 0, 0, 0, 0, 0, 1, 0, 0] and [1, 0, 1, 1, 0, 0, 1, 0, 1, 1, 0, 0, 0, 0, 1, 1, 0, 1, 0, 0, 0, 0, 1, 1, 0, 1, 0, 0, 0, 1] is 0.0\n",
      "cosine distance between [0, 1, 1, 1, 0, 1, 0, 0, 1, 0, 0, 1, 1, 0] and [1, 0, 0, 0, 0, 0, 1, 0, 0, 0, 1, 0, 0, 0] is 0.0\n",
      "cosine distance between [0, 0, 1, 1, 1, 0, 0, 0, 1, 0, 0, 1, 0, 1, 1, 0] and [1, 1, 0, 0, 0, 0, 1, 0, 0, 1, 0, 0, 0, 0, 0, 0] is 0.0\n",
      "cosine distance between [0, 1, 1, 1, 0, 0, 1, 0, 0, 1, 0, 0, 1, 1, 0, 0, 0] and [0, 0, 0, 0, 0, 1, 0, 1, 0, 0, 0, 1, 0, 0, 0, 0, 0] is 0.0\n",
      "cosine distance between [0, 1, 0, 0, 0, 0, 0, 0, 0, 0, 0, 0, 1, 0, 1, 0, 0, 1, 0, 0, 1, 1, 0, 0, 1] and [1, 0, 0, 0, 1, 0, 0, 1, 0, 1, 0, 1, 0, 0, 0, 1, 0, 0, 0, 1, 0, 0, 1, 0, 0] is 0.0\n",
      "cosine distance between [1, 1, 1, 0, 1, 0, 1, 0, 1, 1, 0] and [0, 0, 0, 1, 0, 0, 0, 0, 0, 0, 0] is 0.0\n",
      "cosine distance between [0, 1, 0, 1, 1, 0, 0, 0, 0] and [1, 0, 0, 0, 0, 1, 0, 1, 2] is 0.0\n",
      "cosine distance between [0, 0, 0, 1, 0, 0, 0, 0, 0, 0, 0, 0, 1, 0, 0, 0, 0, 0, 0, 0, 0, 0, 0, 0, 0, 0, 0, 0, 1, 0, 0, 0, 0, 0, 0, 0, 0, 0, 0] and [1, 1, 0, 0, 0, 1, 0, 0, 0, 1, 1, 1, 0, 1, 1, 0, 1, 0, 1, 0, 0, 1, 1, 1, 0, 0, 0, 0, 0, 1, 0, 1, 1, 1, 1, 0, 0, 0, 1] is 0.0\n",
      "cosine distance between [1, 0, 0, 0, 0, 1, 0, 0, 0, 0, 1, 0, 0, 0, 0, 0, 0, 0] and [0, 0, 1, 0, 1, 0, 1, 0, 1, 1, 0, 1, 1, 1, 1, 1, 1, 1] is 0.0\n",
      "cosine distance between [0, 0, 0, 0, 1, 0, 0, 0, 0, 0, 0, 0, 0, 0, 0, 1, 0, 0, 0, 0, 0, 0, 0, 0, 1, 0, 0, 0, 0, 0, 0] and [0, 1, 1, 1, 0, 1, 1, 0, 0, 1, 1, 0, 1, 1, 1, 0, 1, 1, 0, 1, 1, 0, 1, 1, 0, 0, 0, 1, 0, 0, 2] is 0.0\n",
      "cosine distance between [0, 0, 1, 0, 0, 1, 0, 0, 0, 0, 1, 0, 0, 0, 0, 0, 0, 0, 0, 0, 0] and [0, 0, 0, 1, 0, 0, 1, 1, 1, 1, 0, 1, 1, 1, 0, 0, 1, 1, 0, 1, 1] is 0.0\n",
      "cosine distance between [0, 0, 1, 0, 0, 0, 0, 0, 0, 1, 0, 0, 0, 0, 0, 0, 1, 0, 0, 0, 0, 0, 0, 0] and [1, 1, 0, 1, 0, 1, 1, 1, 0, 0, 0, 1, 1, 1, 0, 0, 0, 0, 1, 1, 0, 1, 0, 1] is 0.0\n",
      "cosine distance between [1, 0, 0, 0, 0, 0, 1, 0, 1, 0, 0, 0, 0, 0] and [0, 1, 0, 1, 1, 1, 0, 0, 0, 0, 1, 1, 1, 0] is 0.0\n",
      "cosine distance between [0, 0, 1, 0, 0, 0, 1, 1] and [1, 1, 0, 0, 1, 0, 1, 0] is 0.28867513459481287\n",
      "cosine distance between [0, 1, 0, 0, 0, 1, 0, 1, 0, 0, 0] and [0, 0, 0, 0, 1, 0, 1, 0, 1, 0, 0] is 0.0\n",
      "cosine distance between [0, 0, 1, 0, 0, 0, 0, 0, 0, 1, 0, 0, 0, 1, 0, 0, 0, 0] and [0, 1, 0, 1, 0, 0, 1, 0, 0, 1, 0, 1, 1, 0, 1, 0, 1, 0] is 0.20412414523193145\n",
      "cosine distance between [0, 1, 1, 1, 0] and [1, 0, 0, 0, 0] is 0.0\n",
      "cosine distance between [1, 0, 1, 0, 1, 0, 1, 0, 0, 0, 0] and [0, 1, 0, 0, 0, 0, 0, 1, 0, 1, 2] is 0.0\n",
      "cosine distance between [1, 1, 0, 0, 0, 1, 0, 0, 0, 0, 0, 0, 0, 0, 0, 0, 0, 0, 0, 0, 1, 0, 0, 0, 0, 0, 0, 0, 0, 0, 0, 0, 0, 0, 0, 0, 0, 0, 0, 0] and [0, 0, 1, 1, 0, 0, 0, 1, 0, 0, 0, 1, 1, 1, 1, 1, 0, 1, 0, 1, 0, 0, 0, 1, 1, 1, 0, 0, 0, 0, 1, 1, 0, 1, 1, 1, 0, 0, 0, 1] is 0.0\n",
      "cosine distance between [1, 1, 0, 0, 1, 0, 0, 1, 0, 0, 0, 0, 0, 0, 0, 0, 0, 0, 0] and [0, 0, 0, 1, 0, 0, 1, 0, 1, 0, 1, 1, 1, 1, 1, 1, 1, 1, 1] is 0.0\n",
      "cosine distance between [1, 0, 1, 0, 0, 0, 1, 0, 0, 0, 0, 0, 0, 0, 0, 0, 0, 0, 0, 0, 0, 0, 1, 0, 0, 0, 0, 0, 0, 0, 0, 0] and [0, 0, 0, 1, 1, 1, 0, 1, 1, 0, 0, 1, 1, 0, 1, 1, 1, 1, 1, 0, 1, 1, 0, 0, 1, 1, 0, 0, 1, 0, 0, 2] is 0.0\n",
      "cosine distance between [1, 1, 1, 0, 0, 0, 0, 0, 0, 0, 0, 0, 0, 0, 0, 1, 0, 0, 0, 0, 0, 0, 0] and [0, 0, 0, 1, 1, 1, 1, 1, 0, 0, 1, 1, 1, 0, 0, 0, 0, 0, 1, 1, 1, 0, 1] is 0.0\n",
      "cosine distance between [1, 0, 1, 0, 1, 0, 0, 0, 0, 0, 0, 0, 1, 0, 0, 0, 0, 0, 0, 0, 0, 0, 0, 0, 0, 0] and [0, 1, 0, 1, 0, 1, 0, 1, 1, 1, 0, 0, 0, 0, 1, 1, 1, 0, 0, 0, 1, 1, 0, 1, 0, 1] is 0.0\n",
      "cosine distance between [1, 1, 0, 0, 0, 0, 1, 0, 0, 1, 0, 0, 0, 0, 0, 0] and [0, 0, 1, 0, 1, 1, 0, 0, 1, 0, 0, 1, 0, 1, 1, 0] is 0.0\n",
      "cosine distance between [1, 1, 0, 0, 1, 0, 1, 0] and [0, 0, 1, 0, 0, 0, 1, 1] is 0.28867513459481287\n",
      "cosine distance between [1, 0, 1, 0, 0, 1, 0, 0, 1, 0, 0, 0, 0] and [0, 0, 0, 0, 0, 0, 0, 1, 0, 1, 1, 0, 0] is 0.0\n",
      "cosine distance between [1, 0, 0, 1, 0, 0, 0, 0, 1, 0, 0, 1, 0, 0, 0, 0, 0, 0, 0] and [0, 0, 1, 0, 1, 0, 0, 1, 0, 0, 0, 1, 0, 1, 1, 1, 0, 1, 0] is 0.17677669529663687\n",
      "cosine distance between [1, 1, 0, 1, 0, 0, 1] and [0, 0, 0, 0, 0, 1, 0] is 0.0\n",
      "cosine distance between [0, 0, 0, 1, 1, 1, 0, 0, 0, 0, 0] and [1, 0, 0, 0, 0, 0, 1, 0, 1, 2, 0] is 0.0\n",
      "cosine distance between [0, 0, 0, 0, 0, 0, 0, 0, 0, 0, 0, 0, 0, 0, 0, 0, 0, 0, 0, 0, 1, 0, 0, 0, 0, 0, 0, 0, 0, 0, 0, 0, 0, 1, 0, 1, 0, 0, 0, 0] and [1, 1, 0, 0, 0, 1, 0, 0, 0, 1, 1, 1, 1, 1, 0, 1, 0, 0, 1, 0, 0, 0, 1, 1, 1, 0, 0, 0, 0, 1, 1, 1, 1, 0, 1, 0, 0, 0, 0, 1] is 0.0\n",
      "cosine distance between [0, 0, 0, 0, 0, 0, 0, 0, 0, 1, 0, 0, 0, 0, 0, 0, 0, 0, 1, 1, 0, 0] and [1, 1, 1, 1, 1, 1, 1, 0, 0, 0, 1, 1, 0, 0, 0, 1, 1, 0, 0, 0, 1, 0] is 0.0\n",
      "cosine distance between [0, 0, 0, 0, 0, 0, 0, 0, 0, 0, 0, 0, 0, 0, 0, 0, 0, 0, 0, 0, 0, 0, 1, 0, 0, 0, 0, 0, 0, 1, 1, 0, 0, 0, 0] and [0, 1, 1, 1, 0, 1, 1, 0, 0, 1, 1, 0, 1, 1, 1, 1, 1, 0, 1, 1, 0, 0, 0, 0, 1, 1, 0, 0, 0, 0, 0, 1, 0, 0, 2] is 0.0\n",
      "cosine distance between [0, 0, 0, 0, 0, 0, 0, 0, 0, 0, 0, 0, 0, 0, 1, 0, 0, 0, 0, 0, 0, 0, 1, 1, 0] and [0, 1, 1, 1, 1, 1, 0, 0, 1, 1, 1, 0, 0, 0, 0, 0, 0, 1, 1, 0, 1, 0, 0, 0, 1] is 0.0\n",
      "cosine distance between [0, 0, 0, 0, 0, 0, 0, 0, 0, 0, 1, 0, 0, 0, 0, 0, 0, 0, 0, 1, 1, 0, 0, 0, 0, 0] and [1, 1, 1, 0, 1, 1, 1, 0, 0, 0, 0, 1, 1, 1, 0, 0, 0, 1, 1, 0, 0, 0, 1, 0, 1, 0] is 0.0\n",
      "cosine distance between [0, 0, 0, 0, 0, 1, 0, 1, 0, 1, 0, 0, 0, 0, 0, 0, 0] and [0, 1, 1, 0, 1, 0, 1, 0, 0, 0, 0, 1, 1, 1, 0, 0, 0] is 0.0\n",
      "cosine distance between [0, 0, 0, 0, 1, 0, 1, 1, 0, 0, 0] and [0, 1, 0, 0, 0, 1, 0, 0, 1, 0, 0] is 0.0\n",
      "cosine distance between [0, 0, 0, 0, 0, 0, 1, 0, 0, 1, 1, 0, 0] and [1, 0, 1, 0, 0, 1, 0, 0, 1, 0, 0, 0, 0] is 0.0\n",
      "cosine distance between [0, 0, 0, 0, 0, 0, 0, 0, 0, 0, 0, 0, 0, 1, 0, 0, 0, 0, 1, 0, 1, 0] and [1, 0, 0, 1, 0, 1, 0, 1, 1, 0, 0, 1, 0, 0, 0, 0, 0, 1, 0, 1, 0, 0] is 0.0\n",
      "cosine distance between [0, 0, 1, 0, 1, 1, 0, 0] and [0, 0, 0, 1, 0, 0, 0, 0] is 0.0\n",
      "cosine distance between [0, 0, 1, 1, 0, 1, 0, 0, 1, 0, 1, 1, 1, 0, 0, 0, 0, 1, 0, 0] and [1, 0, 0, 0, 0, 0, 0, 0, 0, 0, 0, 0, 0, 1, 1, 0, 0, 0, 2, 0] is 0.0\n",
      "cosine distance between [1, 0, 0, 0, 0, 0, 1, 0, 1, 0, 0, 0, 0, 0, 1, 0, 0, 0, 0, 1, 0, 0, 0, 0, 0, 1, 0, 0, 0, 0, 0, 0, 0, 0, 0, 0, 0, 0, 1, 0, 0, 0, 0, 1, 0, 0, 0, 0] and [0, 1, 1, 0, 0, 0, 0, 0, 0, 0, 1, 0, 1, 0, 0, 0, 0, 1, 1, 0, 1, 1, 0, 1, 0, 0, 0, 1, 0, 1, 1, 1, 0, 0, 0, 0, 0, 1, 0, 1, 1, 1, 1, 0, 0, 0, 0, 1] is 0.0\n",
      "cosine distance between [1, 0, 0, 1, 0, 0, 1, 0, 0, 0, 1, 0, 0, 0, 1, 0, 0, 1, 0, 0, 0, 0, 1, 0, 0, 0, 0, 1, 0] and [0, 0, 0, 0, 1, 0, 0, 1, 0, 1, 0, 1, 1, 1, 0, 1, 0, 0, 0, 1, 1, 0, 0, 0, 1, 1, 0, 0, 1] is 0.0\n",
      "cosine distance between [0, 1, 0, 0, 0, 0, 0, 1, 0, 0, 0, 1, 0, 0, 1, 0, 0, 0, 0, 0, 0, 1, 0, 0, 0, 0, 0, 1, 0, 0, 0, 0, 1, 0, 0, 1, 0, 0, 0, 0] and [0, 0, 1, 1, 1, 0, 0, 0, 1, 1, 0, 0, 0, 0, 0, 1, 1, 0, 1, 1, 1, 0, 1, 1, 0, 1, 1, 0, 0, 1, 0, 1, 0, 0, 0, 0, 1, 0, 0, 2] is 0.0\n",
      "cosine distance between [1, 0, 0, 1, 0, 1, 0, 0, 0, 0, 0, 0, 0, 1, 0, 0, 1, 0, 0, 0, 0, 1, 0, 0, 0, 0, 0, 0, 1, 0, 1, 0] and [0, 0, 0, 0, 0, 0, 1, 1, 1, 1, 1, 0, 0, 0, 0, 1, 0, 1, 1, 0, 0, 0, 0, 0, 1, 1, 0, 1, 0, 0, 0, 1] is 0.0\n",
      "cosine distance between [1, 0, 0, 0, 0, 1, 0, 0, 0, 1, 0, 0, 1, 0, 0, 0, 1, 0, 1, 0, 0, 0, 0, 0, 0, 0, 1, 0, 0, 1, 0, 0, 0, 0] and [0, 1, 1, 0, 0, 0, 1, 0, 0, 0, 1, 0, 0, 1, 1, 0, 0, 0, 0, 0, 1, 1, 1, 0, 0, 0, 0, 1, 1, 0, 0, 1, 0, 1] is 0.0\n",
      "cosine distance between [1, 0, 0, 0, 1, 0, 1, 0, 0, 1, 0, 1, 0, 0, 0, 1, 0, 0, 0, 1, 0, 0, 1, 0, 0] and [0, 1, 0, 0, 0, 0, 0, 0, 0, 0, 0, 0, 1, 0, 1, 0, 0, 1, 0, 0, 1, 1, 0, 0, 1] is 0.0\n",
      "cosine distance between [0, 1, 0, 1, 0, 0, 1, 0, 0, 1, 0, 1, 1, 1, 0, 0, 1, 0] and [0, 0, 1, 0, 0, 0, 0, 0, 0, 1, 0, 0, 0, 0, 1, 0, 0, 0] is 0.20412414523193145\n",
      "cosine distance between [0, 0, 1, 0, 1, 0, 0, 1, 0, 0, 0, 1, 0, 1, 1, 1, 0, 1, 0] and [1, 0, 0, 1, 0, 0, 0, 0, 0, 0, 1, 1, 0, 0, 0, 0, 0, 0, 0] is 0.17677669529663687\n",
      "cosine distance between [1, 0, 0, 1, 0, 1, 0, 1, 1, 0, 0, 1, 0, 0, 0, 0, 0, 1, 0, 1, 0, 0] and [0, 0, 0, 0, 0, 0, 0, 0, 0, 0, 0, 0, 0, 1, 0, 0, 0, 0, 1, 0, 1, 0] is 0.0\n",
      "cosine distance between [0, 1, 1, 0, 1, 0, 0, 0, 1, 0, 1, 1, 1, 0, 1, 0] and [0, 0, 0, 0, 0, 0, 0, 1, 0, 0, 0, 0, 0, 0, 0, 0] is 0.0\n",
      "cosine distance between [0, 1, 0, 0, 0, 0] and [1, 0, 1, 0, 1, 2] is 0.0\n",
      "cosine distance between [0, 0, 0, 0, 0, 0, 0, 0, 0, 0, 0, 0, 0, 0, 0, 0, 0, 0, 1, 0, 0, 0, 0, 0, 0, 0, 0, 0, 0, 0, 0, 0, 0, 0, 0, 0] and [1, 1, 0, 0, 1, 0, 0, 0, 1, 1, 1, 1, 1, 0, 1, 0, 1, 0, 0, 0, 1, 1, 1, 0, 0, 0, 0, 1, 1, 1, 1, 1, 0, 0, 0, 1] is 0.0\n",
      "cosine distance between [0, 0, 0, 1, 0, 0, 0, 0, 0, 0, 0, 0, 0, 0, 0, 0] and [0, 1, 0, 0, 1, 1, 0, 1, 1, 1, 1, 1, 1, 1, 1, 1] is 0.0\n",
      "cosine distance between [0, 0, 0, 0, 0, 0, 0, 0, 0, 0, 0, 0, 0, 0, 0, 0, 0, 0, 0, 0, 1, 0, 0, 0, 0, 0, 0, 0, 0] and [0, 1, 1, 1, 1, 1, 0, 0, 1, 1, 0, 1, 1, 1, 1, 1, 0, 1, 1, 0, 0, 1, 1, 0, 0, 1, 0, 0, 2] is 0.0\n",
      "cosine distance between [0, 0, 0, 0, 1, 0, 0, 0, 0, 0, 0, 0, 0, 0, 0, 0, 0, 0, 0] and [0, 0, 1, 0, 0, 1, 1, 1, 1, 1, 1, 1, 1, 0, 0, 1, 0, 1, 1] is 0.0\n",
      "cosine distance between [0, 0, 0, 0, 0, 0, 1, 0, 0, 0, 0, 0, 0, 0, 0, 0, 0, 0, 0, 0, 0] and [0, 1, 1, 1, 1, 0, 0, 0, 1, 1, 1, 1, 1, 0, 0, 1, 1, 1, 0, 1, 0] is 0.0\n",
      "cosine distance between [0, 0, 0, 1, 0, 0, 0, 0, 0, 0, 0] and [1, 1, 1, 0, 1, 0, 1, 0, 1, 1, 0] is 0.0\n",
      "cosine distance between [1, 0, 0, 0, 0] and [0, 1, 1, 0, 1] is 0.0\n",
      "cosine distance between [0, 0, 0, 0, 1, 0, 0] and [1, 1, 0, 1, 0, 0, 1] is 0.0\n",
      "cosine distance between [0, 0, 1, 0, 0, 0, 0, 0] and [0, 0, 0, 1, 1, 1, 0, 0] is 0.0\n",
      "cosine distance between [0, 0, 0, 0, 0, 0, 1, 0, 0, 0, 0, 0, 0, 0, 0, 0] and [0, 1, 1, 0, 1, 0, 0, 0, 1, 0, 1, 1, 1, 0, 1, 0] is 0.0\n",
      "sent sim mat  [[0.         0.         0.         0.         0.         0.\n",
      "  0.         0.         0.         0.         0.         0.        ]\n",
      " [0.         0.         0.         0.10012523 0.         0.\n",
      "  0.086711   0.         0.         0.         0.         0.        ]\n",
      " [0.         0.         0.         0.         0.         0.\n",
      "  0.         0.         0.         0.         0.         0.        ]\n",
      " [0.         0.10012523 0.         0.         0.12598816 0.\n",
      "  0.08247861 0.         0.         0.         0.         0.        ]\n",
      " [0.         0.         0.         0.12598816 0.         0.\n",
      "  0.         0.         0.         0.         0.         0.        ]\n",
      " [0.         0.         0.         0.         0.         0.\n",
      "  0.         0.         0.         0.         0.         0.        ]\n",
      " [0.         0.086711   0.         0.08247861 0.         0.\n",
      "  0.         0.         0.         0.         0.         0.        ]\n",
      " [0.         0.         0.         0.         0.         0.\n",
      "  0.         0.         0.28867513 0.         0.20412415 0.        ]\n",
      " [0.         0.         0.         0.         0.         0.\n",
      "  0.         0.28867513 0.         0.         0.1767767  0.        ]\n",
      " [0.         0.         0.         0.         0.         0.\n",
      "  0.         0.         0.         0.         0.         0.        ]\n",
      " [0.         0.         0.         0.         0.         0.\n",
      "  0.         0.20412415 0.1767767  0.         0.         0.        ]\n",
      " [0.         0.         0.         0.         0.         0.\n",
      "  0.         0.         0.         0.         0.         0.        ]]\n",
      "sent sim graph \n",
      "scores {0: 0.019354838712417798, 1: 0.12191869639921651, 2: 0.019354838712417798, 3: 0.19527724881961125, 4: 0.08711981369854191, 5: 0.019354838712417798, 6: 0.11181327333286506, 7: 0.14103205915689782, 8: 0.13384604246184673, 9: 0.019354838712417798, 10: 0.11221867256893145, 11: 0.019354838712417798}\n",
      "Indexes of top ranked_sentence order are  OrderedDict([(3, 0.19527724881961125), (7, 0.14103205915689782), (8, 0.13384604246184673), (1, 0.12191869639921651), (10, 0.11221867256893145)])\n"
     ]
    },
    {
     "data": {
      "text/plain": [
       "'At 15, the young artist would sit in her bedroom where she would write and post songs on HitRecord, an online production company founded by the actor and director Joseph Gordon-Levitt. Like us on Facebook. Follow us on Twitter and Instagram. In this episode, we meet Peppina, a Finnish singer/songwriter turned pop star who was afraid to share her music with her own community, so instead she went online and played her songs for the rest of the world. Pitch us an artist, or simply spread the word and find out more about the series.'"
      ]
     },
     "execution_count": 110,
     "metadata": {},
     "output_type": "execute_result"
    }
   ],
   "source": [
    " generate_summary()"
   ]
  },
  {
   "cell_type": "code",
   "execution_count": 111,
   "metadata": {
    "collapsed": false
   },
   "outputs": [
    {
     "data": {
      "text/plain": [
       "'At 15, the young artist would sit in her bedroom where she would write and post songs on HitRecord, an online production company founded by the actor and director Joseph Gordon-Levitt.\\nThere she would attract the attention of artists around the globe, quickly becoming the most downloaded musician working on the site.\\nThe producer, Brad Newman hosts this episode that follows a girl from a small island in Helsinki to the biggest stages in America.\\nAs one of her songs suggests, Peppina \"makes make-believe believable.\"\\nPitch us an artist, or simply spread the word and find out more about the series.'"
      ]
     },
     "execution_count": 111,
     "metadata": {},
     "output_type": "execute_result"
    }
   ],
   "source": [
    "df_articles['SUMMARY'][0]"
   ]
  },
  {
   "cell_type": "code",
   "execution_count": 113,
   "metadata": {
    "collapsed": false
   },
   "outputs": [
    {
     "data": {
      "text/plain": [
       "['Audio clip: Listen to audio clip.',\n",
       " 'In this episode, we meet Peppina, a Finnish singer/songwriter turned pop star who was afraid to share her music with her own community, so instead she went online and played her songs for the rest of the world.',\n",
       " 'Subscribe and download on your favorite podcast platform: Apple Podcasts, Google Play, Tune In, Stitcher.',\n",
       " 'At 15, the young artist would sit in her bedroom where she would write and post songs on HitRecord, an online production company founded by the actor and director Joseph Gordon-Levitt.',\n",
       " 'There she would attract the attention of artists around the globe, quickly becoming the most downloaded musician working on the site.',\n",
       " 'The producer, Brad Newman hosts this episode that follows a girl from a small island in Helsinki to the biggest stages in America.',\n",
       " 'As one of her songs suggests, Peppina \"makes make-believe believable.\"',\n",
       " 'Like us on Facebook.',\n",
       " 'Follow us on Twitter and Instagram.',\n",
       " 'We want to know what you think.',\n",
       " 'Pitch us an artist, or simply spread the word and find out more about the series.',\n",
       " '#childrenofsong']"
      ]
     },
     "execution_count": 113,
     "metadata": {},
     "output_type": "execute_result"
    }
   ],
   "source": [
    "sentences"
   ]
  },
  {
   "cell_type": "code",
   "execution_count": 147,
   "metadata": {
    "collapsed": false
   },
   "outputs": [
    {
     "data": {
      "text/plain": [
       "array([0., 0., 0., 0., 0., 0., 0.])"
      ]
     },
     "execution_count": 147,
     "metadata": {},
     "output_type": "execute_result"
    }
   ],
   "source": [
    "np.zeros([len(s)])\n",
    "#len(s)"
   ]
  },
  {
   "cell_type": "code",
   "execution_count": 86,
   "metadata": {
    "collapsed": false
   },
   "outputs": [
    {
     "data": {
      "text/plain": [
       "[(2, 14), (3, 13), (0, 12)]"
      ]
     },
     "execution_count": 86,
     "metadata": {},
     "output_type": "execute_result"
    }
   ],
   "source": [
    "\n",
    "d = {0: 12, 2: 14, 3: 13, 4: 11, 5: 10}\n",
    "\n",
    "\n",
    "sorted_d = sorted(d.items(), key=operator.itemgetter(1),reverse=True)[:3]\n",
    "sorted_d"
   ]
  },
  {
   "cell_type": "code",
   "execution_count": 90,
   "metadata": {
    "collapsed": false
   },
   "outputs": [
    {
     "name": "stdout",
     "output_type": "stream",
     "text": [
      "2\n",
      "3\n",
      "0\n"
     ]
    }
   ],
   "source": [
    "#sentences[]\n",
    "\n",
    "sorted_dict = collections.OrderedDict(sorted_d)\n",
    "for key in sorted_dict.keys():\n",
    "    #print(sentences[key])\n",
    "    print(key)"
   ]
  }
 ],
 "metadata": {
  "anaconda-cloud": {},
  "kernelspec": {
   "display_name": "Python [conda env:tensorflow]",
   "language": "python",
   "name": "conda-env-tensorflow-py"
  },
  "language_info": {
   "codemirror_mode": {
    "name": "ipython",
    "version": 3
   },
   "file_extension": ".py",
   "mimetype": "text/x-python",
   "name": "python",
   "nbconvert_exporter": "python",
   "pygments_lexer": "ipython3",
   "version": "3.5.3"
  }
 },
 "nbformat": 4,
 "nbformat_minor": 1
}
